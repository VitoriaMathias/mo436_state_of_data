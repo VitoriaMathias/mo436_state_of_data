{
 "cells": [
  {
   "cell_type": "code",
   "execution_count": 1,
   "metadata": {},
   "outputs": [
    {
     "name": "stderr",
     "output_type": "stream",
     "text": [
      "c:\\Users\\vi_ma\\anaconda3\\lib\\site-packages\\scipy\\__init__.py:146: UserWarning: A NumPy version >=1.16.5 and <1.23.0 is required for this version of SciPy (detected version 1.26.4\n",
      "  warnings.warn(f\"A NumPy version >={np_minversion} and <{np_maxversion}\"\n"
     ]
    }
   ],
   "source": [
    "import pandas as pd\n",
    "import re\n",
    "from imblearn.over_sampling import ADASYN, RandomOverSampler\n",
    "from imblearn.under_sampling import RandomUnderSampler"
   ]
  },
  {
   "cell_type": "code",
   "execution_count": 2,
   "metadata": {},
   "outputs": [],
   "source": [
    "# Import data\n",
    "train = pd.read_csv(\"../data/train_complete.csv\")\n",
    "test = pd.read_csv(\"../data/test_complete.csv\")"
   ]
  },
  {
   "cell_type": "markdown",
   "metadata": {},
   "source": [
    "## Resampling"
   ]
  },
  {
   "cell_type": "code",
   "execution_count": 117,
   "metadata": {},
   "outputs": [],
   "source": [
    "# Dataprep - toda transformação deve ser criada sobre o teste e somente aplicada sobre o treino\n",
    "def apply_random_oversampling(df, oversample_col='', exclude_category=None):\n",
    "    '''\n",
    "    df: dataframe with all columns\n",
    "    oversample_col: column to apply the oversampling\n",
    "    exclude_category: list of categories on oversample_col to set apart while oversampling\n",
    "    '''\n",
    "    df_cat = pd.DataFrame(columns = df.columns)\n",
    "    df_ = df.copy()\n",
    "    \n",
    "    # Separando categorias específica se necessário\n",
    "    if exclude_category is not None:\n",
    "        \n",
    "        for cat in exclude_category:\n",
    "            \n",
    "            df_cat = pd.concat([df_cat, df[df[oversample_col]==cat]]).reset_index(drop=True)\n",
    "            \n",
    "            # removendo categorias que não serão oversampled\n",
    "            df_ = df_[df[oversample_col]!=cat].reset_index()\n",
    "    \n",
    "    # Separando coluna de oversampling\n",
    "    X = df_.drop(columns=[oversample_col])\n",
    "    y = df_[oversample_col]\n",
    "\n",
    "    # Aplicando Random Oversampling\n",
    "    oversampler = RandomOverSampler(sampling_strategy='auto', random_state=42)\n",
    "    X_resampled, y_resampled = oversampler.fit_resample(X, y)\n",
    "\n",
    "    df_resampled = pd.DataFrame(X_resampled, columns=X.columns)\n",
    "    df_resampled[oversample_col] = y_resampled\n",
    "\n",
    "    # Exibir o DataFrame balanceado\n",
    "    print(df_resampled[oversample_col].value_counts())\n",
    "    \n",
    "    # inserindo de volta as categorias que foram separadas\n",
    "    if not df_cat.empty:\n",
    "        df_resampled = pd.concat([df_resampled, df_cat]).reset_index(drop=True)\n",
    "        \n",
    "    return df_resampled"
   ]
  },
  {
   "cell_type": "code",
   "execution_count": 118,
   "metadata": {},
   "outputs": [],
   "source": [
    "def apply_random_undersampling(df, undersample_col='', strategy={}):\n",
    "    '''\n",
    "    df: dataframe with all columns\n",
    "    undersample_col: column to apply the undersampling\n",
    "    srtategy: dictionary with the category as key and number of samples requested as value\n",
    "    '''\n",
    "\n",
    "    X = df.drop(columns=[undersample_col])\n",
    "    y = df[undersample_col]\n",
    "\n",
    "    # aplicando undersampling\n",
    "    undersampler = RandomUnderSampler(sampling_strategy=strategy, random_state=42)\n",
    "    X_resampled, y_resampled = undersampler.fit_resample(X, y)\n",
    "\n",
    "    df_resampled = pd.DataFrame(X_resampled, columns=X.columns)\n",
    "    df_resampled[undersample_col] = y_resampled\n",
    "\n",
    "    # Exibir o DataFrame balanceado e a distribuição de classes\n",
    "    print(df_resampled[undersample_col].value_counts())\n",
    "    \n",
    "    return df_resampled"
   ]
  },
  {
   "cell_type": "code",
   "execution_count": 3,
   "metadata": {},
   "outputs": [],
   "source": [
    "# col_raca = 'P1_c'\n",
    "# col_genero = 'P1_b'\n",
    "# col_idade ='P1_a_1'\n",
    "# # col_regiao = 'P1_i_2'\n",
    "\n",
    "# cols_resampling = [col_raca, col_genero, col_idade ] # , col_regiao]\n",
    "\n",
    "# df_resampled = train.copy()\n",
    "\n",
    "# for col in cols_resampling:\n",
    "#     df_resampled = apply_random_oversampling(df_resampled, oversample_col=col)"
   ]
  },
  {
   "cell_type": "markdown",
   "metadata": {},
   "source": [
    "## Teste pulando oversampling"
   ]
  },
  {
   "cell_type": "code",
   "execution_count": 4,
   "metadata": {},
   "outputs": [],
   "source": [
    "df_resampled = train.copy()"
   ]
  },
  {
   "cell_type": "code",
   "execution_count": 122,
   "metadata": {},
   "outputs": [],
   "source": [
    "# !pip install seaborn"
   ]
  },
  {
   "cell_type": "code",
   "execution_count": 5,
   "metadata": {},
   "outputs": [],
   "source": [
    "onehot = [\"P1_m\", \"P3_c\",\"P4_a\",\"P4_b\", \"P4_c\", \"P4_d\", \"P4_e\", \"P4_g\", \"P4_j\", \"P5_b\", \"P6_a\", \"P6_b\", \"P6_g\", \"P6_h\", \"P7_a\", \"P7_b\", \"P7_d\", \"P8_a\", \"P8_b\", \"P8_c\", \"P8_d\", \"P2_b\", \"P2_d\", \"P2_f\", \"P2_o\", \"P2_r\", \"P6_c\", \"P6_d\", \"P6_e\", \"P6_f\"]\n",
    "ordered = [\"P1_l\", \"P2_e\", \"P2_g\", \"P2_i\", \"P2_j\", \"P2_h\"]\n",
    "\n",
    "# df_feat_selected = df_resampled[ [x +endswith(\"(OneHot)\") for x in onehot ] + [x +endswith(\"(OrdEnc)\") for x in ordered] ]\n"
   ]
  },
  {
   "cell_type": "code",
   "execution_count": 6,
   "metadata": {},
   "outputs": [],
   "source": [
    "\n",
    "onehot_cols = [col for col in df_resampled.columns if any(col.startswith(c) for c in onehot) and col.endswith('(OneHot)')]\n",
    "ordered_cols = [col for col in df_resampled.columns if any(col.startswith(c) for c in ordered) and col.endswith('(OrdEnc)')]\n",
    "df_feat_selected = df_resampled[onehot_cols+ordered_cols]"
   ]
  },
  {
   "cell_type": "code",
   "execution_count": 7,
   "metadata": {},
   "outputs": [
    {
     "data": {
      "text/html": [
       "<div>\n",
       "<style scoped>\n",
       "    .dataframe tbody tr th:only-of-type {\n",
       "        vertical-align: middle;\n",
       "    }\n",
       "\n",
       "    .dataframe tbody tr th {\n",
       "        vertical-align: top;\n",
       "    }\n",
       "\n",
       "    .dataframe thead th {\n",
       "        text-align: right;\n",
       "    }\n",
       "</style>\n",
       "<table border=\"1\" class=\"dataframe\">\n",
       "  <thead>\n",
       "    <tr style=\"text-align: right;\">\n",
       "      <th></th>\n",
       "      <th>P1_m_Ciências Biológicas/ Farmácia/ Medicina/ Área da Saúde(OneHot)</th>\n",
       "      <th>P1_m_Ciências Sociais(OneHot)</th>\n",
       "      <th>P1_m_Computação / Engenharia de Software / Sistemas de Informação/ TI(OneHot)</th>\n",
       "      <th>P1_m_Economia/ Administração / Contabilidade / Finanças/ Negócios(OneHot)</th>\n",
       "      <th>P1_m_Estatística/ Matemática / Matemática Computacional/ Ciências Atuariais(OneHot)</th>\n",
       "      <th>P1_m_Marketing / Publicidade / Comunicação / Jornalismo(OneHot)</th>\n",
       "      <th>P1_m_Outra opção(OneHot)</th>\n",
       "      <th>P1_m_Outras Engenharias(OneHot)</th>\n",
       "      <th>P1_m_Química / Física(OneHot)</th>\n",
       "      <th>P1_m_nan(OneHot)</th>\n",
       "      <th>...</th>\n",
       "      <th>P6_g_Presto(OneHot)</th>\n",
       "      <th>P6_g_Snowflake(OneHot)</th>\n",
       "      <th>P6_g_Teradata(OneHot)</th>\n",
       "      <th>P6_g_nan(OneHot)</th>\n",
       "      <th>P1_l(OrdEnc)</th>\n",
       "      <th>P2_e(OrdEnc)</th>\n",
       "      <th>P2_g(OrdEnc)</th>\n",
       "      <th>P2_i(OrdEnc)</th>\n",
       "      <th>P2_j(OrdEnc)</th>\n",
       "      <th>P2_h(OrdEnc)</th>\n",
       "    </tr>\n",
       "  </thead>\n",
       "  <tbody>\n",
       "    <tr>\n",
       "      <th>0</th>\n",
       "      <td>False</td>\n",
       "      <td>False</td>\n",
       "      <td>True</td>\n",
       "      <td>False</td>\n",
       "      <td>False</td>\n",
       "      <td>False</td>\n",
       "      <td>False</td>\n",
       "      <td>False</td>\n",
       "      <td>False</td>\n",
       "      <td>False</td>\n",
       "      <td>...</td>\n",
       "      <td>False</td>\n",
       "      <td>False</td>\n",
       "      <td>False</td>\n",
       "      <td>True</td>\n",
       "      <td>5</td>\n",
       "      <td>4</td>\n",
       "      <td>-1</td>\n",
       "      <td>6</td>\n",
       "      <td>2</td>\n",
       "      <td>10</td>\n",
       "    </tr>\n",
       "    <tr>\n",
       "      <th>1</th>\n",
       "      <td>False</td>\n",
       "      <td>False</td>\n",
       "      <td>True</td>\n",
       "      <td>False</td>\n",
       "      <td>False</td>\n",
       "      <td>False</td>\n",
       "      <td>False</td>\n",
       "      <td>False</td>\n",
       "      <td>False</td>\n",
       "      <td>False</td>\n",
       "      <td>...</td>\n",
       "      <td>False</td>\n",
       "      <td>False</td>\n",
       "      <td>False</td>\n",
       "      <td>True</td>\n",
       "      <td>4</td>\n",
       "      <td>0</td>\n",
       "      <td>-1</td>\n",
       "      <td>6</td>\n",
       "      <td>6</td>\n",
       "      <td>9</td>\n",
       "    </tr>\n",
       "    <tr>\n",
       "      <th>2</th>\n",
       "      <td>False</td>\n",
       "      <td>False</td>\n",
       "      <td>True</td>\n",
       "      <td>False</td>\n",
       "      <td>False</td>\n",
       "      <td>False</td>\n",
       "      <td>False</td>\n",
       "      <td>False</td>\n",
       "      <td>False</td>\n",
       "      <td>False</td>\n",
       "      <td>...</td>\n",
       "      <td>False</td>\n",
       "      <td>False</td>\n",
       "      <td>False</td>\n",
       "      <td>True</td>\n",
       "      <td>6</td>\n",
       "      <td>2</td>\n",
       "      <td>-1</td>\n",
       "      <td>4</td>\n",
       "      <td>1</td>\n",
       "      <td>9</td>\n",
       "    </tr>\n",
       "    <tr>\n",
       "      <th>3</th>\n",
       "      <td>False</td>\n",
       "      <td>False</td>\n",
       "      <td>False</td>\n",
       "      <td>False</td>\n",
       "      <td>False</td>\n",
       "      <td>False</td>\n",
       "      <td>False</td>\n",
       "      <td>False</td>\n",
       "      <td>False</td>\n",
       "      <td>True</td>\n",
       "      <td>...</td>\n",
       "      <td>False</td>\n",
       "      <td>False</td>\n",
       "      <td>False</td>\n",
       "      <td>False</td>\n",
       "      <td>1</td>\n",
       "      <td>-1</td>\n",
       "      <td>1</td>\n",
       "      <td>2</td>\n",
       "      <td>1</td>\n",
       "      <td>5</td>\n",
       "    </tr>\n",
       "    <tr>\n",
       "      <th>4</th>\n",
       "      <td>False</td>\n",
       "      <td>False</td>\n",
       "      <td>False</td>\n",
       "      <td>True</td>\n",
       "      <td>False</td>\n",
       "      <td>False</td>\n",
       "      <td>False</td>\n",
       "      <td>False</td>\n",
       "      <td>False</td>\n",
       "      <td>False</td>\n",
       "      <td>...</td>\n",
       "      <td>False</td>\n",
       "      <td>False</td>\n",
       "      <td>False</td>\n",
       "      <td>True</td>\n",
       "      <td>4</td>\n",
       "      <td>-1</td>\n",
       "      <td>1</td>\n",
       "      <td>2</td>\n",
       "      <td>0</td>\n",
       "      <td>3</td>\n",
       "    </tr>\n",
       "  </tbody>\n",
       "</table>\n",
       "<p>5 rows × 93 columns</p>\n",
       "</div>"
      ],
      "text/plain": [
       "   P1_m_Ciências Biológicas/ Farmácia/ Medicina/ Área da Saúde(OneHot)  \\\n",
       "0                                              False                     \n",
       "1                                              False                     \n",
       "2                                              False                     \n",
       "3                                              False                     \n",
       "4                                              False                     \n",
       "\n",
       "   P1_m_Ciências Sociais(OneHot)  \\\n",
       "0                          False   \n",
       "1                          False   \n",
       "2                          False   \n",
       "3                          False   \n",
       "4                          False   \n",
       "\n",
       "   P1_m_Computação / Engenharia de Software / Sistemas de Informação/ TI(OneHot)  \\\n",
       "0                                               True                               \n",
       "1                                               True                               \n",
       "2                                               True                               \n",
       "3                                              False                               \n",
       "4                                              False                               \n",
       "\n",
       "   P1_m_Economia/ Administração / Contabilidade / Finanças/ Negócios(OneHot)  \\\n",
       "0                                              False                           \n",
       "1                                              False                           \n",
       "2                                              False                           \n",
       "3                                              False                           \n",
       "4                                               True                           \n",
       "\n",
       "   P1_m_Estatística/ Matemática / Matemática Computacional/ Ciências Atuariais(OneHot)  \\\n",
       "0                                              False                                     \n",
       "1                                              False                                     \n",
       "2                                              False                                     \n",
       "3                                              False                                     \n",
       "4                                              False                                     \n",
       "\n",
       "   P1_m_Marketing / Publicidade / Comunicação / Jornalismo(OneHot)  \\\n",
       "0                                              False                 \n",
       "1                                              False                 \n",
       "2                                              False                 \n",
       "3                                              False                 \n",
       "4                                              False                 \n",
       "\n",
       "   P1_m_Outra opção(OneHot)  P1_m_Outras Engenharias(OneHot)  \\\n",
       "0                     False                            False   \n",
       "1                     False                            False   \n",
       "2                     False                            False   \n",
       "3                     False                            False   \n",
       "4                     False                            False   \n",
       "\n",
       "   P1_m_Química / Física(OneHot)  P1_m_nan(OneHot)  ...  P6_g_Presto(OneHot)  \\\n",
       "0                          False             False  ...                False   \n",
       "1                          False             False  ...                False   \n",
       "2                          False             False  ...                False   \n",
       "3                          False              True  ...                False   \n",
       "4                          False             False  ...                False   \n",
       "\n",
       "   P6_g_Snowflake(OneHot)  P6_g_Teradata(OneHot)  P6_g_nan(OneHot)  \\\n",
       "0                   False                  False              True   \n",
       "1                   False                  False              True   \n",
       "2                   False                  False              True   \n",
       "3                   False                  False             False   \n",
       "4                   False                  False              True   \n",
       "\n",
       "   P1_l(OrdEnc)  P2_e(OrdEnc)  P2_g(OrdEnc)  P2_i(OrdEnc)  P2_j(OrdEnc)  \\\n",
       "0             5             4            -1             6             2   \n",
       "1             4             0            -1             6             6   \n",
       "2             6             2            -1             4             1   \n",
       "3             1            -1             1             2             1   \n",
       "4             4            -1             1             2             0   \n",
       "\n",
       "   P2_h(OrdEnc)  \n",
       "0            10  \n",
       "1             9  \n",
       "2             9  \n",
       "3             5  \n",
       "4             3  \n",
       "\n",
       "[5 rows x 93 columns]"
      ]
     },
     "execution_count": 7,
     "metadata": {},
     "output_type": "execute_result"
    }
   ],
   "source": [
    "df_feat_selected.head()"
   ]
  },
  {
   "cell_type": "code",
   "execution_count": 8,
   "metadata": {},
   "outputs": [],
   "source": [
    "test_feat_selected = test[onehot_cols+ordered_cols]"
   ]
  },
  {
   "cell_type": "code",
   "execution_count": 9,
   "metadata": {},
   "outputs": [],
   "source": [
    "X_train = df_feat_selected.drop(columns=['P2_h(OrdEnc)'])\n",
    "y_train = df_feat_selected['P2_h(OrdEnc)']\n",
    "\n",
    "X_test = test_feat_selected.drop(columns=['P2_h(OrdEnc)'])\n",
    "y_test = test_feat_selected['P2_h(OrdEnc)']"
   ]
  },
  {
   "cell_type": "code",
   "execution_count": 13,
   "metadata": {},
   "outputs": [],
   "source": [
    "import pandas as pd\n",
    "from sklearn.model_selection import train_test_split\n",
    "from sklearn.preprocessing import StandardScaler, OneHotEncoder\n",
    "from sklearn.impute import SimpleImputer\n",
    "from sklearn.feature_selection import VarianceThreshold\n",
    "from sklearn.discriminant_analysis import QuadraticDiscriminantAnalysis\n",
    "from sklearn.linear_model import LogisticRegression\n",
    "from sklearn.neighbors import KNeighborsClassifier\n",
    "from sklearn.tree import DecisionTreeClassifier\n",
    "from sklearn.model_selection import RandomizedSearchCV\n",
    "from sklearn.metrics import accuracy_score, precision_score, recall_score, f1_score\n",
    "import joblib"
   ]
  },
  {
   "cell_type": "code",
   "execution_count": 12,
   "metadata": {},
   "outputs": [
    {
     "name": "stderr",
     "output_type": "stream",
     "text": [
      "c:\\Users\\vi_ma\\anaconda3\\lib\\site-packages\\sklearn\\model_selection\\_validation.py:372: FitFailedWarning: \n",
      "5 fits failed out of a total of 50.\n",
      "The score on these train-test partitions for these parameters will be set to nan.\n",
      "If these failures are not expected, you can try to debug them by setting error_score='raise'.\n",
      "\n",
      "Below are more details about the failures:\n",
      "--------------------------------------------------------------------------------\n",
      "5 fits failed with the following error:\n",
      "Traceback (most recent call last):\n",
      "  File \"c:\\Users\\vi_ma\\anaconda3\\lib\\site-packages\\sklearn\\model_selection\\_validation.py\", line 680, in _fit_and_score\n",
      "    estimator.fit(X_train, y_train, **fit_params)\n",
      "  File \"c:\\Users\\vi_ma\\anaconda3\\lib\\site-packages\\sklearn\\linear_model\\_logistic.py\", line 1519, in fit\n",
      "    multi_class = _check_multi_class(self.multi_class, solver, len(self.classes_))\n",
      "  File \"c:\\Users\\vi_ma\\anaconda3\\lib\\site-packages\\sklearn\\linear_model\\_logistic.py\", line 483, in _check_multi_class\n",
      "    raise ValueError(\"Solver %s does not support a multinomial backend.\" % solver)\n",
      "ValueError: Solver liblinear does not support a multinomial backend.\n",
      "\n",
      "  warnings.warn(some_fits_failed_message, FitFailedWarning)\n",
      "c:\\Users\\vi_ma\\anaconda3\\lib\\site-packages\\sklearn\\model_selection\\_search.py:969: UserWarning: One or more of the test scores are non-finite: [0.29229131 0.30939588 0.29913583 0.30386922 0.30781762        nan\n",
      " 0.29202849 0.32044367 0.32044298 0.32123176]\n",
      "  warnings.warn(\n"
     ]
    },
    {
     "name": "stdout",
     "output_type": "stream",
     "text": [
      "Melhores hiperparâmetros encontrados:\n",
      "{'tol': 0.0001, 'solver': 'saga', 'penalty': 'l2', 'multi_class': 'multinomial', 'max_iter': 500, 'C': 1.0}\n",
      "\n",
      "Acurácia obtida:\n",
      "0.3212317587661665\n"
     ]
    },
    {
     "name": "stderr",
     "output_type": "stream",
     "text": [
      "c:\\Users\\vi_ma\\anaconda3\\lib\\site-packages\\sklearn\\linear_model\\_sag.py:352: ConvergenceWarning: The max_iter was reached which means the coef_ did not converge\n",
      "  warnings.warn(\n"
     ]
    }
   ],
   "source": [
    "# Logistic Regression\n",
    "params_log_reg={\n",
    "    'solver': ['lbfgs', 'saga', 'newton-cg', 'liblinear'],\n",
    "    'C': [0.01, 0.1, 1.0, 10.0],\n",
    "    'multi_class': ['multinomial', 'ovr'],\n",
    "    'max_iter': [100, 200, 500],\n",
    "    'penalty': ['l2'],  # 'l1' pode ser testado com 'liblinear' ou 'saga'\n",
    "    'tol': [1e-4, 1e-3, 1e-2]\n",
    "}\n",
    "\n",
    "log_reg = LogisticRegression()\n",
    "\n",
    "# Configurar RandomizedSearchCV\n",
    "random_search = RandomizedSearchCV(\n",
    "    estimator=log_reg,\n",
    "    param_distributions=params_log_reg,\n",
    "    n_iter=10,  # Número de combinações a testar\n",
    "    scoring='accuracy',  # Métrica de avaliação\n",
    "    cv=5,  # Número de folds da validação cruzada\n",
    "    random_state=42,\n",
    "    n_jobs=-1  # Usar todos os núcleos disponíveis\n",
    ")\n",
    "\n",
    "random_search.fit(X_train, y_train)\n",
    "\n",
    "print(\"Melhores hiperparâmetros encontrados:\")\n",
    "print(random_search.best_params_)\n",
    "\n",
    "print(\"\\nAcurácia obtida:\")\n",
    "print(random_search.best_score_)"
   ]
  },
  {
   "cell_type": "code",
   "execution_count": 16,
   "metadata": {},
   "outputs": [
    {
     "name": "stdout",
     "output_type": "stream",
     "text": [
      "Accuracy: 0.33648790746582546\n",
      "Precision: [0.         0.26530612 0.24489796 0.2972973  0.36945813 0.25\n",
      " 0.42424242 0.32       0.19047619 0.22857143 0.16666667 0.\n",
      " 0.2       ]\n",
      "Recall: [0.         0.33333333 0.19047619 0.16666667 0.50675676 0.14414414\n",
      " 0.57534247 0.38095238 0.10958904 0.19047619 0.07407407 0.\n",
      " 0.0625    ]\n",
      "F1-Score:[0.         0.29545455 0.21428571 0.21359223 0.42735043 0.18285714\n",
      " 0.48837209 0.34782609 0.13913043 0.20779221 0.1025641  0.\n",
      " 0.0952381 ]\n"
     ]
    },
    {
     "name": "stderr",
     "output_type": "stream",
     "text": [
      "c:\\Users\\vi_ma\\anaconda3\\lib\\site-packages\\sklearn\\linear_model\\_sag.py:352: ConvergenceWarning: The max_iter was reached which means the coef_ did not converge\n",
      "  warnings.warn(\n"
     ]
    }
   ],
   "source": [
    "# lr_params = {'tol': 0.0001, 'solver': 'saga', 'penalty': 'l2', 'multi_class': 'multinomial', 'max_iter': 500, 'C': 1.0}\n",
    "log_reg = LogisticRegression(tol= 0.0001, solver='saga', penalty='l2', multi_class='multinomial', max_iter=500, C=1.0)\n",
    "log_reg.fit(X_train, y_train)\n",
    "\n",
    "y_pred = log_reg.predict(X_test)\n",
    "accuracy = accuracy_score(y_test, y_pred)\n",
    "precision = precision_score(y_test, y_pred, average=None, zero_division=0)\n",
    "recall = recall_score(y_test, y_pred, average=None, zero_division=0)\n",
    "f1 = f1_score(y_test, y_pred, average=None, zero_division=0)\n",
    "print(f'Accuracy: {accuracy}\\nPrecision: {precision}\\nRecall: {recall}\\nF1-Score:{f1}')"
   ]
  },
  {
   "cell_type": "code",
   "execution_count": 132,
   "metadata": {},
   "outputs": [
    {
     "data": {
      "text/html": [
       "<style>#sk-container-id-2 {color: black;background-color: white;}#sk-container-id-2 pre{padding: 0;}#sk-container-id-2 div.sk-toggleable {background-color: white;}#sk-container-id-2 label.sk-toggleable__label {cursor: pointer;display: block;width: 100%;margin-bottom: 0;padding: 0.3em;box-sizing: border-box;text-align: center;}#sk-container-id-2 label.sk-toggleable__label-arrow:before {content: \"▸\";float: left;margin-right: 0.25em;color: #696969;}#sk-container-id-2 label.sk-toggleable__label-arrow:hover:before {color: black;}#sk-container-id-2 div.sk-estimator:hover label.sk-toggleable__label-arrow:before {color: black;}#sk-container-id-2 div.sk-toggleable__content {max-height: 0;max-width: 0;overflow: hidden;text-align: left;background-color: #f0f8ff;}#sk-container-id-2 div.sk-toggleable__content pre {margin: 0.2em;color: black;border-radius: 0.25em;background-color: #f0f8ff;}#sk-container-id-2 input.sk-toggleable__control:checked~div.sk-toggleable__content {max-height: 200px;max-width: 100%;overflow: auto;}#sk-container-id-2 input.sk-toggleable__control:checked~label.sk-toggleable__label-arrow:before {content: \"▾\";}#sk-container-id-2 div.sk-estimator input.sk-toggleable__control:checked~label.sk-toggleable__label {background-color: #d4ebff;}#sk-container-id-2 div.sk-label input.sk-toggleable__control:checked~label.sk-toggleable__label {background-color: #d4ebff;}#sk-container-id-2 input.sk-hidden--visually {border: 0;clip: rect(1px 1px 1px 1px);clip: rect(1px, 1px, 1px, 1px);height: 1px;margin: -1px;overflow: hidden;padding: 0;position: absolute;width: 1px;}#sk-container-id-2 div.sk-estimator {font-family: monospace;background-color: #f0f8ff;border: 1px dotted black;border-radius: 0.25em;box-sizing: border-box;margin-bottom: 0.5em;}#sk-container-id-2 div.sk-estimator:hover {background-color: #d4ebff;}#sk-container-id-2 div.sk-parallel-item::after {content: \"\";width: 100%;border-bottom: 1px solid gray;flex-grow: 1;}#sk-container-id-2 div.sk-label:hover label.sk-toggleable__label {background-color: #d4ebff;}#sk-container-id-2 div.sk-serial::before {content: \"\";position: absolute;border-left: 1px solid gray;box-sizing: border-box;top: 0;bottom: 0;left: 50%;z-index: 0;}#sk-container-id-2 div.sk-serial {display: flex;flex-direction: column;align-items: center;background-color: white;padding-right: 0.2em;padding-left: 0.2em;position: relative;}#sk-container-id-2 div.sk-item {position: relative;z-index: 1;}#sk-container-id-2 div.sk-parallel {display: flex;align-items: stretch;justify-content: center;background-color: white;position: relative;}#sk-container-id-2 div.sk-item::before, #sk-container-id-2 div.sk-parallel-item::before {content: \"\";position: absolute;border-left: 1px solid gray;box-sizing: border-box;top: 0;bottom: 0;left: 50%;z-index: -1;}#sk-container-id-2 div.sk-parallel-item {display: flex;flex-direction: column;z-index: 1;position: relative;background-color: white;}#sk-container-id-2 div.sk-parallel-item:first-child::after {align-self: flex-end;width: 50%;}#sk-container-id-2 div.sk-parallel-item:last-child::after {align-self: flex-start;width: 50%;}#sk-container-id-2 div.sk-parallel-item:only-child::after {width: 0;}#sk-container-id-2 div.sk-dashed-wrapped {border: 1px dashed gray;margin: 0 0.4em 0.5em 0.4em;box-sizing: border-box;padding-bottom: 0.4em;background-color: white;}#sk-container-id-2 div.sk-label label {font-family: monospace;font-weight: bold;display: inline-block;line-height: 1.2em;}#sk-container-id-2 div.sk-label-container {text-align: center;}#sk-container-id-2 div.sk-container {/* jupyter's `normalize.less` sets `[hidden] { display: none; }` but bootstrap.min.css set `[hidden] { display: none !important; }` so we also need the `!important` here to be able to override the default hidden behavior on the sphinx rendered scikit-learn.org. See: https://github.com/scikit-learn/scikit-learn/issues/21755 */display: inline-block !important;position: relative;}#sk-container-id-2 div.sk-text-repr-fallback {display: none;}</style><div id=\"sk-container-id-2\" class=\"sk-top-container\"><div class=\"sk-text-repr-fallback\"><pre>KNeighborsClassifier()</pre><b>In a Jupyter environment, please rerun this cell to show the HTML representation or trust the notebook. <br />On GitHub, the HTML representation is unable to render, please try loading this page with nbviewer.org.</b></div><div class=\"sk-container\" hidden><div class=\"sk-item\"><div class=\"sk-estimator sk-toggleable\"><input class=\"sk-toggleable__control sk-hidden--visually\" id=\"sk-estimator-id-2\" type=\"checkbox\" checked><label for=\"sk-estimator-id-2\" class=\"sk-toggleable__label sk-toggleable__label-arrow\">KNeighborsClassifier</label><div class=\"sk-toggleable__content\"><pre>KNeighborsClassifier()</pre></div></div></div></div></div>"
      ],
      "text/plain": [
       "KNeighborsClassifier()"
      ]
     },
     "execution_count": 132,
     "metadata": {},
     "output_type": "execute_result"
    }
   ],
   "source": [
    "# KNN\n",
    "knn = KNeighborsClassifier(n_neighbors=5)\n",
    "knn.fit(X_train, y_train)"
   ]
  },
  {
   "cell_type": "code",
   "execution_count": 133,
   "metadata": {},
   "outputs": [
    {
     "data": {
      "text/html": [
       "<style>#sk-container-id-3 {color: black;background-color: white;}#sk-container-id-3 pre{padding: 0;}#sk-container-id-3 div.sk-toggleable {background-color: white;}#sk-container-id-3 label.sk-toggleable__label {cursor: pointer;display: block;width: 100%;margin-bottom: 0;padding: 0.3em;box-sizing: border-box;text-align: center;}#sk-container-id-3 label.sk-toggleable__label-arrow:before {content: \"▸\";float: left;margin-right: 0.25em;color: #696969;}#sk-container-id-3 label.sk-toggleable__label-arrow:hover:before {color: black;}#sk-container-id-3 div.sk-estimator:hover label.sk-toggleable__label-arrow:before {color: black;}#sk-container-id-3 div.sk-toggleable__content {max-height: 0;max-width: 0;overflow: hidden;text-align: left;background-color: #f0f8ff;}#sk-container-id-3 div.sk-toggleable__content pre {margin: 0.2em;color: black;border-radius: 0.25em;background-color: #f0f8ff;}#sk-container-id-3 input.sk-toggleable__control:checked~div.sk-toggleable__content {max-height: 200px;max-width: 100%;overflow: auto;}#sk-container-id-3 input.sk-toggleable__control:checked~label.sk-toggleable__label-arrow:before {content: \"▾\";}#sk-container-id-3 div.sk-estimator input.sk-toggleable__control:checked~label.sk-toggleable__label {background-color: #d4ebff;}#sk-container-id-3 div.sk-label input.sk-toggleable__control:checked~label.sk-toggleable__label {background-color: #d4ebff;}#sk-container-id-3 input.sk-hidden--visually {border: 0;clip: rect(1px 1px 1px 1px);clip: rect(1px, 1px, 1px, 1px);height: 1px;margin: -1px;overflow: hidden;padding: 0;position: absolute;width: 1px;}#sk-container-id-3 div.sk-estimator {font-family: monospace;background-color: #f0f8ff;border: 1px dotted black;border-radius: 0.25em;box-sizing: border-box;margin-bottom: 0.5em;}#sk-container-id-3 div.sk-estimator:hover {background-color: #d4ebff;}#sk-container-id-3 div.sk-parallel-item::after {content: \"\";width: 100%;border-bottom: 1px solid gray;flex-grow: 1;}#sk-container-id-3 div.sk-label:hover label.sk-toggleable__label {background-color: #d4ebff;}#sk-container-id-3 div.sk-serial::before {content: \"\";position: absolute;border-left: 1px solid gray;box-sizing: border-box;top: 0;bottom: 0;left: 50%;z-index: 0;}#sk-container-id-3 div.sk-serial {display: flex;flex-direction: column;align-items: center;background-color: white;padding-right: 0.2em;padding-left: 0.2em;position: relative;}#sk-container-id-3 div.sk-item {position: relative;z-index: 1;}#sk-container-id-3 div.sk-parallel {display: flex;align-items: stretch;justify-content: center;background-color: white;position: relative;}#sk-container-id-3 div.sk-item::before, #sk-container-id-3 div.sk-parallel-item::before {content: \"\";position: absolute;border-left: 1px solid gray;box-sizing: border-box;top: 0;bottom: 0;left: 50%;z-index: -1;}#sk-container-id-3 div.sk-parallel-item {display: flex;flex-direction: column;z-index: 1;position: relative;background-color: white;}#sk-container-id-3 div.sk-parallel-item:first-child::after {align-self: flex-end;width: 50%;}#sk-container-id-3 div.sk-parallel-item:last-child::after {align-self: flex-start;width: 50%;}#sk-container-id-3 div.sk-parallel-item:only-child::after {width: 0;}#sk-container-id-3 div.sk-dashed-wrapped {border: 1px dashed gray;margin: 0 0.4em 0.5em 0.4em;box-sizing: border-box;padding-bottom: 0.4em;background-color: white;}#sk-container-id-3 div.sk-label label {font-family: monospace;font-weight: bold;display: inline-block;line-height: 1.2em;}#sk-container-id-3 div.sk-label-container {text-align: center;}#sk-container-id-3 div.sk-container {/* jupyter's `normalize.less` sets `[hidden] { display: none; }` but bootstrap.min.css set `[hidden] { display: none !important; }` so we also need the `!important` here to be able to override the default hidden behavior on the sphinx rendered scikit-learn.org. See: https://github.com/scikit-learn/scikit-learn/issues/21755 */display: inline-block !important;position: relative;}#sk-container-id-3 div.sk-text-repr-fallback {display: none;}</style><div id=\"sk-container-id-3\" class=\"sk-top-container\"><div class=\"sk-text-repr-fallback\"><pre>DecisionTreeClassifier()</pre><b>In a Jupyter environment, please rerun this cell to show the HTML representation or trust the notebook. <br />On GitHub, the HTML representation is unable to render, please try loading this page with nbviewer.org.</b></div><div class=\"sk-container\" hidden><div class=\"sk-item\"><div class=\"sk-estimator sk-toggleable\"><input class=\"sk-toggleable__control sk-hidden--visually\" id=\"sk-estimator-id-3\" type=\"checkbox\" checked><label for=\"sk-estimator-id-3\" class=\"sk-toggleable__label sk-toggleable__label-arrow\">DecisionTreeClassifier</label><div class=\"sk-toggleable__content\"><pre>DecisionTreeClassifier()</pre></div></div></div></div></div>"
      ],
      "text/plain": [
       "DecisionTreeClassifier()"
      ]
     },
     "execution_count": 133,
     "metadata": {},
     "output_type": "execute_result"
    }
   ],
   "source": [
    "# Decision Tree\n",
    "decision_tree = DecisionTreeClassifier()\n",
    "decision_tree.fit(X_train, y_train)"
   ]
  },
  {
   "cell_type": "code",
   "execution_count": 134,
   "metadata": {},
   "outputs": [
    {
     "name": "stderr",
     "output_type": "stream",
     "text": [
      "/Users/acburihan/opt/anaconda3/envs/pytorch/lib/python3.10/site-packages/sklearn/discriminant_analysis.py:926: UserWarning: Variables are collinear\n",
      "  warnings.warn(\"Variables are collinear\")\n"
     ]
    },
    {
     "data": {
      "text/html": [
       "<style>#sk-container-id-4 {color: black;background-color: white;}#sk-container-id-4 pre{padding: 0;}#sk-container-id-4 div.sk-toggleable {background-color: white;}#sk-container-id-4 label.sk-toggleable__label {cursor: pointer;display: block;width: 100%;margin-bottom: 0;padding: 0.3em;box-sizing: border-box;text-align: center;}#sk-container-id-4 label.sk-toggleable__label-arrow:before {content: \"▸\";float: left;margin-right: 0.25em;color: #696969;}#sk-container-id-4 label.sk-toggleable__label-arrow:hover:before {color: black;}#sk-container-id-4 div.sk-estimator:hover label.sk-toggleable__label-arrow:before {color: black;}#sk-container-id-4 div.sk-toggleable__content {max-height: 0;max-width: 0;overflow: hidden;text-align: left;background-color: #f0f8ff;}#sk-container-id-4 div.sk-toggleable__content pre {margin: 0.2em;color: black;border-radius: 0.25em;background-color: #f0f8ff;}#sk-container-id-4 input.sk-toggleable__control:checked~div.sk-toggleable__content {max-height: 200px;max-width: 100%;overflow: auto;}#sk-container-id-4 input.sk-toggleable__control:checked~label.sk-toggleable__label-arrow:before {content: \"▾\";}#sk-container-id-4 div.sk-estimator input.sk-toggleable__control:checked~label.sk-toggleable__label {background-color: #d4ebff;}#sk-container-id-4 div.sk-label input.sk-toggleable__control:checked~label.sk-toggleable__label {background-color: #d4ebff;}#sk-container-id-4 input.sk-hidden--visually {border: 0;clip: rect(1px 1px 1px 1px);clip: rect(1px, 1px, 1px, 1px);height: 1px;margin: -1px;overflow: hidden;padding: 0;position: absolute;width: 1px;}#sk-container-id-4 div.sk-estimator {font-family: monospace;background-color: #f0f8ff;border: 1px dotted black;border-radius: 0.25em;box-sizing: border-box;margin-bottom: 0.5em;}#sk-container-id-4 div.sk-estimator:hover {background-color: #d4ebff;}#sk-container-id-4 div.sk-parallel-item::after {content: \"\";width: 100%;border-bottom: 1px solid gray;flex-grow: 1;}#sk-container-id-4 div.sk-label:hover label.sk-toggleable__label {background-color: #d4ebff;}#sk-container-id-4 div.sk-serial::before {content: \"\";position: absolute;border-left: 1px solid gray;box-sizing: border-box;top: 0;bottom: 0;left: 50%;z-index: 0;}#sk-container-id-4 div.sk-serial {display: flex;flex-direction: column;align-items: center;background-color: white;padding-right: 0.2em;padding-left: 0.2em;position: relative;}#sk-container-id-4 div.sk-item {position: relative;z-index: 1;}#sk-container-id-4 div.sk-parallel {display: flex;align-items: stretch;justify-content: center;background-color: white;position: relative;}#sk-container-id-4 div.sk-item::before, #sk-container-id-4 div.sk-parallel-item::before {content: \"\";position: absolute;border-left: 1px solid gray;box-sizing: border-box;top: 0;bottom: 0;left: 50%;z-index: -1;}#sk-container-id-4 div.sk-parallel-item {display: flex;flex-direction: column;z-index: 1;position: relative;background-color: white;}#sk-container-id-4 div.sk-parallel-item:first-child::after {align-self: flex-end;width: 50%;}#sk-container-id-4 div.sk-parallel-item:last-child::after {align-self: flex-start;width: 50%;}#sk-container-id-4 div.sk-parallel-item:only-child::after {width: 0;}#sk-container-id-4 div.sk-dashed-wrapped {border: 1px dashed gray;margin: 0 0.4em 0.5em 0.4em;box-sizing: border-box;padding-bottom: 0.4em;background-color: white;}#sk-container-id-4 div.sk-label label {font-family: monospace;font-weight: bold;display: inline-block;line-height: 1.2em;}#sk-container-id-4 div.sk-label-container {text-align: center;}#sk-container-id-4 div.sk-container {/* jupyter's `normalize.less` sets `[hidden] { display: none; }` but bootstrap.min.css set `[hidden] { display: none !important; }` so we also need the `!important` here to be able to override the default hidden behavior on the sphinx rendered scikit-learn.org. See: https://github.com/scikit-learn/scikit-learn/issues/21755 */display: inline-block !important;position: relative;}#sk-container-id-4 div.sk-text-repr-fallback {display: none;}</style><div id=\"sk-container-id-4\" class=\"sk-top-container\"><div class=\"sk-text-repr-fallback\"><pre>QuadraticDiscriminantAnalysis()</pre><b>In a Jupyter environment, please rerun this cell to show the HTML representation or trust the notebook. <br />On GitHub, the HTML representation is unable to render, please try loading this page with nbviewer.org.</b></div><div class=\"sk-container\" hidden><div class=\"sk-item\"><div class=\"sk-estimator sk-toggleable\"><input class=\"sk-toggleable__control sk-hidden--visually\" id=\"sk-estimator-id-4\" type=\"checkbox\" checked><label for=\"sk-estimator-id-4\" class=\"sk-toggleable__label sk-toggleable__label-arrow\">QuadraticDiscriminantAnalysis</label><div class=\"sk-toggleable__content\"><pre>QuadraticDiscriminantAnalysis()</pre></div></div></div></div></div>"
      ],
      "text/plain": [
       "QuadraticDiscriminantAnalysis()"
      ]
     },
     "execution_count": 134,
     "metadata": {},
     "output_type": "execute_result"
    }
   ],
   "source": [
    "# Fit the QDA model with the balanced dataset\n",
    "qda = QuadraticDiscriminantAnalysis()\n",
    "qda.fit(X_train, y_train)"
   ]
  },
  {
   "cell_type": "code",
   "execution_count": 135,
   "metadata": {},
   "outputs": [],
   "source": [
    "from sklearn.metrics import accuracy_score, precision_score, recall_score, f1_score"
   ]
  },
  {
   "cell_type": "code",
   "execution_count": 142,
   "metadata": {},
   "outputs": [
    {
     "data": {
      "text/html": [
       "<div>\n",
       "<style scoped>\n",
       "    .dataframe tbody tr th:only-of-type {\n",
       "        vertical-align: middle;\n",
       "    }\n",
       "\n",
       "    .dataframe tbody tr th {\n",
       "        vertical-align: top;\n",
       "    }\n",
       "\n",
       "    .dataframe thead th {\n",
       "        text-align: right;\n",
       "    }\n",
       "</style>\n",
       "<table border=\"1\" class=\"dataframe\">\n",
       "  <thead>\n",
       "    <tr style=\"text-align: right;\">\n",
       "      <th></th>\n",
       "      <th>Model</th>\n",
       "      <th>Accuracy</th>\n",
       "      <th>Precision</th>\n",
       "      <th>Recall</th>\n",
       "      <th>F1-Score</th>\n",
       "    </tr>\n",
       "  </thead>\n",
       "  <tbody>\n",
       "    <tr>\n",
       "      <th>0</th>\n",
       "      <td>QDA</td>\n",
       "      <td>0.430064</td>\n",
       "      <td>[1.0, 0.9899862970380521, 0.21459662186208217,...</td>\n",
       "      <td>[1.0, 0.8872095220102022, 0.9646812699975388, ...</td>\n",
       "      <td>[1.0, 0.9357843869874957, 0.35109170305676857,...</td>\n",
       "    </tr>\n",
       "    <tr>\n",
       "      <th>1</th>\n",
       "      <td>Logistic Regression</td>\n",
       "      <td>0.773382</td>\n",
       "      <td>[0.78, 0.922926447574335, 0.6387709723064483, ...</td>\n",
       "      <td>[0.7090909090909091, 0.8913659550349519, 0.777...</td>\n",
       "      <td>[0.7428571428571428, 0.906871696299856, 0.7014...</td>\n",
       "    </tr>\n",
       "    <tr>\n",
       "      <th>2</th>\n",
       "      <td>KNN</td>\n",
       "      <td>0.976137</td>\n",
       "      <td>[0.9727272727272728, 0.9950938767808284, 0.815...</td>\n",
       "      <td>[0.9727272727272728, 0.996315888909881, 0.9911...</td>\n",
       "      <td>[0.9727272727272728, 0.9957045079065375, 0.894...</td>\n",
       "    </tr>\n",
       "    <tr>\n",
       "      <th>3</th>\n",
       "      <td>Decision Tree</td>\n",
       "      <td>0.985662</td>\n",
       "      <td>[1.0, 0.9999055445357514, 0.8219164221390266, ...</td>\n",
       "      <td>[1.0, 1.0, 0.9996308146689639, 0.8588074574091...</td>\n",
       "      <td>[1.0, 0.9999527700373116, 0.9021045033039037, ...</td>\n",
       "    </tr>\n",
       "  </tbody>\n",
       "</table>\n",
       "</div>"
      ],
      "text/plain": [
       "                 Model  Accuracy  \\\n",
       "0                  QDA  0.430064   \n",
       "1  Logistic Regression  0.773382   \n",
       "2                  KNN  0.976137   \n",
       "3        Decision Tree  0.985662   \n",
       "\n",
       "                                           Precision  \\\n",
       "0  [1.0, 0.9899862970380521, 0.21459662186208217,...   \n",
       "1  [0.78, 0.922926447574335, 0.6387709723064483, ...   \n",
       "2  [0.9727272727272728, 0.9950938767808284, 0.815...   \n",
       "3  [1.0, 0.9999055445357514, 0.8219164221390266, ...   \n",
       "\n",
       "                                              Recall  \\\n",
       "0  [1.0, 0.8872095220102022, 0.9646812699975388, ...   \n",
       "1  [0.7090909090909091, 0.8913659550349519, 0.777...   \n",
       "2  [0.9727272727272728, 0.996315888909881, 0.9911...   \n",
       "3  [1.0, 1.0, 0.9996308146689639, 0.8588074574091...   \n",
       "\n",
       "                                            F1-Score  \n",
       "0  [1.0, 0.9357843869874957, 0.35109170305676857,...  \n",
       "1  [0.7428571428571428, 0.906871696299856, 0.7014...  \n",
       "2  [0.9727272727272728, 0.9957045079065375, 0.894...  \n",
       "3  [1.0, 0.9999527700373116, 0.9021045033039037, ...  "
      ]
     },
     "execution_count": 142,
     "metadata": {},
     "output_type": "execute_result"
    }
   ],
   "source": [
    "models = {\n",
    "    'QDA': qda,\n",
    "    'Logistic Regression': logistic_regression,\n",
    "    'KNN': knn,\n",
    "    'Decision Tree': decision_tree\n",
    "}\n",
    "\n",
    "results = []\n",
    "for model_name, model in models.items():\n",
    "    y_pred = model.predict(X_train)\n",
    "    accuracy = accuracy_score(y_train, y_pred)\n",
    "    precision = precision_score(y_train, y_pred, average=None, zero_division=0)\n",
    "    recall = recall_score(y_train, y_pred, average=None, zero_division=0)\n",
    "    f1 = f1_score(y_train, y_pred, average=None, zero_division=0)\n",
    "    results.append([model_name, accuracy, precision, recall, f1])\n",
    "\n",
    "# Store the results in a DataFrame\n",
    "results_df = pd.DataFrame(results, columns=['Model', 'Accuracy', 'Precision', 'Recall', 'F1-Score'])\n",
    "\n",
    "# Print the results\n",
    "results_df"
   ]
  },
  {
   "cell_type": "code",
   "execution_count": 141,
   "metadata": {},
   "outputs": [
    {
     "data": {
      "text/html": [
       "<div>\n",
       "<style scoped>\n",
       "    .dataframe tbody tr th:only-of-type {\n",
       "        vertical-align: middle;\n",
       "    }\n",
       "\n",
       "    .dataframe tbody tr th {\n",
       "        vertical-align: top;\n",
       "    }\n",
       "\n",
       "    .dataframe thead th {\n",
       "        text-align: right;\n",
       "    }\n",
       "</style>\n",
       "<table border=\"1\" class=\"dataframe\">\n",
       "  <thead>\n",
       "    <tr style=\"text-align: right;\">\n",
       "      <th></th>\n",
       "      <th>Model</th>\n",
       "      <th>Accuracy</th>\n",
       "      <th>Precision</th>\n",
       "      <th>Recall</th>\n",
       "      <th>F1-Score</th>\n",
       "    </tr>\n",
       "  </thead>\n",
       "  <tbody>\n",
       "    <tr>\n",
       "      <th>0</th>\n",
       "      <td>QDA</td>\n",
       "      <td>0.106204</td>\n",
       "      <td>[0.0, 0.2222222222222222, 0.1446280991735537, ...</td>\n",
       "      <td>[0.0, 0.05128205128205128, 0.5555555555555556,...</td>\n",
       "      <td>[0.0, 0.08333333333333333, 0.22950819672131148...</td>\n",
       "    </tr>\n",
       "    <tr>\n",
       "      <th>1</th>\n",
       "      <td>Logistic Regression</td>\n",
       "      <td>0.242902</td>\n",
       "      <td>[0.0, 0.3333333333333333, 0.22784810126582278,...</td>\n",
       "      <td>[0.0, 0.3333333333333333, 0.2857142857142857, ...</td>\n",
       "      <td>[0.0, 0.3333333333333333, 0.2535211267605634, ...</td>\n",
       "    </tr>\n",
       "    <tr>\n",
       "      <th>2</th>\n",
       "      <td>KNN</td>\n",
       "      <td>0.248160</td>\n",
       "      <td>[0.09090909090909091, 0.2, 0.20754716981132076...</td>\n",
       "      <td>[0.1111111111111111, 0.23076923076923078, 0.17...</td>\n",
       "      <td>[0.09999999999999999, 0.21428571428571427, 0.1...</td>\n",
       "    </tr>\n",
       "    <tr>\n",
       "      <th>3</th>\n",
       "      <td>Decision Tree</td>\n",
       "      <td>0.237645</td>\n",
       "      <td>[0.0, 0.2558139534883721, 0.25862068965517243,...</td>\n",
       "      <td>[0.0, 0.28205128205128205, 0.23809523809523808...</td>\n",
       "      <td>[0.0, 0.2682926829268293, 0.24793388429752067,...</td>\n",
       "    </tr>\n",
       "  </tbody>\n",
       "</table>\n",
       "</div>"
      ],
      "text/plain": [
       "                 Model  Accuracy  \\\n",
       "0                  QDA  0.106204   \n",
       "1  Logistic Regression  0.242902   \n",
       "2                  KNN  0.248160   \n",
       "3        Decision Tree  0.237645   \n",
       "\n",
       "                                           Precision  \\\n",
       "0  [0.0, 0.2222222222222222, 0.1446280991735537, ...   \n",
       "1  [0.0, 0.3333333333333333, 0.22784810126582278,...   \n",
       "2  [0.09090909090909091, 0.2, 0.20754716981132076...   \n",
       "3  [0.0, 0.2558139534883721, 0.25862068965517243,...   \n",
       "\n",
       "                                              Recall  \\\n",
       "0  [0.0, 0.05128205128205128, 0.5555555555555556,...   \n",
       "1  [0.0, 0.3333333333333333, 0.2857142857142857, ...   \n",
       "2  [0.1111111111111111, 0.23076923076923078, 0.17...   \n",
       "3  [0.0, 0.28205128205128205, 0.23809523809523808...   \n",
       "\n",
       "                                            F1-Score  \n",
       "0  [0.0, 0.08333333333333333, 0.22950819672131148...  \n",
       "1  [0.0, 0.3333333333333333, 0.2535211267605634, ...  \n",
       "2  [0.09999999999999999, 0.21428571428571427, 0.1...  \n",
       "3  [0.0, 0.2682926829268293, 0.24793388429752067,...  "
      ]
     },
     "execution_count": 141,
     "metadata": {},
     "output_type": "execute_result"
    }
   ],
   "source": [
    "models = {\n",
    "    'QDA': qda,\n",
    "    'Logistic Regression': logistic_regression,\n",
    "    'KNN': knn,\n",
    "    'Decision Tree': decision_tree\n",
    "}\n",
    "\n",
    "results = []\n",
    "for model_name, model in models.items():\n",
    "    y_pred = model.predict(X_test)\n",
    "    accuracy = accuracy_score(y_test, y_pred)\n",
    "    precision = precision_score(y_test, y_pred, average=None, zero_division=0)\n",
    "    recall = recall_score(y_test, y_pred, average=None, zero_division=0)\n",
    "    f1 = f1_score(y_test, y_pred, average=None, zero_division=0)\n",
    "    results.append([model_name, accuracy, precision, recall, f1])\n",
    "\n",
    "# Store the results in a DataFrame\n",
    "results_df = pd.DataFrame(results, columns=['Model', 'Accuracy', 'Precision', 'Recall', 'F1-Score'])\n",
    "\n",
    "# Print the results\n",
    "results_df"
   ]
  },
  {
   "cell_type": "code",
   "execution_count": 143,
   "metadata": {},
   "outputs": [
    {
     "name": "stdout",
     "output_type": "stream",
     "text": [
      "(951, 92)\n"
     ]
    }
   ],
   "source": [
    "print(X_test.shape)"
   ]
  }
 ],
 "metadata": {
  "kernelspec": {
   "display_name": "pytorch",
   "language": "python",
   "name": "python3"
  },
  "language_info": {
   "codemirror_mode": {
    "name": "ipython",
    "version": 3
   },
   "file_extension": ".py",
   "mimetype": "text/x-python",
   "name": "python",
   "nbconvert_exporter": "python",
   "pygments_lexer": "ipython3",
   "version": "3.9.12"
  }
 },
 "nbformat": 4,
 "nbformat_minor": 2
}
