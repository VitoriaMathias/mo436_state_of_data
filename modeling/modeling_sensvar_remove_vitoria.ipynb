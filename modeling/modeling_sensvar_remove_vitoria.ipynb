{
 "cells": [
  {
   "cell_type": "code",
   "execution_count": 36,
   "metadata": {},
   "outputs": [],
   "source": [
    "import pandas as pd\n",
    "import re\n",
    "from imblearn.over_sampling import ADASYN, RandomOverSampler\n",
    "from imblearn.under_sampling import RandomUnderSampler"
   ]
  },
  {
   "cell_type": "code",
   "execution_count": 3,
   "metadata": {},
   "outputs": [],
   "source": [
    "# Import data\n",
    "train = pd.read_csv(\"../data/train_complete.csv\")\n",
    "test = pd.read_csv(\"../data/test_complete.csv\")"
   ]
  },
  {
   "cell_type": "code",
   "execution_count": 14,
   "metadata": {},
   "outputs": [
    {
     "data": {
      "text/plain": [
       "0      False\n",
       "1       True\n",
       "2      False\n",
       "3      False\n",
       "4      False\n",
       "       ...  \n",
       "946    False\n",
       "947    False\n",
       "948    False\n",
       "949    False\n",
       "950    False\n",
       "Name: P1_c_Amarela(OneHot), Length: 951, dtype: bool"
      ]
     },
     "execution_count": 14,
     "metadata": {},
     "output_type": "execute_result"
    }
   ],
   "source": [
    "test[\"P1_c_Amarela(OneHot)\"]"
   ]
  },
  {
   "cell_type": "markdown",
   "metadata": {},
   "source": [
    "## Resampling"
   ]
  },
  {
   "cell_type": "code",
   "execution_count": 5,
   "metadata": {},
   "outputs": [],
   "source": [
    "# Dataprep - toda transformação deve ser criada sobre o teste e somente aplicada sobre o treino\n",
    "def apply_random_oversampling(df, oversample_col='', exclude_category=None):\n",
    "    '''\n",
    "    df: dataframe with all columns\n",
    "    oversample_col: column to apply the oversampling\n",
    "    exclude_category: list of categories on oversample_col to set apart while oversampling\n",
    "    '''\n",
    "    df_cat = pd.DataFrame(columns = df.columns)\n",
    "    df_ = df.copy()\n",
    "    \n",
    "    # Separando categorias específica se necessário\n",
    "    if exclude_category is not None:\n",
    "        \n",
    "        for cat in exclude_category:\n",
    "            \n",
    "            df_cat = pd.concat([df_cat, df[df[oversample_col]==cat]]).reset_index(drop=True)\n",
    "            \n",
    "            # removendo categorias que não serão oversampled\n",
    "            df_ = df_[df[oversample_col]!=cat].reset_index()\n",
    "    \n",
    "    # Separando coluna de oversampling\n",
    "    X = df_.drop(columns=[oversample_col])\n",
    "    y = df_[oversample_col]\n",
    "\n",
    "    # Aplicando Random Oversampling\n",
    "    oversampler = RandomOverSampler(sampling_strategy='auto', random_state=42)\n",
    "    X_resampled, y_resampled = oversampler.fit_resample(X, y)\n",
    "\n",
    "    df_resampled = pd.DataFrame(X_resampled, columns=X.columns)\n",
    "    df_resampled[oversample_col] = y_resampled\n",
    "\n",
    "    # Exibir o DataFrame balanceado\n",
    "    print(df_resampled[oversample_col].value_counts())\n",
    "    \n",
    "    # inserindo de volta as categorias que foram separadas\n",
    "    if not df_cat.empty:\n",
    "        df_resampled = pd.concat([df_resampled, df_cat]).reset_index(drop=True)\n",
    "        \n",
    "    return df_resampled"
   ]
  },
  {
   "cell_type": "code",
   "execution_count": 6,
   "metadata": {},
   "outputs": [],
   "source": [
    "def apply_random_undersampling(df, undersample_col='', strategy={}):\n",
    "    '''\n",
    "    df: dataframe with all columns\n",
    "    undersample_col: column to apply the undersampling\n",
    "    srtategy: dictionary with the category as key and number of samples requested as value\n",
    "    '''\n",
    "\n",
    "    X = df.drop(columns=[undersample_col])\n",
    "    y = df[undersample_col]\n",
    "\n",
    "    # aplicando undersampling\n",
    "    undersampler = RandomUnderSampler(sampling_strategy=strategy, random_state=42)\n",
    "    X_resampled, y_resampled = undersampler.fit_resample(X, y)\n",
    "\n",
    "    df_resampled = pd.DataFrame(X_resampled, columns=X.columns)\n",
    "    df_resampled[undersample_col] = y_resampled\n",
    "\n",
    "    # Exibir o DataFrame balanceado e a distribuição de classes\n",
    "    print(df_resampled[undersample_col].value_counts())\n",
    "    \n",
    "    return df_resampled"
   ]
  },
  {
   "cell_type": "code",
   "execution_count": 7,
   "metadata": {},
   "outputs": [],
   "source": [
    "col_raca = 'P1_c'\n",
    "col_genero = 'P1_b'\n",
    "col_idade ='P1_a_1'\n",
    "col_regiao = 'P1_i_2'\n",
    "\n",
    "df_train_resampled = train.copy()\n",
    "\n",
    "# cols_resampling = [col_raca, col_genero, col_idade ] # , col_regiao]\n",
    "\n",
    "\n",
    "# for col in cols_resampling:\n",
    "#     df_train_resampled = apply_random_oversampling(df_train_resampled, oversample_col=col)"
   ]
  },
  {
   "cell_type": "code",
   "execution_count": 8,
   "metadata": {},
   "outputs": [],
   "source": [
    "onehot = [\"P1_m\", \"P3_c\",\"P4_a\", \"P4_a2\", \"P4_b\", \"P4_c\", \"P4_d\", \"P4_e\", \"P4_g\", \"P4_j\", \"P5_b\", \"P6_a\", \"P6_b\", \"P6_g\", \"P6_h\", \"P7_a\", \"P7_b\", \"P7_d\", \"P8_a\", \"P8_b\", \"P8_c\", \"P8_d\", \"P2_b\", \"P2_d\", \"P2_f\", \"P2_o\", \"P2_r\", \"P6_c\", \"P6_d\", \"P6_e\", \"P6_f\"]\n",
    "ordered = [\"P1_l\", \"P2_e\", \"P2_g\", \"P2_i\", \"P2_j\", \"P2_h\"]\n",
    "sensible = ['P1_c', 'P1_b','P1_a_1','P1_i_2', 'P1_i_1']\n",
    "\n",
    "# df_feat_selected = df_resampled[ [x +endswith(\"(OneHot)\") for x in onehot ] + [x +endswith(\"(OrdEnc)\") for x in ordered] ]\n"
   ]
  },
  {
   "cell_type": "code",
   "execution_count": 15,
   "metadata": {},
   "outputs": [
    {
     "data": {
      "text/plain": [
       "6"
      ]
     },
     "execution_count": 15,
     "metadata": {},
     "output_type": "execute_result"
    }
   ],
   "source": [
    "onehot_cols = [col for col in df_train_resampled.columns if any(col.startswith(c) for c in onehot + sensible) and (col.endswith('(OneHot)') or col.endswith('(FromList)'))]\n",
    "ordered_cols = [col for col in df_train_resampled.columns if any(col.startswith(c) for c in ordered) and col.endswith('(OrdEnc)')]\n",
    "df_train_selected = df_train_resampled[onehot_cols+ordered_cols]\n",
    "\n",
    "len(ordered_cols)"
   ]
  },
  {
   "cell_type": "code",
   "execution_count": 16,
   "metadata": {},
   "outputs": [
    {
     "data": {
      "text/html": [
       "<div>\n",
       "<style scoped>\n",
       "    .dataframe tbody tr th:only-of-type {\n",
       "        vertical-align: middle;\n",
       "    }\n",
       "\n",
       "    .dataframe tbody tr th {\n",
       "        vertical-align: top;\n",
       "    }\n",
       "\n",
       "    .dataframe thead th {\n",
       "        text-align: right;\n",
       "    }\n",
       "</style>\n",
       "<table border=\"1\" class=\"dataframe\">\n",
       "  <thead>\n",
       "    <tr style=\"text-align: right;\">\n",
       "      <th></th>\n",
       "      <th>P1_c_Amarela(OneHot)</th>\n",
       "      <th>P1_c_Branca(OneHot)</th>\n",
       "      <th>P1_c_Indígena(OneHot)</th>\n",
       "      <th>P1_c_Outra(OneHot)</th>\n",
       "      <th>P1_c_Parda(OneHot)</th>\n",
       "      <th>P1_c_Prefiro não informar(OneHot)</th>\n",
       "      <th>P1_c_Preta(OneHot)</th>\n",
       "    </tr>\n",
       "  </thead>\n",
       "  <tbody>\n",
       "    <tr>\n",
       "      <th>0</th>\n",
       "      <td>False</td>\n",
       "      <td>True</td>\n",
       "      <td>False</td>\n",
       "      <td>False</td>\n",
       "      <td>False</td>\n",
       "      <td>False</td>\n",
       "      <td>False</td>\n",
       "    </tr>\n",
       "  </tbody>\n",
       "</table>\n",
       "</div>"
      ],
      "text/plain": [
       "   P1_c_Amarela(OneHot)  P1_c_Branca(OneHot)  P1_c_Indígena(OneHot)  \\\n",
       "0                 False                 True                  False   \n",
       "\n",
       "   P1_c_Outra(OneHot)  P1_c_Parda(OneHot)  P1_c_Prefiro não informar(OneHot)  \\\n",
       "0               False               False                              False   \n",
       "\n",
       "   P1_c_Preta(OneHot)  \n",
       "0               False  "
      ]
     },
     "execution_count": 16,
     "metadata": {},
     "output_type": "execute_result"
    }
   ],
   "source": [
    "df_train_selected[[col for col in df_train_selected.columns if \"P1_c\" in col]].head(1)"
   ]
  },
  {
   "cell_type": "code",
   "execution_count": 17,
   "metadata": {},
   "outputs": [
    {
     "data": {
      "text/plain": [
       "Index(['P2_o_1(FromList)', 'P2_o_2(FromList)', 'P2_o_3(FromList)',\n",
       "       'P2_o_4(FromList)', 'P2_o_5(FromList)', 'P2_o_6(FromList)',\n",
       "       'P2_o_7(FromList)', 'P2_o_8(FromList)', 'P2_o_9(FromList)',\n",
       "       'P2_o_10(FromList)',\n",
       "       ...\n",
       "       'P6_g_Postgres/MySQL(OneHot)', 'P6_g_Presto(OneHot)',\n",
       "       'P6_g_Snowflake(OneHot)', 'P6_g_Teradata(OneHot)', 'P1_l(OrdEnc)',\n",
       "       'P2_e(OrdEnc)', 'P2_g(OrdEnc)', 'P2_i(OrdEnc)', 'P2_j(OrdEnc)',\n",
       "       'P2_h(OrdEnc)'],\n",
       "      dtype='object', length=335)"
      ]
     },
     "execution_count": 17,
     "metadata": {},
     "output_type": "execute_result"
    }
   ],
   "source": [
    "# for sens_col in sensible:\n",
    "#     df_feat_selected = pd.concat([df_feat_selected, pd.get_dummies(df_feat_selected[sens_col])], axis=1)\n",
    "\n",
    "df_train_selected.columns"
   ]
  },
  {
   "cell_type": "code",
   "execution_count": 18,
   "metadata": {},
   "outputs": [],
   "source": [
    "test_feat_selected = test[onehot_cols+ordered_cols]\n",
    "\n",
    "# for sens_col in sensible:\n",
    "#     test_feat_selected = pd.concat([test_feat_selected, pd.get_dummies(test_feat_selected[sens_col])], axis=1)"
   ]
  },
  {
   "cell_type": "code",
   "execution_count": 19,
   "metadata": {},
   "outputs": [],
   "source": [
    "X_train = df_train_selected.drop(columns=['P2_h(OrdEnc)'])\n",
    "y_train = df_train_selected['P2_h(OrdEnc)']\n",
    "\n",
    "X_test = test_feat_selected.drop(columns=['P2_h(OrdEnc)'])\n",
    "y_test = test_feat_selected['P2_h(OrdEnc)']\n",
    "\n",
    "# Teste\n",
    "# gambiarra porque no teste não tinha nenhuma classe indígena, então a coluna não foi criada no get dummies\n",
    "# X_test['Indígena'] = 0\n",
    "\n",
    "# Preserve order\n",
    "X_test = X_test[X_train.columns]"
   ]
  },
  {
   "cell_type": "code",
   "execution_count": 20,
   "metadata": {},
   "outputs": [
    {
     "name": "stdout",
     "output_type": "stream",
     "text": [
      "334\n",
      "334\n"
     ]
    },
    {
     "data": {
      "text/plain": [
       "Index(['P2_o_1(FromList)', 'P2_o_2(FromList)', 'P2_o_3(FromList)',\n",
       "       'P2_o_4(FromList)', 'P2_o_5(FromList)', 'P2_o_6(FromList)',\n",
       "       'P2_o_7(FromList)', 'P2_o_8(FromList)', 'P2_o_9(FromList)',\n",
       "       'P2_o_10(FromList)',\n",
       "       ...\n",
       "       'P6_g_Oracle(OneHot)', 'P6_g_Postgres/MySQL(OneHot)',\n",
       "       'P6_g_Presto(OneHot)', 'P6_g_Snowflake(OneHot)',\n",
       "       'P6_g_Teradata(OneHot)', 'P1_l(OrdEnc)', 'P2_e(OrdEnc)', 'P2_g(OrdEnc)',\n",
       "       'P2_i(OrdEnc)', 'P2_j(OrdEnc)'],\n",
       "      dtype='object', length=334)"
      ]
     },
     "execution_count": 20,
     "metadata": {},
     "output_type": "execute_result"
    }
   ],
   "source": [
    "print(len(X_train.columns))\n",
    "print(len(X_test.columns))\n",
    "\n",
    "X_train.columns"
   ]
  },
  {
   "cell_type": "code",
   "execution_count": 21,
   "metadata": {},
   "outputs": [],
   "source": [
    "# See if order of train and test columns are exactly the same\n",
    "assert (X_train.columns == X_test.columns).all()"
   ]
  },
  {
   "cell_type": "code",
   "execution_count": 22,
   "metadata": {},
   "outputs": [],
   "source": [
    "import pandas as pd\n",
    "from sklearn.model_selection import train_test_split\n",
    "from sklearn.preprocessing import StandardScaler, OneHotEncoder\n",
    "from sklearn.impute import SimpleImputer\n",
    "from sklearn.feature_selection import VarianceThreshold\n",
    "from sklearn.discriminant_analysis import QuadraticDiscriminantAnalysis\n",
    "from sklearn.linear_model import LogisticRegression\n",
    "from sklearn.neighbors import KNeighborsClassifier\n",
    "from sklearn.tree import DecisionTreeClassifier\n",
    "import joblib"
   ]
  },
  {
   "cell_type": "code",
   "execution_count": 23,
   "metadata": {},
   "outputs": [
    {
     "data": {
      "text/html": [
       "<div>\n",
       "<style scoped>\n",
       "    .dataframe tbody tr th:only-of-type {\n",
       "        vertical-align: middle;\n",
       "    }\n",
       "\n",
       "    .dataframe tbody tr th {\n",
       "        vertical-align: top;\n",
       "    }\n",
       "\n",
       "    .dataframe thead th {\n",
       "        text-align: right;\n",
       "    }\n",
       "</style>\n",
       "<table border=\"1\" class=\"dataframe\">\n",
       "  <thead>\n",
       "    <tr style=\"text-align: right;\">\n",
       "      <th></th>\n",
       "      <th>P1_c_Amarela(OneHot)</th>\n",
       "      <th>P1_c_Branca(OneHot)</th>\n",
       "      <th>P1_c_Indígena(OneHot)</th>\n",
       "      <th>P1_c_Outra(OneHot)</th>\n",
       "      <th>P1_c_Parda(OneHot)</th>\n",
       "      <th>P1_c_Prefiro não informar(OneHot)</th>\n",
       "      <th>P1_c_Preta(OneHot)</th>\n",
       "    </tr>\n",
       "  </thead>\n",
       "  <tbody>\n",
       "    <tr>\n",
       "      <th>0</th>\n",
       "      <td>False</td>\n",
       "      <td>True</td>\n",
       "      <td>False</td>\n",
       "      <td>False</td>\n",
       "      <td>False</td>\n",
       "      <td>False</td>\n",
       "      <td>False</td>\n",
       "    </tr>\n",
       "    <tr>\n",
       "      <th>1</th>\n",
       "      <td>False</td>\n",
       "      <td>False</td>\n",
       "      <td>False</td>\n",
       "      <td>False</td>\n",
       "      <td>False</td>\n",
       "      <td>False</td>\n",
       "      <td>True</td>\n",
       "    </tr>\n",
       "    <tr>\n",
       "      <th>2</th>\n",
       "      <td>False</td>\n",
       "      <td>True</td>\n",
       "      <td>False</td>\n",
       "      <td>False</td>\n",
       "      <td>False</td>\n",
       "      <td>False</td>\n",
       "      <td>False</td>\n",
       "    </tr>\n",
       "    <tr>\n",
       "      <th>3</th>\n",
       "      <td>False</td>\n",
       "      <td>True</td>\n",
       "      <td>False</td>\n",
       "      <td>False</td>\n",
       "      <td>False</td>\n",
       "      <td>False</td>\n",
       "      <td>False</td>\n",
       "    </tr>\n",
       "    <tr>\n",
       "      <th>4</th>\n",
       "      <td>False</td>\n",
       "      <td>True</td>\n",
       "      <td>False</td>\n",
       "      <td>False</td>\n",
       "      <td>False</td>\n",
       "      <td>False</td>\n",
       "      <td>False</td>\n",
       "    </tr>\n",
       "    <tr>\n",
       "      <th>...</th>\n",
       "      <td>...</td>\n",
       "      <td>...</td>\n",
       "      <td>...</td>\n",
       "      <td>...</td>\n",
       "      <td>...</td>\n",
       "      <td>...</td>\n",
       "      <td>...</td>\n",
       "    </tr>\n",
       "    <tr>\n",
       "      <th>3796</th>\n",
       "      <td>False</td>\n",
       "      <td>True</td>\n",
       "      <td>False</td>\n",
       "      <td>False</td>\n",
       "      <td>False</td>\n",
       "      <td>False</td>\n",
       "      <td>False</td>\n",
       "    </tr>\n",
       "    <tr>\n",
       "      <th>3797</th>\n",
       "      <td>False</td>\n",
       "      <td>True</td>\n",
       "      <td>False</td>\n",
       "      <td>False</td>\n",
       "      <td>False</td>\n",
       "      <td>False</td>\n",
       "      <td>False</td>\n",
       "    </tr>\n",
       "    <tr>\n",
       "      <th>3798</th>\n",
       "      <td>False</td>\n",
       "      <td>True</td>\n",
       "      <td>False</td>\n",
       "      <td>False</td>\n",
       "      <td>False</td>\n",
       "      <td>False</td>\n",
       "      <td>False</td>\n",
       "    </tr>\n",
       "    <tr>\n",
       "      <th>3799</th>\n",
       "      <td>False</td>\n",
       "      <td>True</td>\n",
       "      <td>False</td>\n",
       "      <td>False</td>\n",
       "      <td>False</td>\n",
       "      <td>False</td>\n",
       "      <td>False</td>\n",
       "    </tr>\n",
       "    <tr>\n",
       "      <th>3800</th>\n",
       "      <td>False</td>\n",
       "      <td>False</td>\n",
       "      <td>False</td>\n",
       "      <td>False</td>\n",
       "      <td>True</td>\n",
       "      <td>False</td>\n",
       "      <td>False</td>\n",
       "    </tr>\n",
       "  </tbody>\n",
       "</table>\n",
       "<p>3801 rows × 7 columns</p>\n",
       "</div>"
      ],
      "text/plain": [
       "      P1_c_Amarela(OneHot)  P1_c_Branca(OneHot)  P1_c_Indígena(OneHot)  \\\n",
       "0                    False                 True                  False   \n",
       "1                    False                False                  False   \n",
       "2                    False                 True                  False   \n",
       "3                    False                 True                  False   \n",
       "4                    False                 True                  False   \n",
       "...                    ...                  ...                    ...   \n",
       "3796                 False                 True                  False   \n",
       "3797                 False                 True                  False   \n",
       "3798                 False                 True                  False   \n",
       "3799                 False                 True                  False   \n",
       "3800                 False                False                  False   \n",
       "\n",
       "      P1_c_Outra(OneHot)  P1_c_Parda(OneHot)  \\\n",
       "0                  False               False   \n",
       "1                  False               False   \n",
       "2                  False               False   \n",
       "3                  False               False   \n",
       "4                  False               False   \n",
       "...                  ...                 ...   \n",
       "3796               False               False   \n",
       "3797               False               False   \n",
       "3798               False               False   \n",
       "3799               False               False   \n",
       "3800               False                True   \n",
       "\n",
       "      P1_c_Prefiro não informar(OneHot)  P1_c_Preta(OneHot)  \n",
       "0                                 False               False  \n",
       "1                                 False                True  \n",
       "2                                 False               False  \n",
       "3                                 False               False  \n",
       "4                                 False               False  \n",
       "...                                 ...                 ...  \n",
       "3796                              False               False  \n",
       "3797                              False               False  \n",
       "3798                              False               False  \n",
       "3799                              False               False  \n",
       "3800                              False               False  \n",
       "\n",
       "[3801 rows x 7 columns]"
      ]
     },
     "execution_count": 23,
     "metadata": {},
     "output_type": "execute_result"
    }
   ],
   "source": [
    "X_train[[col for col in X_train.columns if \"P1_c\" in col]]"
   ]
  },
  {
   "cell_type": "code",
   "execution_count": 24,
   "metadata": {},
   "outputs": [
    {
     "name": "stderr",
     "output_type": "stream",
     "text": [
      "c:\\Users\\vi_ma\\anaconda3\\lib\\site-packages\\sklearn\\linear_model\\_logistic.py:814: ConvergenceWarning: lbfgs failed to converge (status=1):\n",
      "STOP: TOTAL NO. of ITERATIONS REACHED LIMIT.\n",
      "\n",
      "Increase the number of iterations (max_iter) or scale the data as shown in:\n",
      "    https://scikit-learn.org/stable/modules/preprocessing.html\n",
      "Please also refer to the documentation for alternative solver options:\n",
      "    https://scikit-learn.org/stable/modules/linear_model.html#logistic-regression\n",
      "  n_iter_i = _check_optimize_result(\n"
     ]
    },
    {
     "data": {
      "text/plain": [
       "LogisticRegression()"
      ]
     },
     "execution_count": 24,
     "metadata": {},
     "output_type": "execute_result"
    }
   ],
   "source": [
    "# Logistic Regression\n",
    "logistic_regression = LogisticRegression(max_iter=100)\n",
    "logistic_regression.fit(X_train, y_train)"
   ]
  },
  {
   "cell_type": "code",
   "execution_count": 25,
   "metadata": {},
   "outputs": [
    {
     "data": {
      "text/plain": [
       "KNeighborsClassifier()"
      ]
     },
     "execution_count": 25,
     "metadata": {},
     "output_type": "execute_result"
    }
   ],
   "source": [
    "# KNN\n",
    "knn = KNeighborsClassifier(n_neighbors=5)\n",
    "knn.fit(X_train, y_train)"
   ]
  },
  {
   "cell_type": "code",
   "execution_count": 26,
   "metadata": {},
   "outputs": [
    {
     "data": {
      "text/plain": [
       "DecisionTreeClassifier()"
      ]
     },
     "execution_count": 26,
     "metadata": {},
     "output_type": "execute_result"
    }
   ],
   "source": [
    "# Decision Tree\n",
    "decision_tree = DecisionTreeClassifier()\n",
    "decision_tree.fit(X_train, y_train)"
   ]
  },
  {
   "cell_type": "code",
   "execution_count": 27,
   "metadata": {},
   "outputs": [
    {
     "name": "stderr",
     "output_type": "stream",
     "text": [
      "c:\\Users\\vi_ma\\anaconda3\\lib\\site-packages\\sklearn\\discriminant_analysis.py:878: UserWarning: Variables are collinear\n",
      "  warnings.warn(\"Variables are collinear\")\n"
     ]
    },
    {
     "data": {
      "text/plain": [
       "QuadraticDiscriminantAnalysis()"
      ]
     },
     "execution_count": 27,
     "metadata": {},
     "output_type": "execute_result"
    }
   ],
   "source": [
    "# Fit the QDA model with the balanced dataset\n",
    "qda = QuadraticDiscriminantAnalysis()\n",
    "qda.fit(X_train, y_train)"
   ]
  },
  {
   "cell_type": "code",
   "execution_count": 28,
   "metadata": {},
   "outputs": [],
   "source": [
    "from sklearn.metrics import accuracy_score, precision_score, recall_score, f1_score"
   ]
  },
  {
   "cell_type": "code",
   "execution_count": 29,
   "metadata": {},
   "outputs": [
    {
     "data": {
      "text/plain": [
       "set()"
      ]
     },
     "execution_count": 29,
     "metadata": {},
     "output_type": "execute_result"
    }
   ],
   "source": [
    "set(X_train.columns)-set(X_test.columns)"
   ]
  },
  {
   "cell_type": "code",
   "execution_count": 30,
   "metadata": {},
   "outputs": [
    {
     "data": {
      "text/plain": [
       "Index(['P2_o_1(FromList)', 'P2_o_2(FromList)', 'P2_o_3(FromList)',\n",
       "       'P2_o_4(FromList)', 'P2_o_5(FromList)', 'P2_o_6(FromList)',\n",
       "       'P2_o_7(FromList)', 'P2_o_8(FromList)', 'P2_o_9(FromList)',\n",
       "       'P2_o_10(FromList)',\n",
       "       ...\n",
       "       'P6_g_Oracle(OneHot)', 'P6_g_Postgres/MySQL(OneHot)',\n",
       "       'P6_g_Presto(OneHot)', 'P6_g_Snowflake(OneHot)',\n",
       "       'P6_g_Teradata(OneHot)', 'P1_l(OrdEnc)', 'P2_e(OrdEnc)', 'P2_g(OrdEnc)',\n",
       "       'P2_i(OrdEnc)', 'P2_j(OrdEnc)'],\n",
       "      dtype='object', length=334)"
      ]
     },
     "execution_count": 30,
     "metadata": {},
     "output_type": "execute_result"
    }
   ],
   "source": [
    "X_train.columns"
   ]
  },
  {
   "cell_type": "code",
   "execution_count": 31,
   "metadata": {},
   "outputs": [
    {
     "data": {
      "text/plain": [
       "Index(['P2_o_1(FromList)', 'P2_o_2(FromList)', 'P2_o_3(FromList)',\n",
       "       'P2_o_4(FromList)', 'P2_o_5(FromList)', 'P2_o_6(FromList)',\n",
       "       'P2_o_7(FromList)', 'P2_o_8(FromList)', 'P2_o_9(FromList)',\n",
       "       'P2_o_10(FromList)',\n",
       "       ...\n",
       "       'P6_g_Oracle(OneHot)', 'P6_g_Postgres/MySQL(OneHot)',\n",
       "       'P6_g_Presto(OneHot)', 'P6_g_Snowflake(OneHot)',\n",
       "       'P6_g_Teradata(OneHot)', 'P1_l(OrdEnc)', 'P2_e(OrdEnc)', 'P2_g(OrdEnc)',\n",
       "       'P2_i(OrdEnc)', 'P2_j(OrdEnc)'],\n",
       "      dtype='object', length=334)"
      ]
     },
     "execution_count": 31,
     "metadata": {},
     "output_type": "execute_result"
    }
   ],
   "source": [
    "X_test.columns"
   ]
  },
  {
   "cell_type": "code",
   "execution_count": 32,
   "metadata": {},
   "outputs": [
    {
     "data": {
      "text/plain": [
       "set()"
      ]
     },
     "execution_count": 32,
     "metadata": {},
     "output_type": "execute_result"
    }
   ],
   "source": [
    "cols_when_model_fited = logistic_regression.feature_names_in_\n",
    "\n",
    "set(cols_when_model_fited) - set(X_test[X_train.columns])"
   ]
  },
  {
   "cell_type": "code",
   "execution_count": 37,
   "metadata": {},
   "outputs": [
    {
     "data": {
      "text/html": [
       "<div>\n",
       "<style scoped>\n",
       "    .dataframe tbody tr th:only-of-type {\n",
       "        vertical-align: middle;\n",
       "    }\n",
       "\n",
       "    .dataframe tbody tr th {\n",
       "        vertical-align: top;\n",
       "    }\n",
       "\n",
       "    .dataframe thead th {\n",
       "        text-align: right;\n",
       "    }\n",
       "</style>\n",
       "<table border=\"1\" class=\"dataframe\">\n",
       "  <thead>\n",
       "    <tr style=\"text-align: right;\">\n",
       "      <th></th>\n",
       "      <th>Model</th>\n",
       "      <th>Accuracy</th>\n",
       "      <th>Precision</th>\n",
       "      <th>Recall</th>\n",
       "      <th>F1-Score</th>\n",
       "    </tr>\n",
       "  </thead>\n",
       "  <tbody>\n",
       "    <tr>\n",
       "      <th>0</th>\n",
       "      <td>QDA</td>\n",
       "      <td>0.201893</td>\n",
       "      <td>0.068899</td>\n",
       "      <td>0.111761</td>\n",
       "      <td>0.068859</td>\n",
       "    </tr>\n",
       "    <tr>\n",
       "      <th>1</th>\n",
       "      <td>Logistic Regression</td>\n",
       "      <td>0.302839</td>\n",
       "      <td>0.229621</td>\n",
       "      <td>0.223690</td>\n",
       "      <td>0.225422</td>\n",
       "    </tr>\n",
       "    <tr>\n",
       "      <th>2</th>\n",
       "      <td>KNN</td>\n",
       "      <td>0.277603</td>\n",
       "      <td>0.261929</td>\n",
       "      <td>0.215394</td>\n",
       "      <td>0.225214</td>\n",
       "    </tr>\n",
       "    <tr>\n",
       "      <th>3</th>\n",
       "      <td>Decision Tree</td>\n",
       "      <td>0.275499</td>\n",
       "      <td>0.203945</td>\n",
       "      <td>0.206385</td>\n",
       "      <td>0.202931</td>\n",
       "    </tr>\n",
       "  </tbody>\n",
       "</table>\n",
       "</div>"
      ],
      "text/plain": [
       "                 Model  Accuracy  Precision    Recall  F1-Score\n",
       "0                  QDA  0.201893   0.068899  0.111761  0.068859\n",
       "1  Logistic Regression  0.302839   0.229621  0.223690  0.225422\n",
       "2                  KNN  0.277603   0.261929  0.215394  0.225214\n",
       "3        Decision Tree  0.275499   0.203945  0.206385  0.202931"
      ]
     },
     "execution_count": 37,
     "metadata": {},
     "output_type": "execute_result"
    }
   ],
   "source": [
    "import numpy as np\n",
    "models = {\n",
    "    'QDA': qda,\n",
    "    'Logistic Regression': logistic_regression,\n",
    "    'KNN': knn,\n",
    "    'Decision Tree': decision_tree\n",
    "}\n",
    "\n",
    "cols_when_model_fited = logistic_regression.feature_names_in_\n",
    "\n",
    "results = []\n",
    "for model_name, model in models.items():\n",
    "    #X_test_aligned = X_test[X_train.columns]\n",
    "    y_pred = model.predict(X_test)\n",
    "    accuracy = accuracy_score(y_test, y_pred)\n",
    "    precision = np.mean(precision_score(y_test, y_pred, average=None, zero_division=0))\n",
    "    recall = np.mean(recall_score(y_test, y_pred, average=None, zero_division=0))\n",
    "    f1 = np.mean(f1_score(y_test, y_pred, average=None, zero_division=0))\n",
    "    results.append([model_name, accuracy, precision, recall, f1])\n",
    "\n",
    "# Store the results in a DataFrame\n",
    "results_df = pd.DataFrame(results, columns=['Model', 'Accuracy', 'Precision', 'Recall', 'F1-Score'])\n",
    "\n",
    "# Print the results\n",
    "results_df"
   ]
  },
  {
   "cell_type": "code",
   "execution_count": 38,
   "metadata": {},
   "outputs": [
    {
     "data": {
      "text/plain": [
       "3      True\n",
       "8      True\n",
       "10     True\n",
       "22     True\n",
       "24     True\n",
       "       ... \n",
       "927    True\n",
       "930    True\n",
       "932    True\n",
       "935    True\n",
       "938    True\n",
       "Name: P1_b_Feminino(OneHot), Length: 213, dtype: bool"
      ]
     },
     "execution_count": 38,
     "metadata": {},
     "output_type": "execute_result"
    }
   ],
   "source": [
    "# Define sens_col\n",
    "sens_col = 'P1_b_Feminino(OneHot)'\n",
    "\n",
    "# Use proper boolean indexing\n",
    "test = X_test[X_test[sens_col] == True]\n",
    "\n",
    "test[sens_col]\n"
   ]
  },
  {
   "cell_type": "code",
   "execution_count": 41,
   "metadata": {},
   "outputs": [
    {
     "data": {
      "text/html": [
       "<div>\n",
       "<style scoped>\n",
       "    .dataframe tbody tr th:only-of-type {\n",
       "        vertical-align: middle;\n",
       "    }\n",
       "\n",
       "    .dataframe tbody tr th {\n",
       "        vertical-align: top;\n",
       "    }\n",
       "\n",
       "    .dataframe thead th {\n",
       "        text-align: right;\n",
       "    }\n",
       "</style>\n",
       "<table border=\"1\" class=\"dataframe\">\n",
       "  <thead>\n",
       "    <tr style=\"text-align: right;\">\n",
       "      <th></th>\n",
       "      <th>column</th>\n",
       "      <th>accuracy</th>\n",
       "      <th>f1</th>\n",
       "    </tr>\n",
       "  </thead>\n",
       "  <tbody>\n",
       "    <tr>\n",
       "      <th>0</th>\n",
       "      <td>P1_a_1_17-21(OneHot)</td>\n",
       "      <td>0.181818</td>\n",
       "      <td>0.042328</td>\n",
       "    </tr>\n",
       "    <tr>\n",
       "      <th>7</th>\n",
       "      <td>P1_a_1_50-54(OneHot)</td>\n",
       "      <td>0.136364</td>\n",
       "      <td>0.104762</td>\n",
       "    </tr>\n",
       "    <tr>\n",
       "      <th>1</th>\n",
       "      <td>P1_a_1_22-24(OneHot)</td>\n",
       "      <td>0.225000</td>\n",
       "      <td>0.146699</td>\n",
       "    </tr>\n",
       "    <tr>\n",
       "      <th>3</th>\n",
       "      <td>P1_a_1_30-34(OneHot)</td>\n",
       "      <td>0.303371</td>\n",
       "      <td>0.168205</td>\n",
       "    </tr>\n",
       "    <tr>\n",
       "      <th>4</th>\n",
       "      <td>P1_a_1_35-39(OneHot)</td>\n",
       "      <td>0.330827</td>\n",
       "      <td>0.183102</td>\n",
       "    </tr>\n",
       "    <tr>\n",
       "      <th>9</th>\n",
       "      <td>P1_b_Feminino(OneHot)</td>\n",
       "      <td>0.281690</td>\n",
       "      <td>0.196317</td>\n",
       "    </tr>\n",
       "    <tr>\n",
       "      <th>6</th>\n",
       "      <td>P1_a_1_45-49(OneHot)</td>\n",
       "      <td>0.322581</td>\n",
       "      <td>0.200000</td>\n",
       "    </tr>\n",
       "    <tr>\n",
       "      <th>5</th>\n",
       "      <td>P1_a_1_40-44(OneHot)</td>\n",
       "      <td>0.279070</td>\n",
       "      <td>0.239285</td>\n",
       "    </tr>\n",
       "    <tr>\n",
       "      <th>2</th>\n",
       "      <td>P1_a_1_25-29(OneHot)</td>\n",
       "      <td>0.331126</td>\n",
       "      <td>0.248706</td>\n",
       "    </tr>\n",
       "    <tr>\n",
       "      <th>8</th>\n",
       "      <td>P1_a_1_55+(OneHot)</td>\n",
       "      <td>0.500000</td>\n",
       "      <td>0.458333</td>\n",
       "    </tr>\n",
       "  </tbody>\n",
       "</table>\n",
       "</div>"
      ],
      "text/plain": [
       "                  column  accuracy        f1\n",
       "0   P1_a_1_17-21(OneHot)  0.181818  0.042328\n",
       "7   P1_a_1_50-54(OneHot)  0.136364  0.104762\n",
       "1   P1_a_1_22-24(OneHot)  0.225000  0.146699\n",
       "3   P1_a_1_30-34(OneHot)  0.303371  0.168205\n",
       "4   P1_a_1_35-39(OneHot)  0.330827  0.183102\n",
       "9  P1_b_Feminino(OneHot)  0.281690  0.196317\n",
       "6   P1_a_1_45-49(OneHot)  0.322581  0.200000\n",
       "5   P1_a_1_40-44(OneHot)  0.279070  0.239285\n",
       "2   P1_a_1_25-29(OneHot)  0.331126  0.248706\n",
       "8     P1_a_1_55+(OneHot)  0.500000  0.458333"
      ]
     },
     "metadata": {},
     "output_type": "display_data"
    },
    {
     "data": {
      "text/html": [
       "<div>\n",
       "<style scoped>\n",
       "    .dataframe tbody tr th:only-of-type {\n",
       "        vertical-align: middle;\n",
       "    }\n",
       "\n",
       "    .dataframe tbody tr th {\n",
       "        vertical-align: top;\n",
       "    }\n",
       "\n",
       "    .dataframe thead th {\n",
       "        text-align: right;\n",
       "    }\n",
       "</style>\n",
       "<table border=\"1\" class=\"dataframe\">\n",
       "  <thead>\n",
       "    <tr style=\"text-align: right;\">\n",
       "      <th></th>\n",
       "      <th>column</th>\n",
       "      <th>accuracy</th>\n",
       "      <th>f1</th>\n",
       "    </tr>\n",
       "  </thead>\n",
       "  <tbody>\n",
       "    <tr>\n",
       "      <th>47</th>\n",
       "      <td>P1_i_2_Não estou em nenhuma região brasileira(...</td>\n",
       "      <td>0.222222</td>\n",
       "      <td>0.161376</td>\n",
       "    </tr>\n",
       "    <tr>\n",
       "      <th>41</th>\n",
       "      <td>P1_i_1_SC(OneHot)</td>\n",
       "      <td>0.291667</td>\n",
       "      <td>0.172495</td>\n",
       "    </tr>\n",
       "    <tr>\n",
       "      <th>49</th>\n",
       "      <td>P1_i_2_Sul(OneHot)</td>\n",
       "      <td>0.318408</td>\n",
       "      <td>0.181209</td>\n",
       "    </tr>\n",
       "    <tr>\n",
       "      <th>46</th>\n",
       "      <td>P1_i_2_Norte(OneHot)</td>\n",
       "      <td>0.200000</td>\n",
       "      <td>0.187500</td>\n",
       "    </tr>\n",
       "    <tr>\n",
       "      <th>48</th>\n",
       "      <td>P1_i_2_Sudeste(OneHot)</td>\n",
       "      <td>0.295775</td>\n",
       "      <td>0.222933</td>\n",
       "    </tr>\n",
       "    <tr>\n",
       "      <th>40</th>\n",
       "      <td>P1_i_1_RS(OneHot)</td>\n",
       "      <td>0.366667</td>\n",
       "      <td>0.223063</td>\n",
       "    </tr>\n",
       "    <tr>\n",
       "      <th>45</th>\n",
       "      <td>P1_i_2_Nordeste(OneHot)</td>\n",
       "      <td>0.360465</td>\n",
       "      <td>0.224698</td>\n",
       "    </tr>\n",
       "    <tr>\n",
       "      <th>43</th>\n",
       "      <td>P1_i_1_SP(OneHot)</td>\n",
       "      <td>0.321337</td>\n",
       "      <td>0.235126</td>\n",
       "    </tr>\n",
       "    <tr>\n",
       "      <th>44</th>\n",
       "      <td>P1_i_2_Centro-oeste(OneHot)</td>\n",
       "      <td>0.285714</td>\n",
       "      <td>0.241204</td>\n",
       "    </tr>\n",
       "    <tr>\n",
       "      <th>42</th>\n",
       "      <td>P1_i_1_SE(OneHot)</td>\n",
       "      <td>0.600000</td>\n",
       "      <td>0.360000</td>\n",
       "    </tr>\n",
       "  </tbody>\n",
       "</table>\n",
       "</div>"
      ],
      "text/plain": [
       "                                               column  accuracy        f1\n",
       "47  P1_i_2_Não estou em nenhuma região brasileira(...  0.222222  0.161376\n",
       "41                                  P1_i_1_SC(OneHot)  0.291667  0.172495\n",
       "49                                 P1_i_2_Sul(OneHot)  0.318408  0.181209\n",
       "46                               P1_i_2_Norte(OneHot)  0.200000  0.187500\n",
       "48                             P1_i_2_Sudeste(OneHot)  0.295775  0.222933\n",
       "40                                  P1_i_1_RS(OneHot)  0.366667  0.223063\n",
       "45                            P1_i_2_Nordeste(OneHot)  0.360465  0.224698\n",
       "43                                  P1_i_1_SP(OneHot)  0.321337  0.235126\n",
       "44                        P1_i_2_Centro-oeste(OneHot)  0.285714  0.241204\n",
       "42                                  P1_i_1_SE(OneHot)  0.600000  0.360000"
      ]
     },
     "metadata": {},
     "output_type": "display_data"
    }
   ],
   "source": [
    "# Teste POR CLASSE SENSÍVEL\n",
    "model = logistic_regression\n",
    "\n",
    "for sens in sensible:\n",
    "    print(f\"Feature {sens}\")\n",
    "    onehot_sensible_cols = [col for col in df_train_resampled.columns if col.startswith(sens) and (col.endswith('(OneHot)') or col.endswith('(FromList)'))]\n",
    "    results_sensible = []\n",
    "    for sens_col in onehot_sensible_cols:\n",
    "        X_test_filtered = X_test[X_test[sens_col] == True]\n",
    "        y_test_filtered = y_test[X_test[sens_col] == True]\n",
    "        if X_test_filtered.shape[0]>0:\n",
    "            y_pred = model.predict(X_test_filtered)\n",
    "            accuracy = accuracy_score(y_test_filtered, y_pred)\n",
    "            f1 = f1_score(y_test_filtered, y_pred, average='macro', zero_division=0)\n",
    "            # print(f\"Classe {sens_col}: acc={accuracy} / f1={f1}\\n\")\n",
    "            results_sensible.append([sens_col, accuracy, f1])\n",
    "\n",
    "    df_results_sensible = pd.DataFrame(results_sensible, columns=['column','accuracy','f1'])\n",
    "    display(df_results_sensible.head(10).sort_values('f1', ascending=False))\n",
    "    display(df_results_sensible.tail(10).sort_values('f1', ascending=False))"
   ]
  },
  {
   "cell_type": "code",
   "execution_count": null,
   "metadata": {},
   "outputs": [],
   "source": []
  }
 ],
 "metadata": {
  "kernelspec": {
   "display_name": "pytorch",
   "language": "python",
   "name": "python3"
  },
  "language_info": {
   "codemirror_mode": {
    "name": "ipython",
    "version": 3
   },
   "file_extension": ".py",
   "mimetype": "text/x-python",
   "name": "python",
   "nbconvert_exporter": "python",
   "pygments_lexer": "ipython3",
   "version": "3.9.12"
  }
 },
 "nbformat": 4,
 "nbformat_minor": 2
}
