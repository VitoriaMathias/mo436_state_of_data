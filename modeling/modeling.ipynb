{
 "cells": [
  {
   "cell_type": "code",
   "execution_count": null,
   "metadata": {},
   "outputs": [],
   "source": [
    "import pandas as pd\n",
    "import re"
   ]
  },
  {
   "cell_type": "code",
   "execution_count": null,
   "metadata": {},
   "outputs": [],
   "source": [
    "# Import data\n",
    "df = pd.read_csv(\"data/State_of_data_BR_2023_Kaggle - df_survey_2023.csv\")"
   ]
  },
  {
   "cell_type": "code",
   "execution_count": null,
   "metadata": {},
   "outputs": [],
   "source": [
    "# mudando o nome das colunas\n",
    "\n",
    "column_dict = {}\n",
    "\n",
    "for col in df.columns:\n",
    "\n",
    "    match = re.match(r\"\\('(.+?)', '(.+?)'\\)\", col)\n",
    "    if match:\n",
    "        cod, pergunta = match.groups()\n",
    "        column_dict[cod.replace(\" \", \"\")] = pergunta\n",
    "    else:\n",
    "        print(col)\n",
    "\n",
    "df.columns = column_dict.keys()"
   ]
  },
  {
   "cell_type": "code",
   "execution_count": null,
   "metadata": {},
   "outputs": [],
   "source": [
    "# Dataprep - toda transformação deve ser criada sobre o teste e somente aplicada sobre o treino\n"
   ]
  }
 ],
 "metadata": {
  "language_info": {
   "name": "python"
  }
 },
 "nbformat": 4,
 "nbformat_minor": 2
}
