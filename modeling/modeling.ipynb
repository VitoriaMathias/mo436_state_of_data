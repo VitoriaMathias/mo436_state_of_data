{
 "cells": [
  {
   "cell_type": "code",
   "execution_count": 44,
   "metadata": {},
   "outputs": [],
   "source": [
    "import pandas as pd\n",
    "import re\n",
    "from imblearn.over_sampling import ADASYN, RandomOverSampler\n",
    "from imblearn.under_sampling import RandomUnderSampler"
   ]
  },
  {
   "cell_type": "code",
   "execution_count": 45,
   "metadata": {},
   "outputs": [],
   "source": [
    "# Import data\n",
    "train = pd.read_csv(\"../data/train_complete.csv\")\n",
    "test = pd.read_csv(\"../data/test_complete.csv\")"
   ]
  },
  {
   "cell_type": "markdown",
   "metadata": {},
   "source": [
    "## Resampling"
   ]
  },
  {
   "cell_type": "code",
   "execution_count": 46,
   "metadata": {},
   "outputs": [],
   "source": [
    "# Dataprep - toda transformação deve ser criada sobre o teste e somente aplicada sobre o treino\n",
    "def apply_random_oversampling(df, oversample_col='', exclude_category=None):\n",
    "    '''\n",
    "    df: dataframe with all columns\n",
    "    oversample_col: column to apply the oversampling\n",
    "    exclude_category: list of categories on oversample_col to set apart while oversampling\n",
    "    '''\n",
    "    df_cat = pd.DataFrame(columns = df.columns)\n",
    "    df_ = df.copy()\n",
    "    \n",
    "    # Separando categorias específica se necessário\n",
    "    if exclude_category is not None:\n",
    "        \n",
    "        for cat in exclude_category:\n",
    "            \n",
    "            df_cat = pd.concat([df_cat, df[df[oversample_col]==cat]]).reset_index(drop=True)\n",
    "            \n",
    "            # removendo categorias que não serão oversampled\n",
    "            df_ = df_[df[oversample_col]!=cat].reset_index()\n",
    "    \n",
    "    # Separando coluna de oversampling\n",
    "    X = df_.drop(columns=[oversample_col])\n",
    "    y = df_[oversample_col]\n",
    "\n",
    "    # Aplicando Random Oversampling\n",
    "    oversampler = RandomOverSampler(sampling_strategy='auto', random_state=42)\n",
    "    X_resampled, y_resampled = oversampler.fit_resample(X, y)\n",
    "\n",
    "    df_resampled = pd.DataFrame(X_resampled, columns=X.columns)\n",
    "    df_resampled[oversample_col] = y_resampled\n",
    "\n",
    "    # Exibir o DataFrame balanceado\n",
    "    print(df_resampled[oversample_col].value_counts())\n",
    "    \n",
    "    # inserindo de volta as categorias que foram separadas\n",
    "    if not df_cat.empty:\n",
    "        df_resampled = pd.concat([df_resampled, df_cat]).reset_index(drop=True)\n",
    "        \n",
    "    return df_resampled"
   ]
  },
  {
   "cell_type": "code",
   "execution_count": 47,
   "metadata": {},
   "outputs": [],
   "source": [
    "def apply_random_undersampling(df, undersample_col='', strategy={}):\n",
    "    '''\n",
    "    df: dataframe with all columns\n",
    "    undersample_col: column to apply the undersampling\n",
    "    srtategy: dictionary with the category as key and number of samples requested as value\n",
    "    '''\n",
    "\n",
    "    X = df.drop(columns=[undersample_col])\n",
    "    y = df[undersample_col]\n",
    "\n",
    "    # aplicando undersampling\n",
    "    undersampler = RandomUnderSampler(sampling_strategy=strategy, random_state=42)\n",
    "    X_resampled, y_resampled = undersampler.fit_resample(X, y)\n",
    "\n",
    "    df_resampled = pd.DataFrame(X_resampled, columns=X.columns)\n",
    "    df_resampled[undersample_col] = y_resampled\n",
    "\n",
    "    # Exibir o DataFrame balanceado e a distribuição de classes\n",
    "    print(df_resampled[undersample_col].value_counts())\n",
    "    \n",
    "    return df_resampled"
   ]
  },
  {
   "cell_type": "code",
   "execution_count": 48,
   "metadata": {},
   "outputs": [
    {
     "data": {
      "text/plain": [
       "Index(['P0', 'P1_a', 'P1_a_1', 'P1_b', 'P1_c', 'P1_d', 'P1_e', 'P1_e_1',\n",
       "       'P1_e_2', 'P1_e_3',\n",
       "       ...\n",
       "       'P6_g_Postgres/MySQL(OneHot)', 'P6_g_Presto(OneHot)',\n",
       "       'P6_g_Snowflake(OneHot)', 'P6_g_Teradata(OneHot)', 'P6_g_nan(OneHot)',\n",
       "       'P1_l(OrdEnc)', 'P2_e(OrdEnc)', 'P2_g(OrdEnc)', 'P2_i(OrdEnc)',\n",
       "       'P2_j(OrdEnc)'],\n",
       "      dtype='object', length=739)"
      ]
     },
     "execution_count": 48,
     "metadata": {},
     "output_type": "execute_result"
    }
   ],
   "source": [
    "train.columns"
   ]
  },
  {
   "cell_type": "code",
   "execution_count": 49,
   "metadata": {},
   "outputs": [
    {
     "name": "stderr",
     "output_type": "stream",
     "text": [
      "/var/folders/bk/g3qj80rj34g417z03l7_tsjc0000gn/T/ipykernel_88466/4237983600.py:30: PerformanceWarning: DataFrame is highly fragmented.  This is usually the result of calling `frame.insert` many times, which has poor performance.  Consider joining all columns at once using pd.concat(axis=1) instead. To get a de-fragmented frame, use `newframe = frame.copy()`\n",
      "  df_resampled[oversample_col] = y_resampled\n"
     ]
    },
    {
     "name": "stdout",
     "output_type": "stream",
     "text": [
      "Branca                  2732\n",
      "Parda                   2732\n",
      "Preta                   2732\n",
      "Prefiro não informar    2732\n",
      "Amarela                 2732\n",
      "Outra                   2732\n",
      "Indígena                2732\n",
      "Name: P1_c, dtype: int64\n"
     ]
    },
    {
     "name": "stderr",
     "output_type": "stream",
     "text": [
      "/var/folders/bk/g3qj80rj34g417z03l7_tsjc0000gn/T/ipykernel_88466/4237983600.py:30: PerformanceWarning: DataFrame is highly fragmented.  This is usually the result of calling `frame.insert` many times, which has poor performance.  Consider joining all columns at once using pd.concat(axis=1) instead. To get a de-fragmented frame, use `newframe = frame.copy()`\n",
      "  df_resampled[oversample_col] = y_resampled\n"
     ]
    },
    {
     "name": "stdout",
     "output_type": "stream",
     "text": [
      "Masculino               13650\n",
      "Feminino                13650\n",
      "Outro                   13650\n",
      "Prefiro não informar    13650\n",
      "Name: P1_b, dtype: int64\n",
      "25-29    17297\n",
      "30-34    17297\n",
      "40-44    17297\n",
      "45-49    17297\n",
      "35-39    17297\n",
      "22-24    17297\n",
      "17-21    17297\n",
      "50-54    17297\n",
      "55+      17297\n",
      "Name: P1_a_1, dtype: int64\n"
     ]
    },
    {
     "name": "stderr",
     "output_type": "stream",
     "text": [
      "/var/folders/bk/g3qj80rj34g417z03l7_tsjc0000gn/T/ipykernel_88466/4237983600.py:30: PerformanceWarning: DataFrame is highly fragmented.  This is usually the result of calling `frame.insert` many times, which has poor performance.  Consider joining all columns at once using pd.concat(axis=1) instead. To get a de-fragmented frame, use `newframe = frame.copy()`\n",
      "  df_resampled[oversample_col] = y_resampled\n"
     ]
    }
   ],
   "source": [
    "col_raca = 'P1_c'\n",
    "col_genero = 'P1_b'\n",
    "col_idade ='P1_a_1'\n",
    "# col_regiao = 'P1_i_2'\n",
    "\n",
    "cols_resampling = [col_raca, col_genero, col_idade ] # , col_regiao]\n",
    "\n",
    "df_resampled = train.copy()\n",
    "\n",
    "for col in cols_resampling:\n",
    "    df_resampled = apply_random_oversampling(df_resampled, oversample_col=col)"
   ]
  },
  {
   "cell_type": "code",
   "execution_count": 50,
   "metadata": {},
   "outputs": [
    {
     "name": "stdout",
     "output_type": "stream",
     "text": [
      "(155673, 739)\n",
      "<class 'pandas.core.frame.DataFrame'>\n",
      "RangeIndex: 155673 entries, 0 to 155672\n",
      "Columns: 739 entries, P0 to P1_a_1\n",
      "dtypes: bool(650), int64(6), object(83)\n",
      "memory usage: 202.2+ MB\n",
      "None\n"
     ]
    }
   ],
   "source": [
    "print(df_resampled.shape)\n",
    "print(df_resampled.info())"
   ]
  },
  {
   "cell_type": "code",
   "execution_count": 51,
   "metadata": {},
   "outputs": [],
   "source": [
    "# !pip install seaborn"
   ]
  },
  {
   "cell_type": "code",
   "execution_count": 52,
   "metadata": {},
   "outputs": [],
   "source": [
    "onehot = [\"P1_m\", \"P3_c\",\"P4_a\",\"P4_b\", \"P4_c\", \"P4_d\", \"P4_e\", \"P4_g\", \"P4_j\", \"P5_b\", \"P6_a\", \"P6_b\", \"P6_g\", \"P6_h\", \"P7_a\", \"P7_b\", \"P7_d\", \"P8_a\", \"P8_b\", \"P8_c\", \"P8_d\", \"P2_b\", \"P2_d\", \"P2_f\", \"P2_o\", \"P2_r\", \"P6_c\", \"P6_d\", \"P6_e\", \"P6_f\"]\n",
    "ordered = [\"P1_l\", \"P2_e\", \"P2_g\", \"P2_i\", \"P2_j\"]\n",
    "\n",
    "# df_feat_selected = df_resampled[ [x +endswith(\"(OneHot)\") for x in onehot ] + [x +endswith(\"(OrdEnc)\") for x in ordered] ]\n"
   ]
  },
  {
   "cell_type": "code",
   "execution_count": 53,
   "metadata": {},
   "outputs": [
    {
     "name": "stderr",
     "output_type": "stream",
     "text": [
      "/var/folders/bk/g3qj80rj34g417z03l7_tsjc0000gn/T/ipykernel_88466/3852787019.py:9: UserWarning: This pattern is interpreted as a regular expression, and has match groups. To actually get the groups, use str.extract.\n",
      "  df_resampled.columns[df_resampled.columns.str.contains(onehot_pattern) |\n",
      "/var/folders/bk/g3qj80rj34g417z03l7_tsjc0000gn/T/ipykernel_88466/3852787019.py:10: UserWarning: This pattern is interpreted as a regular expression, and has match groups. To actually get the groups, use str.extract.\n",
      "  df_resampled.columns.str.contains(ordered_pattern)]\n"
     ]
    }
   ],
   "source": [
    "import re\n",
    "\n",
    "# Define the patterns for filtering the columns\n",
    "onehot_pattern = f\"^({'|'.join(onehot)}).*\\\\(OneHot\\\\)$\"\n",
    "ordered_pattern = f\"^({'|'.join(ordered)}).*\\\\(OrdEnc\\\\)$\"\n",
    "\n",
    "# Apply the filtering to select the matching columns\n",
    "df_feat_selected = df_resampled[\n",
    "    df_resampled.columns[df_resampled.columns.str.contains(onehot_pattern) | \n",
    "                         df_resampled.columns.str.contains(ordered_pattern)]\n",
    "]"
   ]
  },
  {
   "cell_type": "code",
   "execution_count": 54,
   "metadata": {},
   "outputs": [
    {
     "data": {
      "text/html": [
       "<div>\n",
       "<style scoped>\n",
       "    .dataframe tbody tr th:only-of-type {\n",
       "        vertical-align: middle;\n",
       "    }\n",
       "\n",
       "    .dataframe tbody tr th {\n",
       "        vertical-align: top;\n",
       "    }\n",
       "\n",
       "    .dataframe thead th {\n",
       "        text-align: right;\n",
       "    }\n",
       "</style>\n",
       "<table border=\"1\" class=\"dataframe\">\n",
       "  <thead>\n",
       "    <tr style=\"text-align: right;\">\n",
       "      <th></th>\n",
       "      <th>P1_m_Ciências Biológicas/ Farmácia/ Medicina/ Área da Saúde(OneHot)</th>\n",
       "      <th>P1_m_Ciências Sociais(OneHot)</th>\n",
       "      <th>P1_m_Computação / Engenharia de Software / Sistemas de Informação/ TI(OneHot)</th>\n",
       "      <th>P1_m_Economia/ Administração / Contabilidade / Finanças/ Negócios(OneHot)</th>\n",
       "      <th>P1_m_Estatística/ Matemática / Matemática Computacional/ Ciências Atuariais(OneHot)</th>\n",
       "      <th>P1_m_Marketing / Publicidade / Comunicação / Jornalismo(OneHot)</th>\n",
       "      <th>P1_m_Outra opção(OneHot)</th>\n",
       "      <th>P1_m_Outras Engenharias(OneHot)</th>\n",
       "      <th>P1_m_Química / Física(OneHot)</th>\n",
       "      <th>P1_m_nan(OneHot)</th>\n",
       "      <th>...</th>\n",
       "      <th>P6_g_Postgres/MySQL(OneHot)</th>\n",
       "      <th>P6_g_Presto(OneHot)</th>\n",
       "      <th>P6_g_Snowflake(OneHot)</th>\n",
       "      <th>P6_g_Teradata(OneHot)</th>\n",
       "      <th>P6_g_nan(OneHot)</th>\n",
       "      <th>P1_l(OrdEnc)</th>\n",
       "      <th>P2_e(OrdEnc)</th>\n",
       "      <th>P2_g(OrdEnc)</th>\n",
       "      <th>P2_i(OrdEnc)</th>\n",
       "      <th>P2_j(OrdEnc)</th>\n",
       "    </tr>\n",
       "  </thead>\n",
       "  <tbody>\n",
       "    <tr>\n",
       "      <th>0</th>\n",
       "      <td>False</td>\n",
       "      <td>False</td>\n",
       "      <td>False</td>\n",
       "      <td>True</td>\n",
       "      <td>False</td>\n",
       "      <td>False</td>\n",
       "      <td>False</td>\n",
       "      <td>False</td>\n",
       "      <td>False</td>\n",
       "      <td>False</td>\n",
       "      <td>...</td>\n",
       "      <td>False</td>\n",
       "      <td>False</td>\n",
       "      <td>False</td>\n",
       "      <td>False</td>\n",
       "      <td>True</td>\n",
       "      <td>3</td>\n",
       "      <td>-1</td>\n",
       "      <td>1</td>\n",
       "      <td>2</td>\n",
       "      <td>3</td>\n",
       "    </tr>\n",
       "    <tr>\n",
       "      <th>1</th>\n",
       "      <td>False</td>\n",
       "      <td>False</td>\n",
       "      <td>False</td>\n",
       "      <td>False</td>\n",
       "      <td>False</td>\n",
       "      <td>False</td>\n",
       "      <td>False</td>\n",
       "      <td>False</td>\n",
       "      <td>True</td>\n",
       "      <td>False</td>\n",
       "      <td>...</td>\n",
       "      <td>False</td>\n",
       "      <td>False</td>\n",
       "      <td>False</td>\n",
       "      <td>False</td>\n",
       "      <td>True</td>\n",
       "      <td>6</td>\n",
       "      <td>-1</td>\n",
       "      <td>1</td>\n",
       "      <td>7</td>\n",
       "      <td>6</td>\n",
       "    </tr>\n",
       "    <tr>\n",
       "      <th>2</th>\n",
       "      <td>False</td>\n",
       "      <td>False</td>\n",
       "      <td>True</td>\n",
       "      <td>False</td>\n",
       "      <td>False</td>\n",
       "      <td>False</td>\n",
       "      <td>False</td>\n",
       "      <td>False</td>\n",
       "      <td>False</td>\n",
       "      <td>False</td>\n",
       "      <td>...</td>\n",
       "      <td>False</td>\n",
       "      <td>False</td>\n",
       "      <td>False</td>\n",
       "      <td>False</td>\n",
       "      <td>True</td>\n",
       "      <td>3</td>\n",
       "      <td>-1</td>\n",
       "      <td>2</td>\n",
       "      <td>1</td>\n",
       "      <td>5</td>\n",
       "    </tr>\n",
       "    <tr>\n",
       "      <th>3</th>\n",
       "      <td>False</td>\n",
       "      <td>False</td>\n",
       "      <td>True</td>\n",
       "      <td>False</td>\n",
       "      <td>False</td>\n",
       "      <td>False</td>\n",
       "      <td>False</td>\n",
       "      <td>False</td>\n",
       "      <td>False</td>\n",
       "      <td>False</td>\n",
       "      <td>...</td>\n",
       "      <td>False</td>\n",
       "      <td>False</td>\n",
       "      <td>False</td>\n",
       "      <td>False</td>\n",
       "      <td>True</td>\n",
       "      <td>3</td>\n",
       "      <td>-1</td>\n",
       "      <td>0</td>\n",
       "      <td>2</td>\n",
       "      <td>3</td>\n",
       "    </tr>\n",
       "    <tr>\n",
       "      <th>4</th>\n",
       "      <td>False</td>\n",
       "      <td>False</td>\n",
       "      <td>False</td>\n",
       "      <td>False</td>\n",
       "      <td>True</td>\n",
       "      <td>False</td>\n",
       "      <td>False</td>\n",
       "      <td>False</td>\n",
       "      <td>False</td>\n",
       "      <td>False</td>\n",
       "      <td>...</td>\n",
       "      <td>False</td>\n",
       "      <td>False</td>\n",
       "      <td>False</td>\n",
       "      <td>False</td>\n",
       "      <td>True</td>\n",
       "      <td>3</td>\n",
       "      <td>-1</td>\n",
       "      <td>1</td>\n",
       "      <td>3</td>\n",
       "      <td>5</td>\n",
       "    </tr>\n",
       "  </tbody>\n",
       "</table>\n",
       "<p>5 rows × 106 columns</p>\n",
       "</div>"
      ],
      "text/plain": [
       "   P1_m_Ciências Biológicas/ Farmácia/ Medicina/ Área da Saúde(OneHot)  \\\n",
       "0                                              False                     \n",
       "1                                              False                     \n",
       "2                                              False                     \n",
       "3                                              False                     \n",
       "4                                              False                     \n",
       "\n",
       "   P1_m_Ciências Sociais(OneHot)  \\\n",
       "0                          False   \n",
       "1                          False   \n",
       "2                          False   \n",
       "3                          False   \n",
       "4                          False   \n",
       "\n",
       "   P1_m_Computação / Engenharia de Software / Sistemas de Informação/ TI(OneHot)  \\\n",
       "0                                              False                               \n",
       "1                                              False                               \n",
       "2                                               True                               \n",
       "3                                               True                               \n",
       "4                                              False                               \n",
       "\n",
       "   P1_m_Economia/ Administração / Contabilidade / Finanças/ Negócios(OneHot)  \\\n",
       "0                                               True                           \n",
       "1                                              False                           \n",
       "2                                              False                           \n",
       "3                                              False                           \n",
       "4                                              False                           \n",
       "\n",
       "   P1_m_Estatística/ Matemática / Matemática Computacional/ Ciências Atuariais(OneHot)  \\\n",
       "0                                              False                                     \n",
       "1                                              False                                     \n",
       "2                                              False                                     \n",
       "3                                              False                                     \n",
       "4                                               True                                     \n",
       "\n",
       "   P1_m_Marketing / Publicidade / Comunicação / Jornalismo(OneHot)  \\\n",
       "0                                              False                 \n",
       "1                                              False                 \n",
       "2                                              False                 \n",
       "3                                              False                 \n",
       "4                                              False                 \n",
       "\n",
       "   P1_m_Outra opção(OneHot)  P1_m_Outras Engenharias(OneHot)  \\\n",
       "0                     False                            False   \n",
       "1                     False                            False   \n",
       "2                     False                            False   \n",
       "3                     False                            False   \n",
       "4                     False                            False   \n",
       "\n",
       "   P1_m_Química / Física(OneHot)  P1_m_nan(OneHot)  ...  \\\n",
       "0                          False             False  ...   \n",
       "1                           True             False  ...   \n",
       "2                          False             False  ...   \n",
       "3                          False             False  ...   \n",
       "4                          False             False  ...   \n",
       "\n",
       "   P6_g_Postgres/MySQL(OneHot)  P6_g_Presto(OneHot)  P6_g_Snowflake(OneHot)  \\\n",
       "0                        False                False                   False   \n",
       "1                        False                False                   False   \n",
       "2                        False                False                   False   \n",
       "3                        False                False                   False   \n",
       "4                        False                False                   False   \n",
       "\n",
       "   P6_g_Teradata(OneHot)  P6_g_nan(OneHot)  P1_l(OrdEnc)  P2_e(OrdEnc)  \\\n",
       "0                  False              True             3            -1   \n",
       "1                  False              True             6            -1   \n",
       "2                  False              True             3            -1   \n",
       "3                  False              True             3            -1   \n",
       "4                  False              True             3            -1   \n",
       "\n",
       "   P2_g(OrdEnc)  P2_i(OrdEnc)  P2_j(OrdEnc)  \n",
       "0             1             2             3  \n",
       "1             1             7             6  \n",
       "2             2             1             5  \n",
       "3             0             2             3  \n",
       "4             1             3             5  \n",
       "\n",
       "[5 rows x 106 columns]"
      ]
     },
     "execution_count": 54,
     "metadata": {},
     "output_type": "execute_result"
    }
   ],
   "source": [
    "df_feat_selected.head()"
   ]
  },
  {
   "cell_type": "code",
   "execution_count": null,
   "metadata": {},
   "outputs": [],
   "source": [
    "#"
   ]
  }
 ],
 "metadata": {
  "kernelspec": {
   "display_name": "pytorch",
   "language": "python",
   "name": "python3"
  },
  "language_info": {
   "codemirror_mode": {
    "name": "ipython",
    "version": 3
   },
   "file_extension": ".py",
   "mimetype": "text/x-python",
   "name": "python",
   "nbconvert_exporter": "python",
   "pygments_lexer": "ipython3",
   "version": "3.10.9"
  }
 },
 "nbformat": 4,
 "nbformat_minor": 2
}
