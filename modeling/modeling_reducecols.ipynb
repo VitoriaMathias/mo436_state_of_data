{
 "cells": [
  {
   "cell_type": "code",
   "execution_count": 1,
   "metadata": {},
   "outputs": [
    {
     "name": "stderr",
     "output_type": "stream",
     "text": [
      "c:\\Users\\vi_ma\\anaconda3\\lib\\site-packages\\scipy\\__init__.py:146: UserWarning: A NumPy version >=1.16.5 and <1.23.0 is required for this version of SciPy (detected version 1.26.4\n",
      "  warnings.warn(f\"A NumPy version >={np_minversion} and <{np_maxversion}\"\n"
     ]
    }
   ],
   "source": [
    "import pandas as pd\n",
    "import re\n",
    "from imblearn.over_sampling import ADASYN, RandomOverSampler\n",
    "from imblearn.under_sampling import RandomUnderSampler"
   ]
  },
  {
   "cell_type": "code",
   "execution_count": 2,
   "metadata": {},
   "outputs": [],
   "source": [
    "# Import data\n",
    "train = pd.read_csv(\"../data/train_complete.csv\")\n",
    "test = pd.read_csv(\"../data/test_complete.csv\")"
   ]
  },
  {
   "cell_type": "markdown",
   "metadata": {},
   "source": [
    "## Resampling"
   ]
  },
  {
   "cell_type": "code",
   "execution_count": 3,
   "metadata": {},
   "outputs": [],
   "source": [
    "# Dataprep - toda transformação deve ser criada sobre o teste e somente aplicada sobre o treino\n",
    "def apply_random_oversampling(df, oversample_col='', exclude_category=None):\n",
    "    '''\n",
    "    df: dataframe with all columns\n",
    "    oversample_col: column to apply the oversampling\n",
    "    exclude_category: list of categories on oversample_col to set apart while oversampling\n",
    "    '''\n",
    "    df_cat = pd.DataFrame(columns = df.columns)\n",
    "    df_ = df.copy()\n",
    "    \n",
    "    # Separando categorias específica se necessário\n",
    "    if exclude_category is not None:\n",
    "        \n",
    "        for cat in exclude_category:\n",
    "            \n",
    "            df_cat = pd.concat([df_cat, df[df[oversample_col]==cat]]).reset_index(drop=True)\n",
    "            \n",
    "            # removendo categorias que não serão oversampled\n",
    "            df_ = df_[df[oversample_col]!=cat].reset_index()\n",
    "    \n",
    "    # Separando coluna de oversampling\n",
    "    X = df_.drop(columns=[oversample_col])\n",
    "    y = df_[oversample_col]\n",
    "\n",
    "    # Aplicando Random Oversampling\n",
    "    oversampler = RandomOverSampler(sampling_strategy='auto', random_state=42)\n",
    "    X_resampled, y_resampled = oversampler.fit_resample(X, y)\n",
    "\n",
    "    df_resampled = pd.DataFrame(X_resampled, columns=X.columns)\n",
    "    df_resampled[oversample_col] = y_resampled\n",
    "\n",
    "    # Exibir o DataFrame balanceado\n",
    "    print(df_resampled[oversample_col].value_counts())\n",
    "    \n",
    "    # inserindo de volta as categorias que foram separadas\n",
    "    if not df_cat.empty:\n",
    "        df_resampled = pd.concat([df_resampled, df_cat]).reset_index(drop=True)\n",
    "        \n",
    "    return df_resampled"
   ]
  },
  {
   "cell_type": "code",
   "execution_count": 4,
   "metadata": {},
   "outputs": [],
   "source": [
    "def apply_random_undersampling(df, undersample_col='', strategy={}):\n",
    "    '''\n",
    "    df: dataframe with all columns\n",
    "    undersample_col: column to apply the undersampling\n",
    "    srtategy: dictionary with the category as key and number of samples requested as value\n",
    "    '''\n",
    "\n",
    "    X = df.drop(columns=[undersample_col])\n",
    "    y = df[undersample_col]\n",
    "\n",
    "    # aplicando undersampling\n",
    "    undersampler = RandomUnderSampler(sampling_strategy=strategy, random_state=42)\n",
    "    X_resampled, y_resampled = undersampler.fit_resample(X, y)\n",
    "\n",
    "    df_resampled = pd.DataFrame(X_resampled, columns=X.columns)\n",
    "    df_resampled[undersample_col] = y_resampled\n",
    "\n",
    "    # Exibir o DataFrame balanceado e a distribuição de classes\n",
    "    print(df_resampled[undersample_col].value_counts())\n",
    "    \n",
    "    return df_resampled"
   ]
  },
  {
   "cell_type": "code",
   "execution_count": 5,
   "metadata": {},
   "outputs": [
    {
     "data": {
      "text/plain": [
       "Index(['P0', 'P1_a', 'P1_a_1', 'P1_b', 'P1_c', 'P1_d', 'P1_e', 'P1_e_1',\n",
       "       'P1_e_2', 'P1_e_3',\n",
       "       ...\n",
       "       'P6_g_Presto(OneHot)', 'P6_g_Snowflake(OneHot)',\n",
       "       'P6_g_Teradata(OneHot)', 'P6_g_nan(OneHot)', 'P1_l(OrdEnc)',\n",
       "       'P2_e(OrdEnc)', 'P2_g(OrdEnc)', 'P2_i(OrdEnc)', 'P2_j(OrdEnc)',\n",
       "       'P2_h(OrdEnc)'],\n",
       "      dtype='object', length=724)"
      ]
     },
     "execution_count": 5,
     "metadata": {},
     "output_type": "execute_result"
    }
   ],
   "source": [
    "train.columns"
   ]
  },
  {
   "cell_type": "code",
   "execution_count": 6,
   "metadata": {},
   "outputs": [
    {
     "name": "stderr",
     "output_type": "stream",
     "text": [
      "C:\\Users\\vi_ma\\AppData\\Local\\Temp\\ipykernel_20556\\4237983600.py:30: PerformanceWarning: DataFrame is highly fragmented.  This is usually the result of calling `frame.insert` many times, which has poor performance.  Consider joining all columns at once using pd.concat(axis=1) instead. To get a de-fragmented frame, use `newframe = frame.copy()`\n",
      "  df_resampled[oversample_col] = y_resampled\n"
     ]
    },
    {
     "name": "stdout",
     "output_type": "stream",
     "text": [
      "Branca                  2452\n",
      "Preta                   2452\n",
      "Parda                   2452\n",
      "Amarela                 2452\n",
      "Outra                   2452\n",
      "Prefiro não informar    2452\n",
      "Indígena                2452\n",
      "Name: P1_c, dtype: int64\n"
     ]
    },
    {
     "name": "stderr",
     "output_type": "stream",
     "text": [
      "C:\\Users\\vi_ma\\AppData\\Local\\Temp\\ipykernel_20556\\4237983600.py:30: PerformanceWarning: DataFrame is highly fragmented.  This is usually the result of calling `frame.insert` many times, which has poor performance.  Consider joining all columns at once using pd.concat(axis=1) instead. To get a de-fragmented frame, use `newframe = frame.copy()`\n",
      "  df_resampled[oversample_col] = y_resampled\n"
     ]
    },
    {
     "name": "stdout",
     "output_type": "stream",
     "text": [
      "Masculino               12709\n",
      "Feminino                12709\n",
      "Prefiro não informar    12709\n",
      "Outro                   12709\n",
      "Name: P1_b, dtype: int64\n",
      "25-29    15468\n",
      "30-34    15468\n",
      "40-44    15468\n",
      "17-21    15468\n",
      "35-39    15468\n",
      "22-24    15468\n",
      "45-49    15468\n",
      "50-54    15468\n",
      "55+      15468\n",
      "Name: P1_a_1, dtype: int64\n"
     ]
    },
    {
     "name": "stderr",
     "output_type": "stream",
     "text": [
      "C:\\Users\\vi_ma\\AppData\\Local\\Temp\\ipykernel_20556\\4237983600.py:30: PerformanceWarning: DataFrame is highly fragmented.  This is usually the result of calling `frame.insert` many times, which has poor performance.  Consider joining all columns at once using pd.concat(axis=1) instead. To get a de-fragmented frame, use `newframe = frame.copy()`\n",
      "  df_resampled[oversample_col] = y_resampled\n"
     ]
    }
   ],
   "source": [
    "col_raca = 'P1_c'\n",
    "col_genero = 'P1_b'\n",
    "col_idade ='P1_a_1'\n",
    "# col_regiao = 'P1_i_2'\n",
    "\n",
    "cols_resampling = [col_raca, col_genero, col_idade ] # , col_regiao]\n",
    "\n",
    "df_resampled = train.copy()\n",
    "\n",
    "for col in cols_resampling:\n",
    "    df_resampled = apply_random_oversampling(df_resampled, oversample_col=col)"
   ]
  },
  {
   "cell_type": "code",
   "execution_count": 7,
   "metadata": {},
   "outputs": [
    {
     "name": "stdout",
     "output_type": "stream",
     "text": [
      "(139212, 724)\n",
      "<class 'pandas.core.frame.DataFrame'>\n",
      "RangeIndex: 139212 entries, 0 to 139211\n",
      "Columns: 724 entries, P0 to P1_a_1\n",
      "dtypes: bool(638), int64(7), object(79)\n",
      "memory usage: 176.0+ MB\n",
      "None\n"
     ]
    }
   ],
   "source": [
    "print(df_resampled.shape)\n",
    "print(df_resampled.info())"
   ]
  },
  {
   "cell_type": "code",
   "execution_count": 8,
   "metadata": {},
   "outputs": [],
   "source": [
    "# !pip install seaborn"
   ]
  },
  {
   "cell_type": "code",
   "execution_count": 9,
   "metadata": {},
   "outputs": [],
   "source": [
    "onehot = [\"P1_m\", \"P3_c\",\"P4_a\",\"P4_b\", \"P4_c\", \"P4_d\", \"P4_e\", \"P4_g\", \"P4_j\", \"P5_b\", \"P6_a\", \"P6_b\", \"P6_g\", \"P6_h\", \"P7_a\", \"P7_b\", \"P7_d\", \"P8_a\", \"P8_b\", \"P8_c\", \"P8_d\", \"P2_b\", \"P2_d\", \"P2_f\", \"P2_o\", \"P2_r\"]\n",
    "ordered = [\"P1_l\", \"P2_e\", \"P2_g\", \"P2_i\", \"P2_j\", \"P2_h\"]\n",
    "\n",
    "# df_feat_selected = df_resampled[ [x +endswith(\"(OneHot)\") for x in onehot ] + [x +endswith(\"(OrdEnc)\") for x in ordered] ]\n"
   ]
  },
  {
   "cell_type": "code",
   "execution_count": 10,
   "metadata": {},
   "outputs": [
    {
     "name": "stderr",
     "output_type": "stream",
     "text": [
      "C:\\Users\\vi_ma\\AppData\\Local\\Temp\\ipykernel_20556\\3852787019.py:9: UserWarning: This pattern is interpreted as a regular expression, and has match groups. To actually get the groups, use str.extract.\n",
      "  df_resampled.columns[df_resampled.columns.str.contains(onehot_pattern) |\n",
      "C:\\Users\\vi_ma\\AppData\\Local\\Temp\\ipykernel_20556\\3852787019.py:10: UserWarning: This pattern is interpreted as a regular expression, and has match groups. To actually get the groups, use str.extract.\n",
      "  df_resampled.columns.str.contains(ordered_pattern)]\n"
     ]
    }
   ],
   "source": [
    "import re\n",
    "\n",
    "# Define the patterns for filtering the columns\n",
    "onehot_pattern = f\"^({'|'.join(onehot)}).*\\\\(OneHot\\\\)$\"\n",
    "ordered_pattern = f\"^({'|'.join(ordered)}).*\\\\(OrdEnc\\\\)$\"\n",
    "\n",
    "# Apply the filtering to select the matching columns\n",
    "df_feat_selected = df_resampled[\n",
    "    df_resampled.columns[df_resampled.columns.str.contains(onehot_pattern) | \n",
    "                         df_resampled.columns.str.contains(ordered_pattern)]\n",
    "]"
   ]
  },
  {
   "cell_type": "code",
   "execution_count": 11,
   "metadata": {},
   "outputs": [
    {
     "data": {
      "text/html": [
       "<div>\n",
       "<style scoped>\n",
       "    .dataframe tbody tr th:only-of-type {\n",
       "        vertical-align: middle;\n",
       "    }\n",
       "\n",
       "    .dataframe tbody tr th {\n",
       "        vertical-align: top;\n",
       "    }\n",
       "\n",
       "    .dataframe thead th {\n",
       "        text-align: right;\n",
       "    }\n",
       "</style>\n",
       "<table border=\"1\" class=\"dataframe\">\n",
       "  <thead>\n",
       "    <tr style=\"text-align: right;\">\n",
       "      <th></th>\n",
       "      <th>P1_m_Ciências Biológicas/ Farmácia/ Medicina/ Área da Saúde(OneHot)</th>\n",
       "      <th>P1_m_Ciências Sociais(OneHot)</th>\n",
       "      <th>P1_m_Computação / Engenharia de Software / Sistemas de Informação/ TI(OneHot)</th>\n",
       "      <th>P1_m_Economia/ Administração / Contabilidade / Finanças/ Negócios(OneHot)</th>\n",
       "      <th>P1_m_Estatística/ Matemática / Matemática Computacional/ Ciências Atuariais(OneHot)</th>\n",
       "      <th>P1_m_Marketing / Publicidade / Comunicação / Jornalismo(OneHot)</th>\n",
       "      <th>P1_m_Outra opção(OneHot)</th>\n",
       "      <th>P1_m_Outras Engenharias(OneHot)</th>\n",
       "      <th>P1_m_Química / Física(OneHot)</th>\n",
       "      <th>P1_m_nan(OneHot)</th>\n",
       "      <th>...</th>\n",
       "      <th>P6_g_Presto(OneHot)</th>\n",
       "      <th>P6_g_Snowflake(OneHot)</th>\n",
       "      <th>P6_g_Teradata(OneHot)</th>\n",
       "      <th>P6_g_nan(OneHot)</th>\n",
       "      <th>P1_l(OrdEnc)</th>\n",
       "      <th>P2_e(OrdEnc)</th>\n",
       "      <th>P2_g(OrdEnc)</th>\n",
       "      <th>P2_i(OrdEnc)</th>\n",
       "      <th>P2_j(OrdEnc)</th>\n",
       "      <th>P2_h(OrdEnc)</th>\n",
       "    </tr>\n",
       "  </thead>\n",
       "  <tbody>\n",
       "    <tr>\n",
       "      <th>0</th>\n",
       "      <td>False</td>\n",
       "      <td>False</td>\n",
       "      <td>True</td>\n",
       "      <td>False</td>\n",
       "      <td>False</td>\n",
       "      <td>False</td>\n",
       "      <td>False</td>\n",
       "      <td>False</td>\n",
       "      <td>False</td>\n",
       "      <td>False</td>\n",
       "      <td>...</td>\n",
       "      <td>False</td>\n",
       "      <td>False</td>\n",
       "      <td>False</td>\n",
       "      <td>True</td>\n",
       "      <td>5</td>\n",
       "      <td>4</td>\n",
       "      <td>-1</td>\n",
       "      <td>6</td>\n",
       "      <td>2</td>\n",
       "      <td>10</td>\n",
       "    </tr>\n",
       "    <tr>\n",
       "      <th>1</th>\n",
       "      <td>False</td>\n",
       "      <td>False</td>\n",
       "      <td>True</td>\n",
       "      <td>False</td>\n",
       "      <td>False</td>\n",
       "      <td>False</td>\n",
       "      <td>False</td>\n",
       "      <td>False</td>\n",
       "      <td>False</td>\n",
       "      <td>False</td>\n",
       "      <td>...</td>\n",
       "      <td>False</td>\n",
       "      <td>False</td>\n",
       "      <td>False</td>\n",
       "      <td>True</td>\n",
       "      <td>4</td>\n",
       "      <td>0</td>\n",
       "      <td>-1</td>\n",
       "      <td>6</td>\n",
       "      <td>6</td>\n",
       "      <td>9</td>\n",
       "    </tr>\n",
       "    <tr>\n",
       "      <th>2</th>\n",
       "      <td>False</td>\n",
       "      <td>False</td>\n",
       "      <td>True</td>\n",
       "      <td>False</td>\n",
       "      <td>False</td>\n",
       "      <td>False</td>\n",
       "      <td>False</td>\n",
       "      <td>False</td>\n",
       "      <td>False</td>\n",
       "      <td>False</td>\n",
       "      <td>...</td>\n",
       "      <td>False</td>\n",
       "      <td>False</td>\n",
       "      <td>False</td>\n",
       "      <td>True</td>\n",
       "      <td>6</td>\n",
       "      <td>2</td>\n",
       "      <td>-1</td>\n",
       "      <td>4</td>\n",
       "      <td>1</td>\n",
       "      <td>9</td>\n",
       "    </tr>\n",
       "    <tr>\n",
       "      <th>3</th>\n",
       "      <td>False</td>\n",
       "      <td>False</td>\n",
       "      <td>False</td>\n",
       "      <td>False</td>\n",
       "      <td>False</td>\n",
       "      <td>False</td>\n",
       "      <td>False</td>\n",
       "      <td>False</td>\n",
       "      <td>False</td>\n",
       "      <td>True</td>\n",
       "      <td>...</td>\n",
       "      <td>False</td>\n",
       "      <td>False</td>\n",
       "      <td>False</td>\n",
       "      <td>False</td>\n",
       "      <td>1</td>\n",
       "      <td>-1</td>\n",
       "      <td>1</td>\n",
       "      <td>2</td>\n",
       "      <td>1</td>\n",
       "      <td>5</td>\n",
       "    </tr>\n",
       "    <tr>\n",
       "      <th>4</th>\n",
       "      <td>False</td>\n",
       "      <td>False</td>\n",
       "      <td>False</td>\n",
       "      <td>True</td>\n",
       "      <td>False</td>\n",
       "      <td>False</td>\n",
       "      <td>False</td>\n",
       "      <td>False</td>\n",
       "      <td>False</td>\n",
       "      <td>False</td>\n",
       "      <td>...</td>\n",
       "      <td>False</td>\n",
       "      <td>False</td>\n",
       "      <td>False</td>\n",
       "      <td>True</td>\n",
       "      <td>4</td>\n",
       "      <td>-1</td>\n",
       "      <td>1</td>\n",
       "      <td>2</td>\n",
       "      <td>0</td>\n",
       "      <td>3</td>\n",
       "    </tr>\n",
       "  </tbody>\n",
       "</table>\n",
       "<p>5 rows × 85 columns</p>\n",
       "</div>"
      ],
      "text/plain": [
       "   P1_m_Ciências Biológicas/ Farmácia/ Medicina/ Área da Saúde(OneHot)  \\\n",
       "0                                              False                     \n",
       "1                                              False                     \n",
       "2                                              False                     \n",
       "3                                              False                     \n",
       "4                                              False                     \n",
       "\n",
       "   P1_m_Ciências Sociais(OneHot)  \\\n",
       "0                          False   \n",
       "1                          False   \n",
       "2                          False   \n",
       "3                          False   \n",
       "4                          False   \n",
       "\n",
       "   P1_m_Computação / Engenharia de Software / Sistemas de Informação/ TI(OneHot)  \\\n",
       "0                                               True                               \n",
       "1                                               True                               \n",
       "2                                               True                               \n",
       "3                                              False                               \n",
       "4                                              False                               \n",
       "\n",
       "   P1_m_Economia/ Administração / Contabilidade / Finanças/ Negócios(OneHot)  \\\n",
       "0                                              False                           \n",
       "1                                              False                           \n",
       "2                                              False                           \n",
       "3                                              False                           \n",
       "4                                               True                           \n",
       "\n",
       "   P1_m_Estatística/ Matemática / Matemática Computacional/ Ciências Atuariais(OneHot)  \\\n",
       "0                                              False                                     \n",
       "1                                              False                                     \n",
       "2                                              False                                     \n",
       "3                                              False                                     \n",
       "4                                              False                                     \n",
       "\n",
       "   P1_m_Marketing / Publicidade / Comunicação / Jornalismo(OneHot)  \\\n",
       "0                                              False                 \n",
       "1                                              False                 \n",
       "2                                              False                 \n",
       "3                                              False                 \n",
       "4                                              False                 \n",
       "\n",
       "   P1_m_Outra opção(OneHot)  P1_m_Outras Engenharias(OneHot)  \\\n",
       "0                     False                            False   \n",
       "1                     False                            False   \n",
       "2                     False                            False   \n",
       "3                     False                            False   \n",
       "4                     False                            False   \n",
       "\n",
       "   P1_m_Química / Física(OneHot)  P1_m_nan(OneHot)  ...  P6_g_Presto(OneHot)  \\\n",
       "0                          False             False  ...                False   \n",
       "1                          False             False  ...                False   \n",
       "2                          False             False  ...                False   \n",
       "3                          False              True  ...                False   \n",
       "4                          False             False  ...                False   \n",
       "\n",
       "   P6_g_Snowflake(OneHot)  P6_g_Teradata(OneHot)  P6_g_nan(OneHot)  \\\n",
       "0                   False                  False              True   \n",
       "1                   False                  False              True   \n",
       "2                   False                  False              True   \n",
       "3                   False                  False             False   \n",
       "4                   False                  False              True   \n",
       "\n",
       "   P1_l(OrdEnc)  P2_e(OrdEnc)  P2_g(OrdEnc)  P2_i(OrdEnc)  P2_j(OrdEnc)  \\\n",
       "0             5             4            -1             6             2   \n",
       "1             4             0            -1             6             6   \n",
       "2             6             2            -1             4             1   \n",
       "3             1            -1             1             2             1   \n",
       "4             4            -1             1             2             0   \n",
       "\n",
       "   P2_h(OrdEnc)  \n",
       "0            10  \n",
       "1             9  \n",
       "2             9  \n",
       "3             5  \n",
       "4             3  \n",
       "\n",
       "[5 rows x 85 columns]"
      ]
     },
     "execution_count": 11,
     "metadata": {},
     "output_type": "execute_result"
    }
   ],
   "source": [
    "df_feat_selected.head()"
   ]
  },
  {
   "cell_type": "code",
   "execution_count": 12,
   "metadata": {},
   "outputs": [
    {
     "name": "stdout",
     "output_type": "stream",
     "text": [
      "7     25041\n",
      "6     22156\n",
      "4     18550\n",
      "3     12444\n",
      "5     11111\n",
      "1     10586\n",
      "9      8903\n",
      "11     8127\n",
      "2      8126\n",
      "12     5912\n",
      "8      5767\n",
      "10     2269\n",
      "0       220\n",
      "Name: P2_h(OrdEnc), dtype: int64\n"
     ]
    }
   ],
   "source": [
    "# count how many -1 there are in the column P2_h(OrdEnc)\n",
    "print(df_feat_selected['P2_h(OrdEnc)'].value_counts())"
   ]
  },
  {
   "cell_type": "code",
   "execution_count": 13,
   "metadata": {},
   "outputs": [
    {
     "name": "stderr",
     "output_type": "stream",
     "text": [
      "C:\\Users\\vi_ma\\AppData\\Local\\Temp\\ipykernel_20556\\3139782785.py:2: UserWarning: This pattern is interpreted as a regular expression, and has match groups. To actually get the groups, use str.extract.\n",
      "  test.columns[test.columns.str.contains(onehot_pattern) |\n",
      "C:\\Users\\vi_ma\\AppData\\Local\\Temp\\ipykernel_20556\\3139782785.py:3: UserWarning: This pattern is interpreted as a regular expression, and has match groups. To actually get the groups, use str.extract.\n",
      "  test.columns.str.contains(ordered_pattern)]]\n"
     ]
    }
   ],
   "source": [
    "test_feat_selected = test[\n",
    "    test.columns[test.columns.str.contains(onehot_pattern) | \n",
    "                 test.columns.str.contains(ordered_pattern)]]"
   ]
  },
  {
   "cell_type": "code",
   "execution_count": 14,
   "metadata": {},
   "outputs": [
    {
     "data": {
      "text/html": [
       "<div>\n",
       "<style scoped>\n",
       "    .dataframe tbody tr th:only-of-type {\n",
       "        vertical-align: middle;\n",
       "    }\n",
       "\n",
       "    .dataframe tbody tr th {\n",
       "        vertical-align: top;\n",
       "    }\n",
       "\n",
       "    .dataframe thead th {\n",
       "        text-align: right;\n",
       "    }\n",
       "</style>\n",
       "<table border=\"1\" class=\"dataframe\">\n",
       "  <thead>\n",
       "    <tr style=\"text-align: right;\">\n",
       "      <th></th>\n",
       "      <th>P1_m_Ciências Biológicas/ Farmácia/ Medicina/ Área da Saúde(OneHot)</th>\n",
       "      <th>P1_m_Ciências Sociais(OneHot)</th>\n",
       "      <th>P1_m_Computação / Engenharia de Software / Sistemas de Informação/ TI(OneHot)</th>\n",
       "      <th>P1_m_Economia/ Administração / Contabilidade / Finanças/ Negócios(OneHot)</th>\n",
       "      <th>P1_m_Estatística/ Matemática / Matemática Computacional/ Ciências Atuariais(OneHot)</th>\n",
       "      <th>P1_m_Marketing / Publicidade / Comunicação / Jornalismo(OneHot)</th>\n",
       "      <th>P1_m_Outra opção(OneHot)</th>\n",
       "      <th>P1_m_Outras Engenharias(OneHot)</th>\n",
       "      <th>P1_m_Química / Física(OneHot)</th>\n",
       "      <th>P1_m_nan(OneHot)</th>\n",
       "      <th>...</th>\n",
       "      <th>P6_g_Presto(OneHot)</th>\n",
       "      <th>P6_g_Snowflake(OneHot)</th>\n",
       "      <th>P6_g_Teradata(OneHot)</th>\n",
       "      <th>P6_g_nan(OneHot)</th>\n",
       "      <th>P1_l(OrdEnc)</th>\n",
       "      <th>P2_e(OrdEnc)</th>\n",
       "      <th>P2_g(OrdEnc)</th>\n",
       "      <th>P2_i(OrdEnc)</th>\n",
       "      <th>P2_j(OrdEnc)</th>\n",
       "      <th>P2_h(OrdEnc)</th>\n",
       "    </tr>\n",
       "  </thead>\n",
       "  <tbody>\n",
       "    <tr>\n",
       "      <th>0</th>\n",
       "      <td>False</td>\n",
       "      <td>False</td>\n",
       "      <td>True</td>\n",
       "      <td>False</td>\n",
       "      <td>False</td>\n",
       "      <td>False</td>\n",
       "      <td>False</td>\n",
       "      <td>False</td>\n",
       "      <td>False</td>\n",
       "      <td>False</td>\n",
       "      <td>...</td>\n",
       "      <td>False</td>\n",
       "      <td>False</td>\n",
       "      <td>False</td>\n",
       "      <td>True</td>\n",
       "      <td>5</td>\n",
       "      <td>4</td>\n",
       "      <td>-1</td>\n",
       "      <td>6</td>\n",
       "      <td>2</td>\n",
       "      <td>10</td>\n",
       "    </tr>\n",
       "    <tr>\n",
       "      <th>1</th>\n",
       "      <td>False</td>\n",
       "      <td>False</td>\n",
       "      <td>True</td>\n",
       "      <td>False</td>\n",
       "      <td>False</td>\n",
       "      <td>False</td>\n",
       "      <td>False</td>\n",
       "      <td>False</td>\n",
       "      <td>False</td>\n",
       "      <td>False</td>\n",
       "      <td>...</td>\n",
       "      <td>False</td>\n",
       "      <td>False</td>\n",
       "      <td>False</td>\n",
       "      <td>True</td>\n",
       "      <td>4</td>\n",
       "      <td>0</td>\n",
       "      <td>-1</td>\n",
       "      <td>6</td>\n",
       "      <td>6</td>\n",
       "      <td>9</td>\n",
       "    </tr>\n",
       "    <tr>\n",
       "      <th>2</th>\n",
       "      <td>False</td>\n",
       "      <td>False</td>\n",
       "      <td>True</td>\n",
       "      <td>False</td>\n",
       "      <td>False</td>\n",
       "      <td>False</td>\n",
       "      <td>False</td>\n",
       "      <td>False</td>\n",
       "      <td>False</td>\n",
       "      <td>False</td>\n",
       "      <td>...</td>\n",
       "      <td>False</td>\n",
       "      <td>False</td>\n",
       "      <td>False</td>\n",
       "      <td>True</td>\n",
       "      <td>6</td>\n",
       "      <td>2</td>\n",
       "      <td>-1</td>\n",
       "      <td>4</td>\n",
       "      <td>1</td>\n",
       "      <td>9</td>\n",
       "    </tr>\n",
       "    <tr>\n",
       "      <th>3</th>\n",
       "      <td>False</td>\n",
       "      <td>False</td>\n",
       "      <td>False</td>\n",
       "      <td>False</td>\n",
       "      <td>False</td>\n",
       "      <td>False</td>\n",
       "      <td>False</td>\n",
       "      <td>False</td>\n",
       "      <td>False</td>\n",
       "      <td>True</td>\n",
       "      <td>...</td>\n",
       "      <td>False</td>\n",
       "      <td>False</td>\n",
       "      <td>False</td>\n",
       "      <td>False</td>\n",
       "      <td>1</td>\n",
       "      <td>-1</td>\n",
       "      <td>1</td>\n",
       "      <td>2</td>\n",
       "      <td>1</td>\n",
       "      <td>5</td>\n",
       "    </tr>\n",
       "    <tr>\n",
       "      <th>4</th>\n",
       "      <td>False</td>\n",
       "      <td>False</td>\n",
       "      <td>False</td>\n",
       "      <td>True</td>\n",
       "      <td>False</td>\n",
       "      <td>False</td>\n",
       "      <td>False</td>\n",
       "      <td>False</td>\n",
       "      <td>False</td>\n",
       "      <td>False</td>\n",
       "      <td>...</td>\n",
       "      <td>False</td>\n",
       "      <td>False</td>\n",
       "      <td>False</td>\n",
       "      <td>True</td>\n",
       "      <td>4</td>\n",
       "      <td>-1</td>\n",
       "      <td>1</td>\n",
       "      <td>2</td>\n",
       "      <td>0</td>\n",
       "      <td>3</td>\n",
       "    </tr>\n",
       "  </tbody>\n",
       "</table>\n",
       "<p>5 rows × 85 columns</p>\n",
       "</div>"
      ],
      "text/plain": [
       "   P1_m_Ciências Biológicas/ Farmácia/ Medicina/ Área da Saúde(OneHot)  \\\n",
       "0                                              False                     \n",
       "1                                              False                     \n",
       "2                                              False                     \n",
       "3                                              False                     \n",
       "4                                              False                     \n",
       "\n",
       "   P1_m_Ciências Sociais(OneHot)  \\\n",
       "0                          False   \n",
       "1                          False   \n",
       "2                          False   \n",
       "3                          False   \n",
       "4                          False   \n",
       "\n",
       "   P1_m_Computação / Engenharia de Software / Sistemas de Informação/ TI(OneHot)  \\\n",
       "0                                               True                               \n",
       "1                                               True                               \n",
       "2                                               True                               \n",
       "3                                              False                               \n",
       "4                                              False                               \n",
       "\n",
       "   P1_m_Economia/ Administração / Contabilidade / Finanças/ Negócios(OneHot)  \\\n",
       "0                                              False                           \n",
       "1                                              False                           \n",
       "2                                              False                           \n",
       "3                                              False                           \n",
       "4                                               True                           \n",
       "\n",
       "   P1_m_Estatística/ Matemática / Matemática Computacional/ Ciências Atuariais(OneHot)  \\\n",
       "0                                              False                                     \n",
       "1                                              False                                     \n",
       "2                                              False                                     \n",
       "3                                              False                                     \n",
       "4                                              False                                     \n",
       "\n",
       "   P1_m_Marketing / Publicidade / Comunicação / Jornalismo(OneHot)  \\\n",
       "0                                              False                 \n",
       "1                                              False                 \n",
       "2                                              False                 \n",
       "3                                              False                 \n",
       "4                                              False                 \n",
       "\n",
       "   P1_m_Outra opção(OneHot)  P1_m_Outras Engenharias(OneHot)  \\\n",
       "0                     False                            False   \n",
       "1                     False                            False   \n",
       "2                     False                            False   \n",
       "3                     False                            False   \n",
       "4                     False                            False   \n",
       "\n",
       "   P1_m_Química / Física(OneHot)  P1_m_nan(OneHot)  ...  P6_g_Presto(OneHot)  \\\n",
       "0                          False             False  ...                False   \n",
       "1                          False             False  ...                False   \n",
       "2                          False             False  ...                False   \n",
       "3                          False              True  ...                False   \n",
       "4                          False             False  ...                False   \n",
       "\n",
       "   P6_g_Snowflake(OneHot)  P6_g_Teradata(OneHot)  P6_g_nan(OneHot)  \\\n",
       "0                   False                  False              True   \n",
       "1                   False                  False              True   \n",
       "2                   False                  False              True   \n",
       "3                   False                  False             False   \n",
       "4                   False                  False              True   \n",
       "\n",
       "   P1_l(OrdEnc)  P2_e(OrdEnc)  P2_g(OrdEnc)  P2_i(OrdEnc)  P2_j(OrdEnc)  \\\n",
       "0             5             4            -1             6             2   \n",
       "1             4             0            -1             6             6   \n",
       "2             6             2            -1             4             1   \n",
       "3             1            -1             1             2             1   \n",
       "4             4            -1             1             2             0   \n",
       "\n",
       "   P2_h(OrdEnc)  \n",
       "0            10  \n",
       "1             9  \n",
       "2             9  \n",
       "3             5  \n",
       "4             3  \n",
       "\n",
       "[5 rows x 85 columns]"
      ]
     },
     "execution_count": 14,
     "metadata": {},
     "output_type": "execute_result"
    }
   ],
   "source": [
    "df_feat_selected.head()"
   ]
  },
  {
   "cell_type": "code",
   "execution_count": 15,
   "metadata": {},
   "outputs": [],
   "source": [
    "X_train = df_feat_selected.drop(columns=['P2_h(OrdEnc)'])\n",
    "y_train = df_feat_selected['P2_h(OrdEnc)']\n",
    "\n",
    "X_test = test_feat_selected.drop(columns=['P2_h(OrdEnc)'])\n",
    "y_test = test_feat_selected['P2_h(OrdEnc)']"
   ]
  },
  {
   "cell_type": "code",
   "execution_count": 16,
   "metadata": {},
   "outputs": [],
   "source": [
    "import pandas as pd\n",
    "from sklearn.model_selection import train_test_split\n",
    "from sklearn.preprocessing import StandardScaler, OneHotEncoder\n",
    "from sklearn.impute import SimpleImputer\n",
    "from sklearn.feature_selection import VarianceThreshold\n",
    "from sklearn.discriminant_analysis import QuadraticDiscriminantAnalysis\n",
    "from sklearn.linear_model import LogisticRegression\n",
    "from sklearn.neighbors import KNeighborsClassifier\n",
    "from sklearn.tree import DecisionTreeClassifier\n",
    "import joblib"
   ]
  },
  {
   "cell_type": "code",
   "execution_count": 17,
   "metadata": {},
   "outputs": [
    {
     "name": "stderr",
     "output_type": "stream",
     "text": [
      "c:\\Users\\vi_ma\\anaconda3\\lib\\site-packages\\sklearn\\linear_model\\_logistic.py:814: ConvergenceWarning: lbfgs failed to converge (status=1):\n",
      "STOP: TOTAL NO. of ITERATIONS REACHED LIMIT.\n",
      "\n",
      "Increase the number of iterations (max_iter) or scale the data as shown in:\n",
      "    https://scikit-learn.org/stable/modules/preprocessing.html\n",
      "Please also refer to the documentation for alternative solver options:\n",
      "    https://scikit-learn.org/stable/modules/linear_model.html#logistic-regression\n",
      "  n_iter_i = _check_optimize_result(\n"
     ]
    },
    {
     "data": {
      "text/plain": [
       "LogisticRegression(max_iter=1000)"
      ]
     },
     "execution_count": 17,
     "metadata": {},
     "output_type": "execute_result"
    }
   ],
   "source": [
    "# Logistic Regression\n",
    "logistic_regression = LogisticRegression(max_iter=1000)\n",
    "logistic_regression.fit(X_train, y_train)"
   ]
  },
  {
   "cell_type": "code",
   "execution_count": 18,
   "metadata": {},
   "outputs": [
    {
     "data": {
      "text/plain": [
       "KNeighborsClassifier()"
      ]
     },
     "execution_count": 18,
     "metadata": {},
     "output_type": "execute_result"
    }
   ],
   "source": [
    "# KNN\n",
    "knn = KNeighborsClassifier(n_neighbors=5)\n",
    "knn.fit(X_train, y_train)"
   ]
  },
  {
   "cell_type": "code",
   "execution_count": 19,
   "metadata": {},
   "outputs": [
    {
     "data": {
      "text/plain": [
       "DecisionTreeClassifier()"
      ]
     },
     "execution_count": 19,
     "metadata": {},
     "output_type": "execute_result"
    }
   ],
   "source": [
    "# Decision Tree\n",
    "decision_tree = DecisionTreeClassifier()\n",
    "decision_tree.fit(X_train, y_train)"
   ]
  },
  {
   "cell_type": "code",
   "execution_count": 20,
   "metadata": {},
   "outputs": [
    {
     "name": "stderr",
     "output_type": "stream",
     "text": [
      "c:\\Users\\vi_ma\\anaconda3\\lib\\site-packages\\sklearn\\discriminant_analysis.py:878: UserWarning: Variables are collinear\n",
      "  warnings.warn(\"Variables are collinear\")\n"
     ]
    },
    {
     "data": {
      "text/plain": [
       "QuadraticDiscriminantAnalysis()"
      ]
     },
     "execution_count": 20,
     "metadata": {},
     "output_type": "execute_result"
    }
   ],
   "source": [
    "# Fit the QDA model with the balanced dataset\n",
    "qda = QuadraticDiscriminantAnalysis()\n",
    "qda.fit(X_train, y_train)"
   ]
  },
  {
   "cell_type": "code",
   "execution_count": 21,
   "metadata": {},
   "outputs": [],
   "source": [
    "from sklearn.metrics import accuracy_score, precision_score, recall_score, f1_score"
   ]
  },
  {
   "cell_type": "code",
   "execution_count": 23,
   "metadata": {},
   "outputs": [
    {
     "data": {
      "text/html": [
       "<div>\n",
       "<style scoped>\n",
       "    .dataframe tbody tr th:only-of-type {\n",
       "        vertical-align: middle;\n",
       "    }\n",
       "\n",
       "    .dataframe tbody tr th {\n",
       "        vertical-align: top;\n",
       "    }\n",
       "\n",
       "    .dataframe thead th {\n",
       "        text-align: right;\n",
       "    }\n",
       "</style>\n",
       "<table border=\"1\" class=\"dataframe\">\n",
       "  <thead>\n",
       "    <tr style=\"text-align: right;\">\n",
       "      <th></th>\n",
       "      <th>Model</th>\n",
       "      <th>Accuracy</th>\n",
       "      <th>Precision</th>\n",
       "      <th>Recall</th>\n",
       "      <th>F1-Score</th>\n",
       "    </tr>\n",
       "  </thead>\n",
       "  <tbody>\n",
       "    <tr>\n",
       "      <th>0</th>\n",
       "      <td>QDA</td>\n",
       "      <td>0.094637</td>\n",
       "      <td>[0.0, 0.0, 0.16176470588235295, 0.129629629629...</td>\n",
       "      <td>[0.0, 0.0, 0.3492063492063492, 0.4242424242424...</td>\n",
       "      <td>[0.0, 0.0, 0.22110552763819097, 0.198581560283...</td>\n",
       "    </tr>\n",
       "    <tr>\n",
       "      <th>1</th>\n",
       "      <td>Logistic Regression</td>\n",
       "      <td>0.233438</td>\n",
       "      <td>[0.0, 0.3170731707317073, 0.21794871794871795,...</td>\n",
       "      <td>[0.0, 0.3333333333333333, 0.2698412698412698, ...</td>\n",
       "      <td>[0.0, 0.32499999999999996, 0.24113475177304963...</td>\n",
       "    </tr>\n",
       "    <tr>\n",
       "      <th>2</th>\n",
       "      <td>KNN</td>\n",
       "      <td>0.242902</td>\n",
       "      <td>[0.09090909090909091, 0.2127659574468085, 0.17...</td>\n",
       "      <td>[0.1111111111111111, 0.2564102564102564, 0.158...</td>\n",
       "      <td>[0.09999999999999999, 0.23255813953488375, 0.1...</td>\n",
       "    </tr>\n",
       "    <tr>\n",
       "      <th>3</th>\n",
       "      <td>Decision Tree</td>\n",
       "      <td>0.248160</td>\n",
       "      <td>[0.0, 0.2608695652173913, 0.2692307692307692, ...</td>\n",
       "      <td>[0.0, 0.3076923076923077, 0.2222222222222222, ...</td>\n",
       "      <td>[0.0, 0.2823529411764706, 0.2434782608695652, ...</td>\n",
       "    </tr>\n",
       "  </tbody>\n",
       "</table>\n",
       "</div>"
      ],
      "text/plain": [
       "                 Model  Accuracy  \\\n",
       "0                  QDA  0.094637   \n",
       "1  Logistic Regression  0.233438   \n",
       "2                  KNN  0.242902   \n",
       "3        Decision Tree  0.248160   \n",
       "\n",
       "                                           Precision  \\\n",
       "0  [0.0, 0.0, 0.16176470588235295, 0.129629629629...   \n",
       "1  [0.0, 0.3170731707317073, 0.21794871794871795,...   \n",
       "2  [0.09090909090909091, 0.2127659574468085, 0.17...   \n",
       "3  [0.0, 0.2608695652173913, 0.2692307692307692, ...   \n",
       "\n",
       "                                              Recall  \\\n",
       "0  [0.0, 0.0, 0.3492063492063492, 0.4242424242424...   \n",
       "1  [0.0, 0.3333333333333333, 0.2698412698412698, ...   \n",
       "2  [0.1111111111111111, 0.2564102564102564, 0.158...   \n",
       "3  [0.0, 0.3076923076923077, 0.2222222222222222, ...   \n",
       "\n",
       "                                            F1-Score  \n",
       "0  [0.0, 0.0, 0.22110552763819097, 0.198581560283...  \n",
       "1  [0.0, 0.32499999999999996, 0.24113475177304963...  \n",
       "2  [0.09999999999999999, 0.23255813953488375, 0.1...  \n",
       "3  [0.0, 0.2823529411764706, 0.2434782608695652, ...  "
      ]
     },
     "execution_count": 23,
     "metadata": {},
     "output_type": "execute_result"
    }
   ],
   "source": [
    "models = {\n",
    "    'QDA': qda,\n",
    "    'Logistic Regression': logistic_regression,\n",
    "    'KNN': knn,\n",
    "    'Decision Tree': decision_tree\n",
    "}\n",
    "\n",
    "results = []\n",
    "for model_name, model in models.items():\n",
    "    y_pred = model.predict(X_test)\n",
    "    accuracy = accuracy_score(y_test, y_pred)\n",
    "    precision = precision_score(y_test, y_pred, average=None, zero_division=0)\n",
    "    recall = recall_score(y_test, y_pred, average=None, zero_division=0)\n",
    "    f1 = f1_score(y_test, y_pred, average=None, zero_division=0)\n",
    "    results.append([model_name, accuracy, precision, recall, f1])\n",
    "\n",
    "# Store the results in a DataFrame\n",
    "results_df = pd.DataFrame(results, columns=['Model', 'Accuracy', 'Precision', 'Recall', 'F1-Score'])\n",
    "\n",
    "# Print the results\n",
    "results_df"
   ]
  }
 ],
 "metadata": {
  "kernelspec": {
   "display_name": "pytorch",
   "language": "python",
   "name": "python3"
  },
  "language_info": {
   "codemirror_mode": {
    "name": "ipython",
    "version": 3
   },
   "file_extension": ".py",
   "mimetype": "text/x-python",
   "name": "python",
   "nbconvert_exporter": "python",
   "pygments_lexer": "ipython3",
   "version": "3.9.12"
  }
 },
 "nbformat": 4,
 "nbformat_minor": 2
}
