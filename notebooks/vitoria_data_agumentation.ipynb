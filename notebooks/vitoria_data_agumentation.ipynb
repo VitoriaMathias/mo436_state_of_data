{
 "cells": [
  {
   "cell_type": "code",
   "execution_count": 87,
   "id": "ac75a5d9",
   "metadata": {},
   "outputs": [],
   "source": [
    "import pandas as pd\n",
    "import re\n",
    "import warnings\n",
    "warnings.filterwarnings(\"ignore\")\n",
    "import matplotlib.pyplot as plt\n",
    "from imblearn.over_sampling import ADASYN, RandomOverSampler\n",
    "from imblearn.under_sampling import RandomUnderSampler"
   ]
  },
  {
   "cell_type": "code",
   "execution_count": 3,
   "id": "d053b02f",
   "metadata": {},
   "outputs": [],
   "source": [
    "df = pd.read_csv('../data/State_of_data_BR_2023_Kaggle - df_survey_2023.csv')"
   ]
  },
  {
   "cell_type": "markdown",
   "id": "5fb6072a",
   "metadata": {},
   "source": [
    "## Columns dictionary"
   ]
  },
  {
   "cell_type": "code",
   "execution_count": 4,
   "id": "856101da",
   "metadata": {},
   "outputs": [
    {
     "data": {
      "text/plain": [
       "Index(['('P0', 'id')', '('P1_a ', 'Idade')', '('P1_a_1 ', 'Faixa idade')',\n",
       "       '('P1_b ', 'Genero')', '('P1_c ', 'Cor/raca/etnia')',\n",
       "       '('P1_d ', 'PCD')', '('P1_e ', 'experiencia_profissional_prejudicada')',\n",
       "       '('P1_e_1 ', 'Não acredito que minha experiência profissional seja afetada')',\n",
       "       '('P1_e_2 ', 'Experiencia prejudicada devido a minha Cor Raça Etnia')',\n",
       "       '('P1_e_3 ', 'Experiencia prejudicada devido a minha identidade de gênero')'],\n",
       "      dtype='object')"
      ]
     },
     "execution_count": 4,
     "metadata": {},
     "output_type": "execute_result"
    }
   ],
   "source": [
    "df.columns[:10]"
   ]
  },
  {
   "cell_type": "code",
   "execution_count": 5,
   "id": "e304974d",
   "metadata": {},
   "outputs": [
    {
     "name": "stdout",
     "output_type": "stream",
     "text": [
      "('P6_b_16 ', 'SQL Server Integration Services (SSIS))\n"
     ]
    }
   ],
   "source": [
    "# criando um dicionário com o número da pergunta e qual é a pergunta\n",
    "column_dict = {}\n",
    "\n",
    "for col in df.columns:\n",
    "\n",
    "    match = re.match(r\"\\('(.+?)', '(.+?)'\\)\", col)\n",
    "    if match:\n",
    "        cod, pergunta = match.groups()\n",
    "        column_dict[cod.replace(\" \", \"\")] = pergunta\n",
    "    else:\n",
    "        print(col)\n",
    "\n",
    "# print(column_dict)"
   ]
  },
  {
   "cell_type": "code",
   "execution_count": 6,
   "id": "edcb08af",
   "metadata": {},
   "outputs": [],
   "source": [
    "column_dict['P6_b_16']='SQL Server Integration Services (SSIS)'"
   ]
  },
  {
   "cell_type": "code",
   "execution_count": 7,
   "id": "74b08107",
   "metadata": {},
   "outputs": [],
   "source": [
    "df_recols = df.copy()\n",
    "df_recols.columns = list(column_dict.keys())"
   ]
  },
  {
   "cell_type": "code",
   "execution_count": 8,
   "id": "92a0c935",
   "metadata": {},
   "outputs": [
    {
     "data": {
      "text/plain": [
       "Index(['P0', 'P1_a', 'P1_a_1', 'P1_b', 'P1_c', 'P1_d', 'P1_e', 'P1_e_1',\n",
       "       'P1_e_2', 'P1_e_3',\n",
       "       ...\n",
       "       'P8_d_4', 'P8_d_5', 'P8_d_6', 'P8_d_7', 'P8_d_8', 'P8_d_9', 'P8_d_10',\n",
       "       'P8_d_11', 'P8_d_12', 'P6_b_16'],\n",
       "      dtype='object', length=399)"
      ]
     },
     "execution_count": 8,
     "metadata": {},
     "output_type": "execute_result"
    }
   ],
   "source": [
    "df_recols.columns"
   ]
  },
  {
   "cell_type": "markdown",
   "id": "4e7db3c4",
   "metadata": {},
   "source": [
    "# Balanceando classes sensíveis com data augmentation\n",
    "Observação: esse tratamento só deve ser aplicado na base de treino!!"
   ]
  },
  {
   "cell_type": "markdown",
   "id": "dfb889da",
   "metadata": {},
   "source": [
    "##  Gênero (P1_b)\n",
    "Para entender se é necessário balancear pelo gênero, é importante entender se a variável resposta tem distinção entre as classes dessa feature"
   ]
  },
  {
   "cell_type": "code",
   "execution_count": 9,
   "id": "1b4ecb00",
   "metadata": {},
   "outputs": [
    {
     "data": {
      "text/plain": [
       "array(['Masculino', 'Feminino', 'Outro', 'Prefiro não informar'],\n",
       "      dtype=object)"
      ]
     },
     "execution_count": 9,
     "metadata": {},
     "output_type": "execute_result"
    }
   ],
   "source": [
    "df_recols.P1_b.unique()"
   ]
  },
  {
   "cell_type": "code",
   "execution_count": 10,
   "id": "0dee40b9",
   "metadata": {},
   "outputs": [],
   "source": [
    "salario_fem = df_recols.loc[lambda x: x.P1_b=='Feminino', ['P2_h', 'P2_o_1']]\n",
    "salario_outros = df_recols.loc[lambda x: (x.P1_b=='Outro') | (x.P1_b=='Prefiro não informar'), ['P2_h', 'P2_o_1']]"
   ]
  },
  {
   "cell_type": "code",
   "execution_count": 11,
   "id": "133cbc4c",
   "metadata": {},
   "outputs": [
    {
     "data": {
      "image/png": "[encoded data removed]",
      "text/plain": [
       "<Figure size 432x288 with 1 Axes>"
      ]
     },
     "metadata": {
      "needs_background": "light"
     },
     "output_type": "display_data"
    }
   ],
   "source": [
    "df_recols.P2_h.sort_values().hist();\n",
    "plt.xticks(rotation=90)\n",
    "plt.show()"
   ]
  },
  {
   "cell_type": "code",
   "execution_count": 12,
   "id": "b5155139",
   "metadata": {},
   "outputs": [
    {
     "data": {
      "image/png": "[encoded data removed]",
      "text/plain": [
       "<Figure size 432x288 with 1 Axes>"
      ]
     },
     "metadata": {
      "needs_background": "light"
     },
     "output_type": "display_data"
    }
   ],
   "source": [
    "# faixa salarial - mulheres\n",
    "salario_fem.P2_h.sort_values().hist();\n",
    "plt.xticks(rotation=90)\n",
    "plt.show()"
   ]
  },
  {
   "cell_type": "code",
   "execution_count": 13,
   "id": "6a1022f9",
   "metadata": {},
   "outputs": [
    {
     "data": {
      "image/png": "[encoded data removed]",
      "text/plain": [
       "<Figure size 432x288 with 1 Axes>"
      ]
     },
     "metadata": {
      "needs_background": "light"
     },
     "output_type": "display_data"
    }
   ],
   "source": [
    "# faixa salarial - outros gêneros\n",
    "salario_outros.P2_h.sort_values().hist();\n",
    "plt.xticks(rotation=90)\n",
    "plt.show()"
   ]
  },
  {
   "cell_type": "markdown",
   "id": "b9189ae9",
   "metadata": {},
   "source": [
    "Qualitativamente a distribuição com a variável resposta não parece ter grande diferença entre gêneros. Podemos avaliar o resultado do modelo, se tem distinção entre classes na previsão."
   ]
  },
  {
   "cell_type": "markdown",
   "id": "7adb4a30",
   "metadata": {},
   "source": [
    "## Raça"
   ]
  },
  {
   "cell_type": "code",
   "execution_count": 14,
   "id": "9ab5ddac",
   "metadata": {},
   "outputs": [
    {
     "data": {
      "text/plain": [
       "array(['Branca', 'Amarela', 'Preta', 'Parda', 'Prefiro não informar',\n",
       "       'Outra', 'Indígena'], dtype=object)"
      ]
     },
     "execution_count": 14,
     "metadata": {},
     "output_type": "execute_result"
    }
   ],
   "source": [
    "df_recols.P1_c.unique()"
   ]
  },
  {
   "cell_type": "code",
   "execution_count": 30,
   "id": "8a5c3c48",
   "metadata": {},
   "outputs": [],
   "source": [
    "col_raca = 'P1_c'\n",
    "col_salario = 'P2_h'"
   ]
  },
  {
   "cell_type": "code",
   "execution_count": 15,
   "id": "61289f9d",
   "metadata": {},
   "outputs": [],
   "source": [
    "# df_recols[['P1_c','P2_h']].groupby('P1_c')"
   ]
  },
  {
   "cell_type": "code",
   "execution_count": 16,
   "id": "646608a0",
   "metadata": {},
   "outputs": [
    {
     "data": {
      "image/png": "[encoded data removed]",
      "text/plain": [
       "<Figure size 1440x864 with 1 Axes>"
      ]
     },
     "metadata": {
      "needs_background": "light"
     },
     "output_type": "display_data"
    }
   ],
   "source": [
    "\n",
    "cores = plt.cm.get_cmap('tab10', len(df_recols['P1_c'].unique()))\n",
    "\n",
    "plt.figure(figsize=(20, 12))\n",
    "# Agrupar por nome e plotar as faixas etárias\n",
    "for i, (raca, salario) in enumerate(df_recols[['P1_c','P2_h']].groupby('P1_c')):\n",
    "    salario['P2_h'].value_counts().plot(kind='bar', alpha=0.5, label=raca, color=cores(i))\n",
    "    \n",
    "plt.xlabel('Salário')\n",
    "plt.ylabel('Frequência')\n",
    "plt.legend(title=\"Raça\")\n",
    "plt.xticks(rotation=90)\n",
    "plt.show()"
   ]
  },
  {
   "cell_type": "markdown",
   "id": "16e0c27a",
   "metadata": {},
   "source": [
    "As raças Preta, Indígena e Outros estão muito sub-representados. A raça Preta é pouco visível no gráfico e somente para baixos salários. Um re-sampling aqui pode contribuir"
   ]
  },
  {
   "cell_type": "markdown",
   "id": "95acffd8",
   "metadata": {},
   "source": [
    "## Random Oversampling\n",
    "- SMOTE\n",
    "- Adasyn (Adaptive Synthetic Sampling)\n",
    "- Random Oversampling: método que lida melhor com categóricas e não remove as características da classe\n",
    "\n",
    "**Considerações**:\n",
    "- Vou agrupar Indígenas, Outras e Prefiro não informar\n",
    "- Fazer um oversampling do tamanho da amostra de pessoas brancas é muito grande e deixa o dataset muito sintético. Farei baseado no tamanho da amostra de pessoas pardas. \n",
    "- É simples de mudar para Adasyn se tudo estiver encodado"
   ]
  },
  {
   "cell_type": "code",
   "execution_count": 17,
   "id": "4a817dde",
   "metadata": {},
   "outputs": [],
   "source": [
    "df_recols.loc[lambda x: (x.P1_c=='Indígena') | (x.P1_c=='Outra') | (x.P1_c=='Prefiro não informar'), 'P1_c'] = 'Outros agrupado'"
   ]
  },
  {
   "cell_type": "code",
   "execution_count": 37,
   "id": "d89a163a",
   "metadata": {},
   "outputs": [
    {
     "data": {
      "text/plain": [
       "1281"
      ]
     },
     "execution_count": 37,
     "metadata": {},
     "output_type": "execute_result"
    }
   ],
   "source": [
    "df_recols[lambda x: (x[col_raca]=='Parda')].reset_index().shape[0]"
   ]
  },
  {
   "cell_type": "code",
   "execution_count": 32,
   "id": "d6aca45d",
   "metadata": {},
   "outputs": [],
   "source": [
    "df_parda = df_recols[lambda x: (x[col_raca]=='Parda')].reset_index()\n",
    "df_branca = df_recols[lambda x: (x[col_raca]=='Branca')].reset_index()\n",
    "df_to_oversample = df_recols[lambda x: (x[col_raca]!='Parda') & (x[col_raca]!='Branca')].reset_index()"
   ]
  },
  {
   "cell_type": "code",
   "execution_count": 43,
   "id": "b302017a",
   "metadata": {},
   "outputs": [
    {
     "name": "stdout",
     "output_type": "stream",
     "text": [
      "Branca             3414\n",
      "Amarela            3414\n",
      "Preta              3414\n",
      "Parda              3414\n",
      "Outros agrupado    3414\n",
      "Name: raca, dtype: int64\n"
     ]
    }
   ],
   "source": [
    "# 1. Separar as features (X) e a coluna alvo (raca)\n",
    "X = df_recols.drop(columns=[col_raca])  # Todas as colunas exceto 'raca'\n",
    "y = df_recols[col_raca]  # Coluna alvo\n",
    "\n",
    "# setando numero de amostras para cada raça - precisa ser o valor da classe com mais repetições\n",
    "# sampl_stratg = {el: y.value_counts()['Parda'] for el in list(set(y))}\n",
    "\n",
    "# 2. Aplicar o RandomOverSampler para realizar oversampling na coluna 'raca'\n",
    "oversampler = RandomOverSampler(sampling_strategy='auto', random_state=42)\n",
    "X_resampled, y_resampled = oversampler.fit_resample(X, y)\n",
    "\n",
    "# 3. Recriar o DataFrame com os dados balanceados\n",
    "df_resampled = pd.DataFrame(X_resampled, columns=X.columns)\n",
    "df_resampled['raca'] = y_resampled\n",
    "\n",
    "# Exibir o DataFrame balanceado\n",
    "print(df_resampled['raca'].value_counts())\n"
   ]
  },
  {
   "cell_type": "markdown",
   "id": "470602eb",
   "metadata": {},
   "source": [
    "______\n",
    "Para as demais variáveis, o processo será parecido. Vamos deixar funções preparadas para:\n",
    "- Undersampling ou separação de uma classe majoritária\n",
    "- Aplicar random oversampling"
   ]
  },
  {
   "cell_type": "code",
   "execution_count": 88,
   "id": "1cd6f548",
   "metadata": {},
   "outputs": [],
   "source": [
    "def apply_random_undersampling(df, undersample_col='', strategy={}):\n",
    "    '''\n",
    "    df: dataframe with all columns\n",
    "    undersample_col: column to apply the undersampling\n",
    "    srtategy: dictionary with the category as key and number of samples requested as value\n",
    "    '''\n",
    "\n",
    "    X = df.drop(columns=[undersample_col])\n",
    "    y = df[undersample_col]\n",
    "\n",
    "    # aplicando undersampling\n",
    "    undersampler = RandomUnderSampler(sampling_strategy=strategy, random_state=42)\n",
    "    X_resampled, y_resampled = undersampler.fit_resample(X, y)\n",
    "\n",
    "    df_resampled = pd.DataFrame(X_resampled, columns=X.columns)\n",
    "    df_resampled[undersample_col] = y_resampled\n",
    "\n",
    "    # Exibir o DataFrame balanceado e a distribuição de classes\n",
    "    print(df_resampled[undersample_col].value_counts())\n",
    "    \n",
    "    return df_resampled"
   ]
  },
  {
   "cell_type": "code",
   "execution_count": 89,
   "id": "93cb41ba",
   "metadata": {},
   "outputs": [
    {
     "name": "stdout",
     "output_type": "stream",
     "text": [
      "Parda              1281\n",
      "Branca             1000\n",
      "Preta               387\n",
      "Amarela             147\n",
      "Outros agrupado      64\n",
      "Name: P1_c, dtype: int64\n"
     ]
    }
   ],
   "source": [
    "strategy = {'Branca': 1000}\n",
    "df_raca_undersampled = apply_random_undersampling(df_recols, undersample_col=col_raca, strategy=strategy)"
   ]
  },
  {
   "cell_type": "code",
   "execution_count": 78,
   "id": "eac8a62e",
   "metadata": {},
   "outputs": [],
   "source": [
    "def apply_random_oversampling(df, oversample_col='', exclude_category=None):\n",
    "    '''\n",
    "    df: dataframe with all columns\n",
    "    oversample_col: column to apply the oversampling\n",
    "    exclude_category: list of categories on oversample_col to set apart while oversampling\n",
    "    '''\n",
    "    df_cat = pd.DataFrame(columns = df.columns)\n",
    "    df_ = df.copy()\n",
    "    \n",
    "    # Separando categorias específica se necessário\n",
    "    if exclude_category is not None:\n",
    "        \n",
    "        for cat in exclude_category:\n",
    "            \n",
    "            df_cat = pd.concat([df_cat, df[df[oversample_col]==cat]]).reset_index(drop=True)\n",
    "            \n",
    "            # removendo categorias que não serão oversampled\n",
    "            df_ = df_[df[oversample_col]!=cat].reset_index()\n",
    "    \n",
    "    # Separando coluna de oversampling\n",
    "    X = df_.drop(columns=[oversample_col])\n",
    "    y = df_[oversample_col]\n",
    "\n",
    "    # Aplicando Random Oversampling\n",
    "    oversampler = RandomOverSampler(sampling_strategy='auto', random_state=42)\n",
    "    X_resampled, y_resampled = oversampler.fit_resample(X, y)\n",
    "\n",
    "    df_resampled = pd.DataFrame(X_resampled, columns=X.columns)\n",
    "    df_resampled[oversample_col] = y_resampled\n",
    "\n",
    "    # Exibir o DataFrame balanceado\n",
    "    print(df_resampled[oversample_col].value_counts())\n",
    "    \n",
    "    # inserindo de volta as categorias que foram separadas\n",
    "    if not df_cat.empty:\n",
    "        df_resampled = pd.concat([df_resampled, df_cat]).reset_index(drop=True)\n",
    "        \n",
    "    return df_resampled"
   ]
  },
  {
   "cell_type": "code",
   "execution_count": 79,
   "id": "329d7b70",
   "metadata": {},
   "outputs": [
    {
     "data": {
      "text/plain": [
       "'P1_c'"
      ]
     },
     "execution_count": 79,
     "metadata": {},
     "output_type": "execute_result"
    }
   ],
   "source": [
    "col_raca"
   ]
  },
  {
   "cell_type": "code",
   "execution_count": 80,
   "id": "26d13daa",
   "metadata": {},
   "outputs": [
    {
     "name": "stdout",
     "output_type": "stream",
     "text": [
      "Amarela            1281\n",
      "Preta              1281\n",
      "Parda              1281\n",
      "Outros agrupado    1281\n",
      "Name: P1_c, dtype: int64\n"
     ]
    },
    {
     "data": {
      "text/html": [
       "<div>\n",
       "<style scoped>\n",
       "    .dataframe tbody tr th:only-of-type {\n",
       "        vertical-align: middle;\n",
       "    }\n",
       "\n",
       "    .dataframe tbody tr th {\n",
       "        vertical-align: top;\n",
       "    }\n",
       "\n",
       "    .dataframe thead th {\n",
       "        text-align: right;\n",
       "    }\n",
       "</style>\n",
       "<table border=\"1\" class=\"dataframe\">\n",
       "  <thead>\n",
       "    <tr style=\"text-align: right;\">\n",
       "      <th></th>\n",
       "      <th>index</th>\n",
       "      <th>P0</th>\n",
       "      <th>P1_a</th>\n",
       "      <th>P1_a_1</th>\n",
       "      <th>P1_b</th>\n",
       "      <th>P1_d</th>\n",
       "      <th>P1_e</th>\n",
       "      <th>P1_e_1</th>\n",
       "      <th>P1_e_2</th>\n",
       "      <th>P1_e_3</th>\n",
       "      <th>...</th>\n",
       "      <th>P8_d_6</th>\n",
       "      <th>P8_d_7</th>\n",
       "      <th>P8_d_8</th>\n",
       "      <th>P8_d_9</th>\n",
       "      <th>P8_d_10</th>\n",
       "      <th>P8_d_11</th>\n",
       "      <th>P8_d_12</th>\n",
       "      <th>P6_b_16</th>\n",
       "      <th>faixa_salario_cat</th>\n",
       "      <th>P1_c</th>\n",
       "    </tr>\n",
       "  </thead>\n",
       "  <tbody>\n",
       "    <tr>\n",
       "      <th>0</th>\n",
       "      <td>2.0</td>\n",
       "      <td>00r21rb9pusd1b0v7ew00r21rw3dy69w</td>\n",
       "      <td>37</td>\n",
       "      <td>35-39</td>\n",
       "      <td>Feminino</td>\n",
       "      <td>Não</td>\n",
       "      <td>Sim, acredito que a minha a experiência profis...</td>\n",
       "      <td>0.0</td>\n",
       "      <td>0.0</td>\n",
       "      <td>1.0</td>\n",
       "      <td>...</td>\n",
       "      <td>0.0</td>\n",
       "      <td>0.0</td>\n",
       "      <td>0.0</td>\n",
       "      <td>0.0</td>\n",
       "      <td>0.0</td>\n",
       "      <td>0.0</td>\n",
       "      <td>0.0</td>\n",
       "      <td>0.0</td>\n",
       "      <td>12</td>\n",
       "      <td>Amarela</td>\n",
       "    </tr>\n",
       "    <tr>\n",
       "      <th>1</th>\n",
       "      <td>3.0</td>\n",
       "      <td>00urm3jf2cek12w6ygue00urm3jzd17j</td>\n",
       "      <td>22</td>\n",
       "      <td>22-24</td>\n",
       "      <td>Masculino</td>\n",
       "      <td>Não</td>\n",
       "      <td>Não acredito que minha experiência profissiona...</td>\n",
       "      <td>1.0</td>\n",
       "      <td>0.0</td>\n",
       "      <td>0.0</td>\n",
       "      <td>...</td>\n",
       "      <td>NaN</td>\n",
       "      <td>NaN</td>\n",
       "      <td>NaN</td>\n",
       "      <td>NaN</td>\n",
       "      <td>NaN</td>\n",
       "      <td>NaN</td>\n",
       "      <td>NaN</td>\n",
       "      <td>NaN</td>\n",
       "      <td>-1</td>\n",
       "      <td>Preta</td>\n",
       "    </tr>\n",
       "    <tr>\n",
       "      <th>2</th>\n",
       "      <td>8.0</td>\n",
       "      <td>01n9nd73iv68k81iefenxv01n9nd7wjt</td>\n",
       "      <td>27</td>\n",
       "      <td>25-29</td>\n",
       "      <td>Masculino</td>\n",
       "      <td>Não</td>\n",
       "      <td>Não acredito que minha experiência profissiona...</td>\n",
       "      <td>1.0</td>\n",
       "      <td>0.0</td>\n",
       "      <td>0.0</td>\n",
       "      <td>...</td>\n",
       "      <td>NaN</td>\n",
       "      <td>NaN</td>\n",
       "      <td>NaN</td>\n",
       "      <td>NaN</td>\n",
       "      <td>NaN</td>\n",
       "      <td>NaN</td>\n",
       "      <td>NaN</td>\n",
       "      <td>NaN</td>\n",
       "      <td>-1</td>\n",
       "      <td>Parda</td>\n",
       "    </tr>\n",
       "    <tr>\n",
       "      <th>3</th>\n",
       "      <td>9.0</td>\n",
       "      <td>01v9nqn7mz93ace01v9ig2aswc6oy2zq</td>\n",
       "      <td>28</td>\n",
       "      <td>25-29</td>\n",
       "      <td>Masculino</td>\n",
       "      <td>Não</td>\n",
       "      <td>Não acredito que minha experiência profissiona...</td>\n",
       "      <td>1.0</td>\n",
       "      <td>0.0</td>\n",
       "      <td>0.0</td>\n",
       "      <td>...</td>\n",
       "      <td>NaN</td>\n",
       "      <td>NaN</td>\n",
       "      <td>NaN</td>\n",
       "      <td>NaN</td>\n",
       "      <td>NaN</td>\n",
       "      <td>NaN</td>\n",
       "      <td>NaN</td>\n",
       "      <td>NaN</td>\n",
       "      <td>-1</td>\n",
       "      <td>Parda</td>\n",
       "    </tr>\n",
       "    <tr>\n",
       "      <th>4</th>\n",
       "      <td>10.0</td>\n",
       "      <td>01zusm1faol2k2601zlthh05cj7iqyit</td>\n",
       "      <td>25</td>\n",
       "      <td>25-29</td>\n",
       "      <td>Masculino</td>\n",
       "      <td>Sim</td>\n",
       "      <td>Sim, acredito que a minha a experiência profis...</td>\n",
       "      <td>0.0</td>\n",
       "      <td>1.0</td>\n",
       "      <td>0.0</td>\n",
       "      <td>...</td>\n",
       "      <td>NaN</td>\n",
       "      <td>NaN</td>\n",
       "      <td>NaN</td>\n",
       "      <td>NaN</td>\n",
       "      <td>NaN</td>\n",
       "      <td>NaN</td>\n",
       "      <td>NaN</td>\n",
       "      <td>NaN</td>\n",
       "      <td>2</td>\n",
       "      <td>Preta</td>\n",
       "    </tr>\n",
       "    <tr>\n",
       "      <th>...</th>\n",
       "      <td>...</td>\n",
       "      <td>...</td>\n",
       "      <td>...</td>\n",
       "      <td>...</td>\n",
       "      <td>...</td>\n",
       "      <td>...</td>\n",
       "      <td>...</td>\n",
       "      <td>...</td>\n",
       "      <td>...</td>\n",
       "      <td>...</td>\n",
       "      <td>...</td>\n",
       "      <td>...</td>\n",
       "      <td>...</td>\n",
       "      <td>...</td>\n",
       "      <td>...</td>\n",
       "      <td>...</td>\n",
       "      <td>...</td>\n",
       "      <td>...</td>\n",
       "      <td>...</td>\n",
       "      <td>...</td>\n",
       "      <td>...</td>\n",
       "    </tr>\n",
       "    <tr>\n",
       "      <th>8533</th>\n",
       "      <td>NaN</td>\n",
       "      <td>zxvqqx4k2pmcnx45vy4wzxvqdzq0exzh</td>\n",
       "      <td>34</td>\n",
       "      <td>30-34</td>\n",
       "      <td>Masculino</td>\n",
       "      <td>Não</td>\n",
       "      <td>NaN</td>\n",
       "      <td>NaN</td>\n",
       "      <td>NaN</td>\n",
       "      <td>NaN</td>\n",
       "      <td>...</td>\n",
       "      <td>NaN</td>\n",
       "      <td>NaN</td>\n",
       "      <td>NaN</td>\n",
       "      <td>NaN</td>\n",
       "      <td>NaN</td>\n",
       "      <td>NaN</td>\n",
       "      <td>NaN</td>\n",
       "      <td>NaN</td>\n",
       "      <td>-1</td>\n",
       "      <td>Branca</td>\n",
       "    </tr>\n",
       "    <tr>\n",
       "      <th>8534</th>\n",
       "      <td>NaN</td>\n",
       "      <td>zy2x71m6qqffo5th4t8zy2x713efewf5</td>\n",
       "      <td>37</td>\n",
       "      <td>35-39</td>\n",
       "      <td>Masculino</td>\n",
       "      <td>Não</td>\n",
       "      <td>NaN</td>\n",
       "      <td>NaN</td>\n",
       "      <td>NaN</td>\n",
       "      <td>NaN</td>\n",
       "      <td>...</td>\n",
       "      <td>NaN</td>\n",
       "      <td>NaN</td>\n",
       "      <td>NaN</td>\n",
       "      <td>NaN</td>\n",
       "      <td>NaN</td>\n",
       "      <td>NaN</td>\n",
       "      <td>NaN</td>\n",
       "      <td>NaN</td>\n",
       "      <td>4</td>\n",
       "      <td>Branca</td>\n",
       "    </tr>\n",
       "    <tr>\n",
       "      <th>8535</th>\n",
       "      <td>NaN</td>\n",
       "      <td>zy7hsey7pigk6d4a4zy7hsm7bh1vcozc</td>\n",
       "      <td>28</td>\n",
       "      <td>25-29</td>\n",
       "      <td>Masculino</td>\n",
       "      <td>Não</td>\n",
       "      <td>NaN</td>\n",
       "      <td>NaN</td>\n",
       "      <td>NaN</td>\n",
       "      <td>NaN</td>\n",
       "      <td>...</td>\n",
       "      <td>0.0</td>\n",
       "      <td>0.0</td>\n",
       "      <td>0.0</td>\n",
       "      <td>0.0</td>\n",
       "      <td>0.0</td>\n",
       "      <td>0.0</td>\n",
       "      <td>0.0</td>\n",
       "      <td>0.0</td>\n",
       "      <td>13</td>\n",
       "      <td>Branca</td>\n",
       "    </tr>\n",
       "    <tr>\n",
       "      <th>8536</th>\n",
       "      <td>NaN</td>\n",
       "      <td>zyppgxzxko25qkgwsbrgpzyppgxzxs81</td>\n",
       "      <td>32</td>\n",
       "      <td>30-34</td>\n",
       "      <td>Masculino</td>\n",
       "      <td>Não</td>\n",
       "      <td>NaN</td>\n",
       "      <td>NaN</td>\n",
       "      <td>NaN</td>\n",
       "      <td>NaN</td>\n",
       "      <td>...</td>\n",
       "      <td>1.0</td>\n",
       "      <td>1.0</td>\n",
       "      <td>0.0</td>\n",
       "      <td>0.0</td>\n",
       "      <td>0.0</td>\n",
       "      <td>0.0</td>\n",
       "      <td>0.0</td>\n",
       "      <td>0.0</td>\n",
       "      <td>13</td>\n",
       "      <td>Branca</td>\n",
       "    </tr>\n",
       "    <tr>\n",
       "      <th>8537</th>\n",
       "      <td>NaN</td>\n",
       "      <td>zysl5f50cnz3r0cbe6t2zysrxbzfsrng</td>\n",
       "      <td>25</td>\n",
       "      <td>25-29</td>\n",
       "      <td>Masculino</td>\n",
       "      <td>Não</td>\n",
       "      <td>NaN</td>\n",
       "      <td>NaN</td>\n",
       "      <td>NaN</td>\n",
       "      <td>NaN</td>\n",
       "      <td>...</td>\n",
       "      <td>NaN</td>\n",
       "      <td>NaN</td>\n",
       "      <td>NaN</td>\n",
       "      <td>NaN</td>\n",
       "      <td>NaN</td>\n",
       "      <td>NaN</td>\n",
       "      <td>NaN</td>\n",
       "      <td>NaN</td>\n",
       "      <td>13</td>\n",
       "      <td>Branca</td>\n",
       "    </tr>\n",
       "  </tbody>\n",
       "</table>\n",
       "<p>8538 rows × 401 columns</p>\n",
       "</div>"
      ],
      "text/plain": [
       "      index                                P0 P1_a P1_a_1       P1_b P1_d  \\\n",
       "0       2.0  00r21rb9pusd1b0v7ew00r21rw3dy69w   37  35-39   Feminino  Não   \n",
       "1       3.0  00urm3jf2cek12w6ygue00urm3jzd17j   22  22-24  Masculino  Não   \n",
       "2       8.0  01n9nd73iv68k81iefenxv01n9nd7wjt   27  25-29  Masculino  Não   \n",
       "3       9.0  01v9nqn7mz93ace01v9ig2aswc6oy2zq   28  25-29  Masculino  Não   \n",
       "4      10.0  01zusm1faol2k2601zlthh05cj7iqyit   25  25-29  Masculino  Sim   \n",
       "...     ...                               ...  ...    ...        ...  ...   \n",
       "8533    NaN  zxvqqx4k2pmcnx45vy4wzxvqdzq0exzh   34  30-34  Masculino  Não   \n",
       "8534    NaN  zy2x71m6qqffo5th4t8zy2x713efewf5   37  35-39  Masculino  Não   \n",
       "8535    NaN  zy7hsey7pigk6d4a4zy7hsm7bh1vcozc   28  25-29  Masculino  Não   \n",
       "8536    NaN  zyppgxzxko25qkgwsbrgpzyppgxzxs81   32  30-34  Masculino  Não   \n",
       "8537    NaN  zysl5f50cnz3r0cbe6t2zysrxbzfsrng   25  25-29  Masculino  Não   \n",
       "\n",
       "                                                   P1_e P1_e_1 P1_e_2 P1_e_3  \\\n",
       "0     Sim, acredito que a minha a experiência profis...    0.0    0.0    1.0   \n",
       "1     Não acredito que minha experiência profissiona...    1.0    0.0    0.0   \n",
       "2     Não acredito que minha experiência profissiona...    1.0    0.0    0.0   \n",
       "3     Não acredito que minha experiência profissiona...    1.0    0.0    0.0   \n",
       "4     Sim, acredito que a minha a experiência profis...    0.0    1.0    0.0   \n",
       "...                                                 ...    ...    ...    ...   \n",
       "8533                                                NaN    NaN    NaN    NaN   \n",
       "8534                                                NaN    NaN    NaN    NaN   \n",
       "8535                                                NaN    NaN    NaN    NaN   \n",
       "8536                                                NaN    NaN    NaN    NaN   \n",
       "8537                                                NaN    NaN    NaN    NaN   \n",
       "\n",
       "      ... P8_d_6 P8_d_7 P8_d_8 P8_d_9 P8_d_10 P8_d_11 P8_d_12 P6_b_16  \\\n",
       "0     ...    0.0    0.0    0.0    0.0     0.0     0.0     0.0     0.0   \n",
       "1     ...    NaN    NaN    NaN    NaN     NaN     NaN     NaN     NaN   \n",
       "2     ...    NaN    NaN    NaN    NaN     NaN     NaN     NaN     NaN   \n",
       "3     ...    NaN    NaN    NaN    NaN     NaN     NaN     NaN     NaN   \n",
       "4     ...    NaN    NaN    NaN    NaN     NaN     NaN     NaN     NaN   \n",
       "...   ...    ...    ...    ...    ...     ...     ...     ...     ...   \n",
       "8533  ...    NaN    NaN    NaN    NaN     NaN     NaN     NaN     NaN   \n",
       "8534  ...    NaN    NaN    NaN    NaN     NaN     NaN     NaN     NaN   \n",
       "8535  ...    0.0    0.0    0.0    0.0     0.0     0.0     0.0     0.0   \n",
       "8536  ...    1.0    1.0    0.0    0.0     0.0     0.0     0.0     0.0   \n",
       "8537  ...    NaN    NaN    NaN    NaN     NaN     NaN     NaN     NaN   \n",
       "\n",
       "     faixa_salario_cat     P1_c  \n",
       "0                   12  Amarela  \n",
       "1                   -1    Preta  \n",
       "2                   -1    Parda  \n",
       "3                   -1    Parda  \n",
       "4                    2    Preta  \n",
       "...                ...      ...  \n",
       "8533                -1   Branca  \n",
       "8534                 4   Branca  \n",
       "8535                13   Branca  \n",
       "8536                13   Branca  \n",
       "8537                13   Branca  \n",
       "\n",
       "[8538 rows x 401 columns]"
      ]
     },
     "execution_count": 80,
     "metadata": {},
     "output_type": "execute_result"
    }
   ],
   "source": [
    "df_raca_resampled = apply_random_oversampling(df_recols, oversample_col=col_raca, exclude_category=['Branca'])\n",
    "df_raca_resampled"
   ]
  },
  {
   "cell_type": "markdown",
   "id": "2d4ea343",
   "metadata": {},
   "source": [
    "# Idade\n",
    "A idade vai estar altamente relacionada com o salário. Dado o contexto, isso é um problema?"
   ]
  },
  {
   "cell_type": "code",
   "execution_count": 48,
   "id": "9bf664d8",
   "metadata": {},
   "outputs": [],
   "source": [
    "col_faixaidade = 'P1_a_1'"
   ]
  },
  {
   "cell_type": "markdown",
   "id": "a27bef36",
   "metadata": {},
   "source": [
    "# Região"
   ]
  },
  {
   "cell_type": "code",
   "execution_count": 84,
   "id": "11bfd3fa",
   "metadata": {},
   "outputs": [],
   "source": [
    "col_regiao = 'P1_i_2'"
   ]
  },
  {
   "cell_type": "markdown",
   "id": "b4156371",
   "metadata": {},
   "source": [
    "# Auxiliar"
   ]
  },
  {
   "cell_type": "code",
   "execution_count": 41,
   "id": "c00dd807",
   "metadata": {},
   "outputs": [
    {
     "data": {
      "text/plain": [
       "dict_values(['id', 'Idade', 'Faixa idade', 'Genero', 'Cor/raca/etnia', 'PCD', 'experiencia_profissional_prejudicada', 'Não acredito que minha experiência profissional seja afetada', 'Experiencia prejudicada devido a minha Cor Raça Etnia', 'Experiencia prejudicada devido a minha identidade de gênero', 'Experiencia prejudicada devido ao fato de ser PCD', 'aspectos_prejudicados', 'Quantidade de oportunidades de emprego/vagas recebidas', 'Senioridade das vagas recebidas em relação à sua experiência', 'Aprovação em processos seletivos/entrevistas', 'Oportunidades de progressão de carreira', 'Velocidade de progressão de carreira', 'Nível de cobrança no trabalho/Stress no trabalho', 'Atenção dada diante das minhas opiniões e ideias', 'Relação com outros membros da empresa, em momentos de trabalho', 'Relação com outros membros da empresa, em momentos de integração e outros momentos fora do trabalho', 'vive_no_brasil', 'Estado onde mora', 'uf onde mora', 'Regiao onde mora', 'Mudou de Estado?', 'Regiao de origem', 'Nivel de Ensino', 'Área de Formação', 'Qual sua situação atual de trabalho?', 'Setor', 'Numero de Funcionarios', 'Gestor?', 'Cargo como Gestor', 'Cargo Atual', 'Nivel', 'Faixa salarial', 'Quanto tempo de experiência na área de dados você tem?', 'Quanto tempo de experiência na área de TI/Engenharia de Software você teve antes de começar a trabalhar na área de dados?', 'Você está satisfeito na sua empresa atual?', 'Qual o principal motivo da sua insatisfação com a empresa atual?', 'Falta de oportunidade de crescimento no emprego atual', 'Salário atual não corresponde ao mercado', 'Não tenho uma boa relação com meu líder/gestor', 'Gostaria de trabalhar em em outra área de atuação', 'Gostaria de receber mais benefícios', 'O clima de trabalho/ambiente não é bom', 'Falta de maturidade analítica na empresa', 'Você participou de entrevistas de emprego nos últimos 6 meses?', 'Você pretende mudar de emprego nos próximos 6 meses?', 'Quais os principais critérios que você leva em consideração no momento de decidir onde trabalhar?', 'Remuneração/Salário', 'Benefícios', 'Propósito do trabalho e da empresa', 'Flexibilidade de trabalho remoto', 'Ambiente e clima de trabalho', 'Oportunidade de aprendizado e trabalhar com referências na área', 'Plano de carreira e oportunidades de crescimento profissional', 'Maturidade da empresa em termos de tecnologia e dados', 'Qualidade dos gestores e líderes', 'Reputação que a empresa tem no mercado', 'Empresa que trabaha passou por layoff em 2023', 'Atualmente qual a sua forma de trabalho?', 'Qual a forma de trabalho ideal para você?', 'Caso sua empresa decida pelo modelo 100% presencial qual será sua atitude?', 'Qual o número aproximado de pessoas que atuam com dados na sua empresa hoje?', 'Quais desses papéis/cargos fazem parte do time (ou chapter) de dados da sua empresa?', 'Analytics Engineer', 'Engenharia de Dados/Data Engineer', 'Analista de Dados/Data Analyst', 'Cientista de Dados/Data Scientist', 'Database Administrator/DBA', 'Analista de Business Intelligence/BI', 'Arquiteto de Dados/Data Architect', 'Data Product Manager/DPM', 'Business Analyst', 'Quais dessas responsabilidades fazem parte da sua rotina atual de trabalho como gestor?', 'Pensar na visão de longo prazo de dados da empresa e fortalecimento da cultura analítica da companhia.', 'Organização de treinamentos e iniciativas com o objetivo de aumentar a maturidade analítica das áreas de negócios.', 'Atração, seleção e contratação de talentos para o time de dados.', 'Decisão sobre contratação de ferramentas e tecnologias relacionadas a dados.', 'Sou gestor da equipe responsável pela engenharia de dados e por manter o Data Lake da empresa como fonte única dos dados, garantindo a qualidade e confiabilidade da informação.', 'Sou gestor da equipe responsável pela entrega de dados, estudos, relatórios e dashboards para as áreas de negócio da empresa.', 'Sou gestor da equipe responsável por iniciativas e projetos envolvendo Inteligência Artificial e Machine Learning.', 'Apesar de ser gestor ainda atuo na parte técnica, construindo soluções/análises/modelos etc.', 'Gestão de projetos de dados, cuidando das etapas, equipes envolvidas, atingimento dos objetivos etc.', 'Gestão de produtos de dados, cuidando da visão dos produtos, backlog, feedback de usuários etc.', 'Gestão de pessoas, apoio no desenvolvimento das pessoas, evolução de carreira', 'Quais são os 3 maiores desafios que você tem como gestor no atual momento?', 'a Contratar novos talentos.', 'b Reter talentos.', 'c Convencer a empresa a aumentar os investimentos na área de dados.', 'd Gestão de equipes no ambiente remoto.', 'e Gestão de projetos envolvendo áreas multidisciplinares da empresa.', 'f Organizar as informações e garantir a qualidade e confiabilidade.', 'g Conseguir processar e armazenar um alto volume de dados.', 'h Conseguir gerar valor para as áreas de negócios através de estudos e experimentos.', 'i Desenvolver e manter modelos Machine Learning em produção.', 'j Gerenciar a expectativa das áreas de negócio em relação as entregas das equipes de dados.', 'k Garantir a manutenção dos projetos e modelos em produção, em meio ao crescimento da empresa.', 'Conseguir levar inovação para a empresa através dos dados.', 'Garantir retorno do investimento (ROI) em projetos de dados.', 'Dividir o tempo entre entregas técnicas e gestão.', 'AI Generativa é uma prioridade em sua empresa?', 'Tipos de uso de AI Generativa e LLMs na empresa', 'Colaboradores usando AI generativa de forma independente e descentralizada', 'Direcionamento centralizado do uso de AI generativa', 'Desenvolvedores utilizando Copilots', 'AI Generativa e LLMs para melhorar produtos externos', 'AI Generativa e LLMs para melhorar produtos internos para os colaboradores', 'IA Generativa e LLMs como principal frente do negócio', 'IA Generativa e LLMs não é prioridade', 'Não sei opinar sobre o uso de IA Generativa e LLMs na empresa', 'Motivos que levam a empresa a não usar AI Genrativa e LLMs', 'Falta de compreensão dos casos de uso', 'Falta de confiabilidade das saídas (alucinação dos modelos)', 'Incerteza em relação a regulamentação', 'Preocupações com segurança e privacidade de dados', 'Retorno sobre investimento (ROI) não comprovado de IA Generativa', 'Dados da empresa não estão prontos para uso de IA Generativa', 'Falta de expertise ou falta de recursos', 'Alta direção da empresa não vê valor ou não vê como prioridade', 'Preocupações com propriedade intelectual', 'Mesmo que esse não seja seu cargo formal, você considera que sua atuação no dia a dia, reflete alguma das opções listadas abaixo?', 'Atuacao', 'Quais das fontes de dados listadas você já analisou ou processou no trabalho?', 'Dados relacionais (estruturados em bancos SQL)', 'Dados armazenados em bancos NoSQL', 'Imagens', 'Textos/Documentos', 'Vídeos', 'Áudios', 'Planilhas', 'Dados georeferenciados', 'Entre as fontes de dados listadas, quais você utiliza na maior parte do tempo?', 'Dados relacionais (estruturados em bancos SQL)', 'Dados armazenados em bancos NoSQL', 'Imagens', 'Textos/Documentos', 'Vídeos', 'Áudios', 'Planilhas', 'Dados georeferenciados', 'Quais das linguagens listadas abaixo você utiliza no trabalho?', 'SQL', 'R ', 'Python', 'C/C++/C#', '.NET', 'Java', 'Julia', 'SAS/Stata', 'Visual Basic/VBA', 'Scala', 'Matlab', 'Rust', 'PHP', 'JavaScript', 'Não utilizo nenhuma linguagem', 'Entre as linguagens listadas abaixo, qual é a que você mais utiliza no trabalho?', 'Entre as linguagens listadas abaixo, qual é a sua preferida?', 'Quais dos bancos de dados/fontes de dados listados abaixo você utiliza no trabalho?', 'MySQL', 'Oracle', 'SQL SERVER', 'Amazon Aurora ou RDS', 'DynamoDB', 'CoachDB', 'Cassandra', 'MongoDB', 'MariaDB', 'Datomic', 'S3', 'PostgreSQL', 'ElasticSearch', 'DB2', 'Microsoft Access', 'SQLite', 'Sybase', 'Firebase', 'Vertica', 'Redis', 'Neo4J', 'Google BigQuery', 'Google Firestore', 'Amazon Redshift', 'Amazon Athena', 'Snowflake', 'Databricks', 'HBase', 'Presto', 'Splunk', 'SAP HANA', 'Hive', 'Firebird', 'Dentre as opções listadas, qual sua Cloud preferida?', 'Azure (Microsoft)', 'Amazon Web Services (AWS)', 'Google Cloud (GCP)', 'Oracle Cloud', 'IBM', 'Servidores On Premise/Não utilizamos Cloud', 'Cloud Própria', 'Cloud preferida', 'Ferramenta de BI utilizada no dia a dia', 'Microsoft PowerBI', 'Qlik View/Qlik Sense', 'Tableau', 'Metabase', 'Superset', 'Redash', 'Looker', 'Looker Studio(Google Data Studio)', 'Amazon Quicksight', 'Mode', 'Alteryx', 'MicroStrategy', 'IBM Analytics/Cognos', 'SAP Business Objects/SAP Analytics', 'Oracle Business Intelligence', 'Salesforce/Einstein Analytics', 'Birst', 'SAS Visual Analytics', 'Grafana', 'TIBCO Spotfire', 'Pentaho', 'Fazemos todas as análises utilizando apenas Excel ou planilhas do google', 'Não utilizo nenhuma ferramenta de BI no trabalho', 'Qual sua ferramenta de BI preferida?', 'Qual o tipo de uso de AI Generativa e LLMs na empresa', 'Colaboradores usando AI generativa de forma independente e descentralizada', 'Direcionamento centralizado do uso de AI generativa', 'Desenvolvedores utilizando Copilots', 'AI Generativa e LLMs para melhorar produtos externos para os clientes finais', 'AI Generativa e LLMs para melhorar produtos internos para os colaboradores', 'IA Generativa e LLMs como principal frente do negócio', 'IA Generativa e LLMs não é prioridade', 'Não sei opinar sobre o uso de IA Generativa e LLMs na empresa', 'Utiliza ChatGPT ou LLMs no trabalho?', 'Não uso soluções de AI Generativa com foco em produtividade', 'Uso soluções gratuitas de AI Generativa com foco em produtividade', 'Uso e pago pelas soluções de AI Generativa com foco em produtividade', 'A empresa que trabalho paga pelas soluções de AI Generativa com foco em produtividade', 'Uso soluções do tipo Copilot', 'Qual seu objetivo na área de dados?', 'Qual oportunidade você está buscando?', 'Há quanto tempo você busca uma oportunidade na área de dados?', 'Como tem sido a busca por um emprego na área de dados?', 'Quais das opções abaixo fazem parte da sua rotina no trabalho atual como engenheiro de dados?', 'Desenvolvo pipelines de dados utilizando linguagens de programação como Python, Scala, Java etc.', \"Realizo construções de ETL's em ferramentas como Pentaho, Talend, Dataflow etc.\", 'Crio consultas através da linguagem SQL para exportar informações e compartilhar com as áreas de negócio.', 'Atuo na integração de diferentes fontes de dados através de plataformas proprietárias como Stitch Data, Fivetran etc.', 'Modelo soluções de arquitetura de dados, criando componentes de ingestão de dados, transformação e recuperação da informação.', 'Desenvolvo/cuido da manutenção de repositórios de dados baseados em streaming de eventos como Data Lakes e Data Lakehouses.', 'Atuo na modelagem dos dados, com o objetivo de criar conjuntos de dados como Data Warehouses, Data Marts etc.', 'Cuido da qualidade dos dados, metadados e dicionário de dados.', 'Nenhuma das opções listadas refletem meu dia a dia.', 'Quais as ferramentas/tecnologias de ETL que você utiliza no trabalho como Data Engineer?', 'Scripts Python', 'SQL & Stored Procedures', 'Apache Airflow', 'Apache NiFi', 'Luigi', 'AWS Glue', 'Talend', 'Pentaho', 'Alteryx', 'Stitch', 'Fivetran', 'Google Dataflow', 'Oracle Data Integrator', 'IBM DataStage', 'SAP BW ETL', 'SAS Data Integration', 'Qlik Sense', 'Knime', 'Databricks', 'Não utilizo ferramentas de ETL', 'Sua organização possui um Data Lake?', 'Qual tecnologia utilizada como plataforma do Data Lake?', 'Sua organização possui um Data Warehouse?', 'Qual tecnologia utilizada como plataforma do Data Warehouse?', 'Quais as ferramentas de gestão de Qualidade de dados, Metadados e catálogo de dados você utiliza no trabalho?', 'Em qual das opções abaixo você gasta a maior parte do seu tempo?', 'Desenvolvendo pipelines de dados utilizando linguagens de programação como Python, Scala, Java etc.', \"Realizando construções de ETL's em ferramentas como Pentaho, Talend, Dataflow etc.\", 'Criando consultas através da linguagem SQL para exportar informações e compartilhar com as áreas de negócio.', 'Atuando na integração de diferentes fontes de dados através de plataformas proprietárias como Stitch Data, Fivetran etc.', 'Modelando soluções de arquitetura de dados, criando componentes de ingestão de dados, transformação e recuperação da informação.', 'Desenvolvendo/cuidando da manutenção de repositórios de dados baseados em streaming de eventos como Data Lakes e Data Lakehouses.', 'Atuando na modelagem dos dados, com o objetivo de criar conjuntos de dados como Data Warehouses, Data Marts etc.', 'Cuidando da qualidade dos dados, metadados e dicionário de dados.', 'Nenhuma das opções listadas refletem meu dia a dia.', 'Quais das opções abaixo fazem parte da sua rotina no trabalho atual com análise de dados?', 'Processo e analiso dados utilizando linguagens de programação como Python, R etc.', 'Realizo construções de dashboards em ferramentas de BI como PowerBI, Tableau, Looker, Qlik etc.', 'Crio consultas através da linguagem SQL para exportar informações e compartilhar com as áreas de negócio.', \"Utilizo API's para extrair dados e complementar minhas análises.\", 'Realizo experimentos e estudos utilizando metodologias estatísticas como teste de hipótese, modelos de regressão etc.', \"Desenvolvo/cuido da manutenção de ETL's utilizando tecnologias como Talend, Pentaho, Airflow, Dataflow etc.\", 'Atuo na modelagem dos dados, com o objetivo de criar conjuntos de dados, Data Warehouses, Data Marts etc.', 'Desenvolvo/cuido da manutenção de planilhas para atender as áreas de negócio.', 'Utilizo ferramentas avançadas de estatística como SASS, PSS, Stata etc', 'Nenhuma das opções listadas refletem meu dia a dia.', 'Quais as ferramentas/tecnologias de ETL que você utiliza no trabalho como Data Analyst?', 'Scripts Python', 'SQL & Stored Procedures', 'Apache Airflow', 'Apache NiFi', 'Luigi', 'AWS Glue', 'Talend', 'Pentaho', 'Alteryx', 'Stitch', 'Fivetran', 'Google Dataflow', 'Oracle Data Integrator', 'IBM DataStage', 'SAP BW ETL', 'SQL Server Integration Services (SSIS)', 'SAS Data Integration', 'Qlik Sense', 'Knime', 'Databricks', 'Não utilizo ferramentas de ETL', 'Sua empresa utiliza alguma das ferramentas listadas para dar mais autonomia em análise de dados para as áreas de negócio?', 'Ferramentas de AutoML como H2O.ai, Data Robot, BigML etc.', '\"\"Point and Click\"\" Analytics como Alteryx, Knime, Rapidminer etc.', 'Product metricts & Insights como Mixpanel, Amplitude, Adobe Analytics.', 'Ferramentas de análise dentro de ferramentas de CRM como Salesforce Einstein Anaytics ou Zendesk dashboards.', 'Minha empresa não utiliza essas ferramentas.', 'Não sei informar.', 'Em qual das opções abaixo você gasta a maior parte do seu tempo de trabalho?', 'Processando e analisando dados utilizando linguagens de programação como Python, R etc.', 'Realizando construções de dashboards em ferramentas de BI como PowerBI, Tableau, Looker, Qlik etc.', 'Criando consultas através da linguagem SQL para exportar informações e compartilhar com as áreas de negócio.', \"Utilizando API's para extrair dados e complementar minhas análises.\", 'Realizando experimentos e estudos utilizando metodologias estatísticas como teste de hipótese, modelos de regressão etc.', \"Desenvolvendo/cuidando da manutenção de ETL's utilizando tecnologias como Talend, Pentaho, Airflow, Dataflow etc.\", 'Atuando na modelagem dos dados, com o objetivo de criar conjuntos de dados, Data Warehouses, Data Marts etc.', 'Desenvolvendo/cuidando da manutenção de planilhas do Excel ou Google Sheets para atender as áreas de negócio.', 'Utilizando ferramentas avançadas de estatística como SAS, SPSS, Stata etc, para realizar análises.', 'Nenhuma das opções listadas refletem meu dia a dia.', 'Quais das opções abaixo fazem parte da sua rotina no trabalho atual com ciência de dados?', 'Estudos Ad-hoc com o objetivo de confirmar hipóteses, realizar modelos preditivos, forecasts, análise de cluster para resolver problemas pontuais e responder perguntas das áreas de negócio.', 'Sou responsável pela coleta e limpeza dos dados que uso para análise e modelagem.', 'Sou responsável por entrar em contato com os times de negócio para definição do problema, identificar a solução e apresentação de resultados.', 'Desenvolvo modelos de Machine Learning com o objetivo de colocar em produção em sistemas (produtos de dados).', 'Sou responsável por colocar modelos em produção, criar os pipelines de dados, APIs de consumo e monitoramento.', 'Cuido da manutenção de modelos de Machine Learning já em produção, atuando no monitoramento, ajustes e refatoração quando necessário.', 'Realizo construções de dashboards em ferramentas de BI como PowerBI, Tableau, Looker, Qlik, etc', 'Utilizo ferramentas avançadas de estatística como SAS, SPSS, Stata etc, para realizar análises estatísticas e ajustar modelos.', 'Crio e dou manutenção em ETLs, DAGs e automações de pipelines de dados.', 'Crio e gerencio soluções de Feature Store e cultura de MLOps.', 'Sou responsável por criar e manter a infra que meus modelos e soluções rodam (clusters, servidores, API, containers, etc.)', \"Treino e aplico LLM's para solucionar problemas de negócio.\", 'Quais as técnicas e métodos listados abaixo você costuma utilizar no trabalho?', 'Utilizo modelos de regressão (linear, logística, GLM)', 'Utilizo redes neurais ou modelos baseados em árvore para criar modelos de classificação', 'Desenvolvo sistemas de recomendação (RecSys)', 'Utilizo métodos estatísticos Bayesianos para analisar dados', 'Utilizo técnicas de NLP (Natural Language Processing) para análisar dados não-estruturados', 'Utilizo métodos estatísticos clássicos (Testes de hipótese, análise multivariada, sobrevivência, dados longitudinais, inferência estatistica) para analisar dados', \"Utilizo cadeias de Markov ou HMM's para realizar análises de dados\", 'Desenvolvo técnicas de Clusterização (K-means, Spectral, DBScan etc)', 'Realizo previsões através de modelos de Séries Temporais (Time Series)', 'Utilizo modelos de Reinforcement Learning (aprendizado por reforço)', 'Utilizo modelos de Machine Learning para detecção de fraude', 'Utilizo métodos de Visão Computacional', 'Utilizo modelos de Detecção de Churn', \"Utilizo LLM's para solucionar problemas de negócio\", 'Quais dessas tecnologias fazem parte do seu dia a dia como cientista de dados?', 'Ferramentas de BI (PowerBI, Looker, Tableau, Qlik etc)', 'Planilhas (Excel, Google Sheets etc)', 'Ambientes de desenvolvimento local (R-studio, JupyterLab, Anaconda)', 'Ambientes de desenvolvimento na nuvem (Google Colab, AWS Sagemaker, Kaggle Notebooks etc)', 'Ferramentas de AutoML (Datarobot, H2O, Auto-Keras etc)', 'Ferramentas de ETL (Apache Airflow, NiFi, Stitch, Fivetran, Pentaho etc)', 'Plataformas de Machine Learning (TensorFlow, Azure Machine Learning, Kubeflow etc)', 'Feature Store (Feast, Hopsworks, AWS Feature Store, Databricks Feature Store etc)', 'Sistemas de controle de versão (Github, DVC, Neptune, Gitlab etc)', 'Plataformas de Data Apps (Streamlit, Shiny, Plotly Dash etc)', 'Ferramentas de estatística avançada como SPSS, SAS, etc.', 'Em qual das opções abaixo você gasta a maior parte do seu tempo no trabalho?', 'Estudos Ad-hoc com o objetivo de confirmar hipóteses, realizar modelos preditivos, forecasts, análise de cluster para resolver problemas pontuais e responder perguntas das áreas de negócio.', 'Coletando e limpando os dados que uso para análise e modelagem.', 'Entrando em contato com os times de negócio para definição do problema, identificar a solução e apresentação de resultados.', 'Desenvolvendo modelos de Machine Learning com o objetivo de colocar em produção em sistemas (produtos de dados).', 'Colocando modelos em produção, criando os pipelines de dados, APIs de consumo e monitoramento.', 'Cuidando da manutenção de modelos de Machine Learning já em produção, atuando no monitoramento, ajustes e refatoração quando necessário.', 'Realizando construções de dashboards em ferramentas de BI como PowerBI, Tableau, Looker, Qlik, etc.', 'Utilizando ferramentas avançadas de estatística como SAS, SPSS, Stata etc, para realizar análises.', 'Criando e dando manutenção em ETLs, DAGs e automações de pipelines de dados.', 'Criando e gerenciando soluções de Feature Store e cultura de MLOps.', 'Criando e mantendo a infra que meus modelos e soluções rodam (clusters, servidores, API, containers, etc.)', \"Treinando e aplicando LLM's para solucionar problemas de negócio.\", 'SQL Server Integration Services (SSIS)'])"
      ]
     },
     "execution_count": 41,
     "metadata": {},
     "output_type": "execute_result"
    }
   ],
   "source": [
    "column_dict.values()"
   ]
  },
  {
   "cell_type": "code",
   "execution_count": 44,
   "id": "80b5f959",
   "metadata": {},
   "outputs": [],
   "source": [
    "def search_question(q):\n",
    "    for cod, question in column_dict.items(): \n",
    "        if question == q:\n",
    "            return cod\n",
    "    return None"
   ]
  },
  {
   "cell_type": "code",
   "execution_count": 12,
   "id": "4df214ff",
   "metadata": {},
   "outputs": [
    {
     "data": {
      "text/plain": [
       "('P2_h', 'P2_o_1')"
      ]
     },
     "execution_count": 12,
     "metadata": {},
     "output_type": "execute_result"
    }
   ],
   "source": [
    "faixa = search_question('Faixa salarial')\n",
    "valor = search_question('Remuneração/Salário')\n",
    "faixa, valor"
   ]
  },
  {
   "cell_type": "code",
   "execution_count": 42,
   "id": "ba795986",
   "metadata": {},
   "outputs": [
    {
     "data": {
      "text/plain": [
       "'P1_c'"
      ]
     },
     "execution_count": 42,
     "metadata": {},
     "output_type": "execute_result"
    }
   ],
   "source": [
    "cor = search_question('Cor/raca/etnia')\n",
    "cor"
   ]
  },
  {
   "cell_type": "code",
   "execution_count": 46,
   "id": "27816064",
   "metadata": {},
   "outputs": [
    {
     "data": {
      "text/plain": [
       "'P1_a'"
      ]
     },
     "execution_count": 46,
     "metadata": {},
     "output_type": "execute_result"
    }
   ],
   "source": [
    "idade = search_question('Idade')\n",
    "idade"
   ]
  },
  {
   "cell_type": "code",
   "execution_count": 47,
   "id": "2a255dc3",
   "metadata": {},
   "outputs": [
    {
     "data": {
      "text/plain": [
       "'P1_a_1'"
      ]
     },
     "execution_count": 47,
     "metadata": {},
     "output_type": "execute_result"
    }
   ],
   "source": [
    "f_idade = search_question('Faixa idade')\n",
    "f_idade"
   ]
  },
  {
   "cell_type": "code",
   "execution_count": 83,
   "id": "b617aabf",
   "metadata": {},
   "outputs": [
    {
     "data": {
      "text/plain": [
       "'P1_i_2'"
      ]
     },
     "execution_count": 83,
     "metadata": {},
     "output_type": "execute_result"
    }
   ],
   "source": [
    "col_regiao = search_question('Regiao onde mora')\n",
    "col_regiao"
   ]
  },
  {
   "cell_type": "code",
   "execution_count": null,
   "id": "9f612ab4",
   "metadata": {},
   "outputs": [],
   "source": []
  }
 ],
 "metadata": {
  "kernelspec": {
   "display_name": "Python 3 (ipykernel)",
   "language": "python",
   "name": "python3"
  },
  "language_info": {
   "codemirror_mode": {
    "name": "ipython",
    "version": 3
   },
   "file_extension": ".py",
   "mimetype": "text/x-python",
   "name": "python",
   "nbconvert_exporter": "python",
   "pygments_lexer": "ipython3",
   "version": "3.9.12"
  }
 },
 "nbformat": 4,
 "nbformat_minor": 5
}
