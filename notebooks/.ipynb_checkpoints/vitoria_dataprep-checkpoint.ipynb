{
 "cells": [
  {
   "cell_type": "code",
   "execution_count": 7,
   "id": "ac75a5d9",
   "metadata": {},
   "outputs": [],
   "source": [
    "import pandas as pd\n",
    "import re\n",
    "from transformers import pipeline\n",
    "import warnings\n",
    "warnings.filterwarnings(\"ignore\")"
   ]
  },
  {
   "cell_type": "code",
   "execution_count": 5,
   "id": "d053b02f",
   "metadata": {},
   "outputs": [],
   "source": [
    "df = pd.read_csv('../data/State_of_data_BR_2023_Kaggle - df_survey_2023.csv')"
   ]
  },
  {
   "cell_type": "code",
   "execution_count": 4,
   "id": "6dd5743c",
   "metadata": {},
   "outputs": [
    {
     "name": "stderr",
     "output_type": "stream",
     "text": [
      "No model was supplied, defaulted to distilbert/distilbert-base-uncased-finetuned-sst-2-english and revision af0f99b (https://huggingface.co/distilbert/distilbert-base-uncased-finetuned-sst-2-english).\n",
      "Using a pipeline without specifying a model name and revision in production is not recommended.\n"
     ]
    },
    {
     "data": {
      "text/plain": [
       "[{'label': 'POSITIVE', 'score': 0.997422456741333}]"
      ]
     },
     "execution_count": 4,
     "metadata": {},
     "output_type": "execute_result"
    }
   ],
   "source": [
    "# exemplo de análise de sentimento\n",
    "classifier = pipeline(\"sentiment-analysis\")\n",
    "classifier(\"Te amo!\")"
   ]
  },
  {
   "cell_type": "markdown",
   "id": "5fb6072a",
   "metadata": {},
   "source": [
    "## Columns dictionary"
   ]
  },
  {
   "cell_type": "code",
   "execution_count": 6,
   "id": "856101da",
   "metadata": {},
   "outputs": [
    {
     "data": {
      "text/plain": [
       "Index(['('P0', 'id')', '('P1_a ', 'Idade')', '('P1_a_1 ', 'Faixa idade')',\n",
       "       '('P1_b ', 'Genero')', '('P1_c ', 'Cor/raca/etnia')',\n",
       "       '('P1_d ', 'PCD')', '('P1_e ', 'experiencia_profissional_prejudicada')',\n",
       "       '('P1_e_1 ', 'Não acredito que minha experiência profissional seja afetada')',\n",
       "       '('P1_e_2 ', 'Experiencia prejudicada devido a minha Cor Raça Etnia')',\n",
       "       '('P1_e_3 ', 'Experiencia prejudicada devido a minha identidade de gênero')',\n",
       "       ...\n",
       "       '('P8_d_3 ', 'Entrando em contato com os times de negócio para definição do problema, identificar a solução e apresentação de resultados.')',\n",
       "       '('P8_d_4 ', 'Desenvolvendo modelos de Machine Learning com o objetivo de colocar em produção em sistemas (produtos de dados).')',\n",
       "       '('P8_d_5 ', 'Colocando modelos em produção, criando os pipelines de dados, APIs de consumo e monitoramento.')',\n",
       "       '('P8_d_6 ', 'Cuidando da manutenção de modelos de Machine Learning já em produção, atuando no monitoramento, ajustes e refatoração quando necessário.')',\n",
       "       '('P8_d_7 ', 'Realizando construções de dashboards em ferramentas de BI como PowerBI, Tableau, Looker, Qlik, etc.')',\n",
       "       '('P8_d_8 ', 'Utilizando ferramentas avançadas de estatística como SAS, SPSS, Stata etc, para realizar análises.')',\n",
       "       '('P8_d_9 ', 'Criando e dando manutenção em ETLs, DAGs e automações de pipelines de dados.')',\n",
       "       '('P8_d_10 ', 'Criando e gerenciando soluções de Feature Store e cultura de MLOps.')',\n",
       "       '('P8_d_11 ', 'Criando e mantendo a infra que meus modelos e soluções rodam (clusters, servidores, API, containers, etc.)')',\n",
       "       '('P8_d_12 ', 'Treinando e aplicando LLM's para solucionar problemas de negócio.')'],\n",
       "      dtype='object', length=399)"
      ]
     },
     "execution_count": 6,
     "metadata": {},
     "output_type": "execute_result"
    }
   ],
   "source": [
    "df.columns"
   ]
  },
  {
   "cell_type": "code",
   "execution_count": 18,
   "id": "e304974d",
   "metadata": {},
   "outputs": [
    {
     "name": "stdout",
     "output_type": "stream",
     "text": [
      "('P6_b_16 ', 'SQL Server Integration Services (SSIS))\n"
     ]
    }
   ],
   "source": [
    "# criando um dicionário com o número da pergunta e qual é a pergunta\n",
    "column_dict = {}\n",
    "\n",
    "for col in df.columns:\n",
    "\n",
    "    match = re.match(r\"\\('(.+?)', '(.+?)'\\)\", col)\n",
    "    if match:\n",
    "        cod, pergunta = match.groups()\n",
    "        column_dict[cod.replace(\" \", \"\")] = pergunta\n",
    "    else:\n",
    "        print(col)\n",
    "\n",
    "# print(column_dict)"
   ]
  },
  {
   "cell_type": "code",
   "execution_count": 19,
   "id": "edcb08af",
   "metadata": {},
   "outputs": [],
   "source": [
    "column_dict['P6_b_16']='SQL Server Integration Services (SSIS)'"
   ]
  },
  {
   "cell_type": "code",
   "execution_count": 20,
   "id": "74b08107",
   "metadata": {},
   "outputs": [],
   "source": [
    "df_treat = df.copy()\n",
    "df_treat.columns = list(column_dict.keys())"
   ]
  },
  {
   "cell_type": "code",
   "execution_count": 28,
   "id": "92a0c935",
   "metadata": {},
   "outputs": [
    {
     "data": {
      "text/plain": [
       "True"
      ]
     },
     "execution_count": 28,
     "metadata": {},
     "output_type": "execute_result"
    }
   ],
   "source": [
    "df_treat.P1_a.dtype=='int64'"
   ]
  },
  {
   "cell_type": "code",
   "execution_count": 29,
   "id": "8cd79a0b",
   "metadata": {},
   "outputs": [],
   "source": [
    "# colunas categóricas\n",
    "cat_cols = [col for col in df_treat.columns if df_treat[col].dtype=='O']\n",
    "\n",
    "# colunas numéricas\n",
    "num_cols = [col for col in df_treat.columns if df_treat[col].dtype=='int64' or df_treat[col].dtype=='float64']"
   ]
  },
  {
   "cell_type": "code",
   "execution_count": 31,
   "id": "62981f5b",
   "metadata": {},
   "outputs": [
    {
     "data": {
      "text/plain": [
       "[]"
      ]
     },
     "execution_count": 31,
     "metadata": {},
     "output_type": "execute_result"
    }
   ],
   "source": [
    "# faltou alguma?\n",
    "[x for x in df_treat.columns if x not in cat_cols and x not in num_cols]"
   ]
  },
  {
   "cell_type": "code",
   "execution_count": null,
   "id": "c00dd807",
   "metadata": {},
   "outputs": [],
   "source": []
  }
 ],
 "metadata": {
  "kernelspec": {
   "display_name": "Python 3 (ipykernel)",
   "language": "python",
   "name": "python3"
  },
  "language_info": {
   "codemirror_mode": {
    "name": "ipython",
    "version": 3
   },
   "file_extension": ".py",
   "mimetype": "text/x-python",
   "name": "python",
   "nbconvert_exporter": "python",
   "pygments_lexer": "ipython3",
   "version": "3.9.12"
  }
 },
 "nbformat": 4,
 "nbformat_minor": 5
}
