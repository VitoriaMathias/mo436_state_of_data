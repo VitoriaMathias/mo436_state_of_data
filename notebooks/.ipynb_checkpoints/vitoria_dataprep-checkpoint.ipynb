{
 "cells": [
  {
   "cell_type": "code",
   "execution_count": 1,
   "id": "ac75a5d9",
   "metadata": {},
   "outputs": [
    {
     "name": "stderr",
     "output_type": "stream",
     "text": [
      "None of PyTorch, TensorFlow >= 2.0, or Flax have been found. Models won't be available and only tokenizers, configuration and file/data utilities can be used.\n"
     ]
    }
   ],
   "source": [
    "import pandas as pd\n",
    "from transformers import pipeline"
   ]
  },
  {
   "cell_type": "code",
   "execution_count": 2,
   "id": "d053b02f",
   "metadata": {},
   "outputs": [],
   "source": [
    "df = pd.read_csv('../data/State_of_data_BR_2023_Kaggle - df_survey_2023.csv')"
   ]
  },
  {
   "cell_type": "code",
   "execution_count": 4,
   "id": "6dd5743c",
   "metadata": {},
   "outputs": [],
   "source": [
    "# classifier = pipeline(\"sentiment-analysis\")\n",
    "# classifier(\"Te amo!\")"
   ]
  },
  {
   "cell_type": "code",
   "execution_count": null,
   "id": "1a7c4d34",
   "metadata": {},
   "outputs": [],
   "source": []
  }
 ],
 "metadata": {
  "kernelspec": {
   "display_name": "Python 3 (ipykernel)",
   "language": "python",
   "name": "python3"
  },
  "language_info": {
   "codemirror_mode": {
    "name": "ipython",
    "version": 3
   },
   "file_extension": ".py",
   "mimetype": "text/x-python",
   "name": "python",
   "nbconvert_exporter": "python",
   "pygments_lexer": "ipython3",
   "version": "3.9.12"
  }
 },
 "nbformat": 4,
 "nbformat_minor": 5
}
